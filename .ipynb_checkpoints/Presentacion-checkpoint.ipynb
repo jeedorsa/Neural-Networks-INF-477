{
 "cells": [
  {
   "cell_type": "markdown",
   "metadata": {},
   "source": [
    "##  <center> TAREA 1 <br><img src=\"http://www.exalumnos.usm.cl/wp-content/uploads/2015/06/MARCA-Color.jpg\" title=\"Title text\" width=\"20%\" height=\"15%\" /><br>Andrea Carolina Reales Villalba -- Jesus Eduardo Ortiz Sandoval <BR>INF 477 REDES NEURONALES </center>\n"
   ]
  },
  {
   "cell_type": "markdown",
   "metadata": {},
   "source": [
    "<div class=text-justify><h2><b>Primer punto <br></h2>\n",
    "    En esta primera parte del desarrollo de la tarea, encontramos un <b>\"approach\"</b> muy interesante a la estructuración y programacion de ANN en computadpras. En primera instancia observamos todo lo referente a los tipos de datos, la estructuracion de un dataframe, las funciones de <b> SPLIT, NORMALIZACIÓN, PREPROCESAMIENTO, etc. <br></b>\n",
    " El primer dato de relevancia que encontramos es los cantidad de datos, y como fueron divididos para realizar todos los procesos: <br><br>\n",
    "    Total muestras entrenamiento: 9745 <br>\n",
    "    Total muestras validación: 4060  <br>\n",
    "    Total muestras testeo: 2437   <br><hr>\n",
    "    Es bueno hacer unas acotaciones del primer punto del trabajo:<br>\n",
    "    <ul>\n",
    "<li>Librerias Juntas</li>\n",
    "<li>Eliminación de Columnas</li>\n",
    "        <li><font color=red><b>60-25-15</FONT></B></li>\n",
    "</ul> \n",
    "    <hr>\n",
    " Podemos afirmar positivamente que el objetivo de este punto es el de hacer un analisis de sensibilidad a los parametros y funciones que son utilizadas para el entrenamiento de una arquitectura neuronal de multiples capas, consecuentemente y secuencialmente los parametros que sera evaluados son los siguientes:<br>\n",
    "    <ul>\n",
    "        <li><b><font color=blue>Función de activacion * (ReLU-SIGMOIDAL)</font></b></li>\n",
    "        <li><b>Learning Rate</b></li>\n",
    "    </ul>\n",
    "    </div>\n",
    " "
   ]
  },
  {
   "cell_type": "code",
   "execution_count": null,
   "metadata": {},
   "outputs": [],
   "source": []
  }
 ],
 "metadata": {
  "kernelspec": {
   "display_name": "Python 3",
   "language": "python",
   "name": "python3"
  },
  "language_info": {
   "codemirror_mode": {
    "name": "ipython",
    "version": 3
   },
   "file_extension": ".py",
   "mimetype": "text/x-python",
   "name": "python",
   "nbconvert_exporter": "python",
   "pygments_lexer": "ipython3",
   "version": "3.6.6"
  }
 },
 "nbformat": 4,
 "nbformat_minor": 2
}
