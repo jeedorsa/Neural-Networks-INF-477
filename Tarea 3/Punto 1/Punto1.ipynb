{
  "nbformat": 4,
  "nbformat_minor": 0,
  "metadata": {
    "colab": {
      "name": "PUNTO1.ipynb",
      "version": "0.3.2",
      "provenance": [],
      "collapsed_sections": []
    },
    "kernelspec": {
      "name": "python3",
      "display_name": "Python 3"
    },
    "accelerator": "GPU"
  },
  "cells": [
    {
      "metadata": {
        "id": "Z_F5DTvKgMNT",
        "colab_type": "text"
      },
      "cell_type": "markdown",
      "source": [
        "##  <center> REDES RECURRENTES SOBRE TEXTO  <br><img src=\"http://www.exalumnos.usm.cl/wp-content/uploads/2015/06/MARCA-Color.jpg\" title=\"Title text\" width=\"20%\" height=\"15%\" /><br>Andrea Carolina Reales Villalba -- Jesus Eduardo Ortiz Sandoval <BR>Punto 1 </center>"
      ]
    },
    {
      "metadata": {
        "id": "6ESxgOKMgVmK",
        "colab_type": "text"
      },
      "cell_type": "markdown",
      "source": [
        "Hoy en dı́a, una aplicación relevante de las redes neuronales recurrentes es el modelamiento de texto y lenguaje natural. En esta sección abordaremos el problema de procesar sentencias de texto, proporcionadas por GMB (*Groningen Meaning Bank*), para reconocimiento de entidades y tagger. En específico, trabajaremos con el dataset proprocionado a través de __[Kaggle](https://www.kaggle.com/abhinavwalia95/entity-annotated-corpus)__, que está compuesto por más de un millón de palabras, a fin de realizar predicciones sobre distintas tareas del tipo *many to many* y *many to one*.\n",
        "\n",
        "<img src=\"https://i.stack.imgur.com/b4sus.jpg\" width=\"70%\" />\n",
        "\n",
        "\n",
        "Descargue los datos de la página de Kaggle y cárguelos mediante *pandas*."
      ]
    },
    {
      "metadata": {
        "colab_type": "code",
        "id": "8fPwjk8Ytdsx",
        "colab": {}
      },
      "cell_type": "code",
      "source": [
        "import pandas as pd\n",
        "import numpy as np\n",
        "import re, os, sys\n",
        "import matplotlib.pyplot as plt\n",
        "import seaborn as sns"
      ],
      "execution_count": 0,
      "outputs": []
    },
    {
      "metadata": {
        "id": "aUn4qYAAqsrp",
        "colab_type": "code",
        "outputId": "3c457e4a-0b45-4285-b0eb-57254a37ea10",
        "colab": {
          "base_uri": "https://localhost:8080/",
          "height": 36
        }
      },
      "cell_type": "code",
      "source": [
        "from google.colab import drive\n",
        "drive.mount('/content/gdrive')"
      ],
      "execution_count": 35,
      "outputs": [
        {
          "output_type": "stream",
          "text": [
            "Drive already mounted at /content/gdrive; to attempt to forcibly remount, call drive.mount(\"/content/gdrive\", force_remount=True).\n"
          ],
          "name": "stdout"
        }
      ]
    },
    {
      "metadata": {
        "colab_type": "code",
        "id": "X5mvzXFsuhRQ",
        "outputId": "3d6dfa23-ce5c-4390-9417-791808b8abd8",
        "colab": {
          "base_uri": "https://localhost:8080/",
          "height": 36
        }
      },
      "cell_type": "code",
      "source": [
        "df_ner=pd.read_csv('gdrive/My Drive/Colab Notebooks/ner.csv', encoding =\"cp1252\", error_bad_lines=False)\n",
        "df_ner.dropna(inplace=True)"
      ],
      "execution_count": 36,
      "outputs": [
        {
          "output_type": "stream",
          "text": [
            "b'Skipping line 281837: expected 25 fields, saw 34\\n'\n"
          ],
          "name": "stderr"
        }
      ]
    },
    {
      "metadata": {
        "id": "uAZARaY8w6b8",
        "colab_type": "code",
        "outputId": "7958a5a4-9476-40ca-dedf-eb2c7a1960fc",
        "colab": {
          "base_uri": "https://localhost:8080/",
          "height": 579
        }
      },
      "cell_type": "code",
      "source": [
        "df_ner.info()"
      ],
      "execution_count": 0,
      "outputs": [
        {
          "output_type": "stream",
          "text": [
            "<class 'pandas.core.frame.DataFrame'>\n",
            "Int64Index: 1050794 entries, 0 to 1050794\n",
            "Data columns (total 25 columns):\n",
            "Unnamed: 0         1050794 non-null int64\n",
            "lemma              1050794 non-null object\n",
            "next-lemma         1050794 non-null object\n",
            "next-next-lemma    1050794 non-null object\n",
            "next-next-pos      1050794 non-null object\n",
            "next-next-shape    1050794 non-null object\n",
            "next-next-word     1050794 non-null object\n",
            "next-pos           1050794 non-null object\n",
            "next-shape         1050794 non-null object\n",
            "next-word          1050794 non-null object\n",
            "pos                1050794 non-null object\n",
            "prev-iob           1050794 non-null object\n",
            "prev-lemma         1050794 non-null object\n",
            "prev-pos           1050794 non-null object\n",
            "prev-prev-iob      1050794 non-null object\n",
            "prev-prev-lemma    1050794 non-null object\n",
            "prev-prev-pos      1050794 non-null object\n",
            "prev-prev-shape    1050794 non-null object\n",
            "prev-prev-word     1050794 non-null object\n",
            "prev-shape         1050794 non-null object\n",
            "prev-word          1050794 non-null object\n",
            "sentence_idx       1050794 non-null float64\n",
            "shape              1050794 non-null object\n",
            "word               1050794 non-null object\n",
            "tag                1050794 non-null object\n",
            "dtypes: float64(1), int64(1), object(23)\n",
            "memory usage: 208.4+ MB\n"
          ],
          "name": "stdout"
        }
      ]
    },
    {
      "metadata": {
        "colab_type": "text",
        "id": "8i229vulu5r-"
      },
      "cell_type": "markdown",
      "source": [
        "En este caso tenemos un dataset con un peso de 125 MB, hemos subido este archivo a nuestro Drive para poder hacer la conexión con el colaboratory y cargarlo directamente, se tiene que colocar las palabras de configuracion en la lectura del csv ya que encontramos campos vacios o que no serian reconocidos por la función de carga del programa.\n",
        "\n",
        "Antes de comenzar la explicación de la tarea, basado en la sustentación que tuvimos el dia 21 de agosto, encontramos que teniamos algunas diferencias con los resultados de los compañeros, aunque hubieramos querido tener un poco mas de tiempo para poder hacer implementaciones de todo lo visto y comparar con lo que tenemos nosotros por motivos de fuerza mayor no logramos hacerlo. \n",
        "\n",
        "Vamos a dejar la construcción con el mismo número de labels, intentamos tomar diferentes filas pero siempre obtuvimos 41 labels, no sabemos en que estamos fallando pero si vemos el resultado podemos afirmar que tambin hay algo que esta trabajando bien, por que la metrica es buena y cuando hicimos la ultima parte de componer texto logramos tener resultados, tal vez se debe a nuestra falta de experiencia en esta disciplina o un error que seria logicamente infimo, un cambio que a nuestro parecer es interesante es que en pruebas que teniamos con 17 labels el resultado del padding utilizando pre es muy inferior comparado con post, en este momento hicimos simulaciones nuevamente y comparando y encontramos que Pre es mejor que post pero no por mucho, solo aproximadamente 3 puntos de score, vamos a dejar algunas pruebas con Pre y otras con Post para poder discutir los resultados y ver si al final con la sintonización de los parametros esta diferencia se mantiene, aumenta o disminuye.\n",
        "\n",
        "La otra observación que nos hicieron y que si queremos hacer cambios es en la metrica de evaluacion de los modelos, nosotros unicamente estabamos trabajando con Micro, honestamente no habiamos comprendido muy bien como funcionaba esta metrica, y nos hicieron observaciónes que esta metrica no era muy adecuada para trabajarla con este tipo de problema por la distribución que tienen las etiquetas y que no estan distribuidas de una manera constante, hicimos pruebas con las otras  metricas que se comentan que efectivamente pueden trabajar  con las caracteristicas de este set de datos."
      ]
    },
    {
      "metadata": {
        "colab_type": "text",
        "id": "935uNKKvteHC"
      },
      "cell_type": "markdown",
      "source": [
        "a) En esta primera instancia trabajaremos con la tarea de realizar un NER *tag* (**Named Entity Recognition**) sobre cada una de las palabras en las sentencias que se nos presenta en los datos. Esta tarea es del tipo *many to many*, es decir, la entrada es una secuencia y la salida es una secuencia, sin *shift*, por lo que necesitaremos una estructura de red adecuada a ésto. En primer lugar extraiga las columnas que utilizaremos del dataset **¿Por qué es conveniente utilizar *lemma* en vez de la palabra misma *word*?**"
      ]
    },
    {
      "metadata": {
        "colab_type": "code",
        "id": "C6F-k3HMtfmJ",
        "outputId": "5f102589-98bd-4896-f9a4-ffde19f4c9b6",
        "colab": {
          "base_uri": "https://localhost:8080/",
          "height": 206
        }
      },
      "cell_type": "code",
      "source": [
        "dataset = df_ner.loc[:,[\"lemma\",\"word\",\"pos\",\"tag\",\"prev-iob\"]]\n",
        "dataset.head()"
      ],
      "execution_count": 4,
      "outputs": [
        {
          "output_type": "execute_result",
          "data": {
            "text/html": [
              "<div>\n",
              "<style scoped>\n",
              "    .dataframe tbody tr th:only-of-type {\n",
              "        vertical-align: middle;\n",
              "    }\n",
              "\n",
              "    .dataframe tbody tr th {\n",
              "        vertical-align: top;\n",
              "    }\n",
              "\n",
              "    .dataframe thead th {\n",
              "        text-align: right;\n",
              "    }\n",
              "</style>\n",
              "<table border=\"1\" class=\"dataframe\">\n",
              "  <thead>\n",
              "    <tr style=\"text-align: right;\">\n",
              "      <th></th>\n",
              "      <th>lemma</th>\n",
              "      <th>word</th>\n",
              "      <th>pos</th>\n",
              "      <th>tag</th>\n",
              "      <th>prev-iob</th>\n",
              "    </tr>\n",
              "  </thead>\n",
              "  <tbody>\n",
              "    <tr>\n",
              "      <th>0</th>\n",
              "      <td>thousand</td>\n",
              "      <td>Thousands</td>\n",
              "      <td>NNS</td>\n",
              "      <td>O</td>\n",
              "      <td>__START1__</td>\n",
              "    </tr>\n",
              "    <tr>\n",
              "      <th>1</th>\n",
              "      <td>of</td>\n",
              "      <td>of</td>\n",
              "      <td>IN</td>\n",
              "      <td>O</td>\n",
              "      <td>O</td>\n",
              "    </tr>\n",
              "    <tr>\n",
              "      <th>2</th>\n",
              "      <td>demonstr</td>\n",
              "      <td>demonstrators</td>\n",
              "      <td>NNS</td>\n",
              "      <td>O</td>\n",
              "      <td>O</td>\n",
              "    </tr>\n",
              "    <tr>\n",
              "      <th>3</th>\n",
              "      <td>have</td>\n",
              "      <td>have</td>\n",
              "      <td>VBP</td>\n",
              "      <td>O</td>\n",
              "      <td>O</td>\n",
              "    </tr>\n",
              "    <tr>\n",
              "      <th>4</th>\n",
              "      <td>march</td>\n",
              "      <td>marched</td>\n",
              "      <td>VBN</td>\n",
              "      <td>O</td>\n",
              "      <td>O</td>\n",
              "    </tr>\n",
              "  </tbody>\n",
              "</table>\n",
              "</div>"
            ],
            "text/plain": [
              "      lemma           word  pos tag    prev-iob\n",
              "0  thousand      Thousands  NNS   O  __START1__\n",
              "1        of             of   IN   O           O\n",
              "2  demonstr  demonstrators  NNS   O           O\n",
              "3      have           have  VBP   O           O\n",
              "4     march        marched  VBN   O           O"
            ]
          },
          "metadata": {
            "tags": []
          },
          "execution_count": 4
        }
      ]
    },
    {
      "metadata": {
        "id": "yt03KqZtxML6",
        "colab_type": "code",
        "outputId": "674fc452-b076-47bf-a671-50f762389f6c",
        "colab": {
          "base_uri": "https://localhost:8080/",
          "height": 206
        }
      },
      "cell_type": "code",
      "source": [
        "dataset = df_ner.loc[:,[\"lemma\",\"pos\",\"tag\",\"prev-iob\"]]\n",
        "dataset.head()"
      ],
      "execution_count": 37,
      "outputs": [
        {
          "output_type": "execute_result",
          "data": {
            "text/html": [
              "<div>\n",
              "<style scoped>\n",
              "    .dataframe tbody tr th:only-of-type {\n",
              "        vertical-align: middle;\n",
              "    }\n",
              "\n",
              "    .dataframe tbody tr th {\n",
              "        vertical-align: top;\n",
              "    }\n",
              "\n",
              "    .dataframe thead th {\n",
              "        text-align: right;\n",
              "    }\n",
              "</style>\n",
              "<table border=\"1\" class=\"dataframe\">\n",
              "  <thead>\n",
              "    <tr style=\"text-align: right;\">\n",
              "      <th></th>\n",
              "      <th>lemma</th>\n",
              "      <th>pos</th>\n",
              "      <th>tag</th>\n",
              "      <th>prev-iob</th>\n",
              "    </tr>\n",
              "  </thead>\n",
              "  <tbody>\n",
              "    <tr>\n",
              "      <th>0</th>\n",
              "      <td>thousand</td>\n",
              "      <td>NNS</td>\n",
              "      <td>O</td>\n",
              "      <td>__START1__</td>\n",
              "    </tr>\n",
              "    <tr>\n",
              "      <th>1</th>\n",
              "      <td>of</td>\n",
              "      <td>IN</td>\n",
              "      <td>O</td>\n",
              "      <td>O</td>\n",
              "    </tr>\n",
              "    <tr>\n",
              "      <th>2</th>\n",
              "      <td>demonstr</td>\n",
              "      <td>NNS</td>\n",
              "      <td>O</td>\n",
              "      <td>O</td>\n",
              "    </tr>\n",
              "    <tr>\n",
              "      <th>3</th>\n",
              "      <td>have</td>\n",
              "      <td>VBP</td>\n",
              "      <td>O</td>\n",
              "      <td>O</td>\n",
              "    </tr>\n",
              "    <tr>\n",
              "      <th>4</th>\n",
              "      <td>march</td>\n",
              "      <td>VBN</td>\n",
              "      <td>O</td>\n",
              "      <td>O</td>\n",
              "    </tr>\n",
              "  </tbody>\n",
              "</table>\n",
              "</div>"
            ],
            "text/plain": [
              "      lemma  pos tag    prev-iob\n",
              "0  thousand  NNS   O  __START1__\n",
              "1        of   IN   O           O\n",
              "2  demonstr  NNS   O           O\n",
              "3      have  VBP   O           O\n",
              "4     march  VBN   O           O"
            ]
          },
          "metadata": {
            "tags": []
          },
          "execution_count": 37
        }
      ]
    },
    {
      "metadata": {
        "colab_type": "text",
        "id": "7hmrYMSrv65W"
      },
      "cell_type": "markdown",
      "source": [
        "Lo que sucede es que en NLP es necesario hacer un prepreocesamiento de los textos para poder agruparlos y que trabajen de manera correcta, el lemma es una forma de procesamiento de las palabras que hace el analisis morfologico de las palabras y busca su forma mas general pero que siga conteniendo el significado, entonces utilizamos esa columna y nos ahorramos un paso de procesamiento de texto.  En este caso cargamos de dos formas distintar el set de datos, lo realizamos de esta forma por que en un momento nos genero demasiado problemas quedando fuera de memoria o muriendo el kernel.\n",
        "\n",
        "\n",
        "---\n",
        "\n"
      ]
    },
    {
      "metadata": {
        "colab_type": "text",
        "id": "UNFVS2yrwh2c"
      },
      "cell_type": "markdown",
      "source": [
        "Luego de esto cree una estructura que contendrá todas las sentencias u oraciones y otra estructura que contendrá los las etiquetas (tags), esto es un arreglo de arreglos de lemmas y un arreglo de arreglos de tags respectivamente. **¿Cuales son las dimensiones de ambas estructuras? ¿Cada dato de ejemplo tiene las mismas dimensiones que el resto?**"
      ]
    },
    {
      "metadata": {
        "id": "vqmVZffCyjWj",
        "colab_type": "code",
        "colab": {}
      },
      "cell_type": "code",
      "source": [
        "sentence = []\n",
        "labels_sentence = []\n",
        "dataX,dataY = [],[]\n",
        "#uniques\n",
        "lemmas,labels = set(), set()\n",
        "\n",
        "for fila in dataset.values:\n",
        "    if fila[-1]==\"__START1__\": \n",
        "        dataX.append(np.asarray(sentence))\n",
        "        dataY.append(np.asarray(labels_sentence))\n",
        "        sentence = []\n",
        "        labels_sentence = []\n",
        "    lemmas.add(fila[0])\n",
        "    labels.add(fila[1])\n",
        "    sentence.append(fila[0])#add lemma\n",
        "    labels_sentence.append(fila[1]) #POS o TAG\n",
        "#data to  array\n",
        "dataX = np.asarray(dataX[1:])\n",
        "dataY = np.asarray(dataY[1:])"
      ],
      "execution_count": 0,
      "outputs": []
    },
    {
      "metadata": {
        "id": "MbzffvpIAcT6",
        "colab_type": "text"
      },
      "cell_type": "markdown",
      "source": [
        "En esta sección de codigo es donde creemos esta el error o algun procedimiento mal, ya que muchos compañeros extrajeron 17 labels y nosotros 41, en un primer instante nosotros habiamos extraido 17, pero teniamos problemas de Memory error, y solo lograbamos utilizar los primeros 200.000 valores referentes a todo el set de entrenamiento, cuando eliminamos la columna words, que en realidad no tiene ningun impacto real sobre todo el ejercicio pasamos a extraer 41 caracteristicas sin el problema de memoria, despues de la exposición volvimos  a hacer la prueba e inmediatamente teniamos un error de kernel, y se cerraba el colaboratory, vamos a seguir manejando con los Tags, y evaluaremos los resultados obtenidos para poder comprender si efectivamente hay alguna diferencia al trabajar solo con esta herramienta."
      ]
    },
    {
      "metadata": {
        "id": "W-YM46cfqYef",
        "colab_type": "code",
        "outputId": "fead565f-f292-4f64-f5cf-5863a1233a56",
        "colab": {
          "base_uri": "https://localhost:8080/",
          "height": 92
        }
      },
      "cell_type": "code",
      "source": [
        "print(\"Cantidad labels: \", len(labels))\n",
        "print(\"Cantidad lemmas: \", len(lemmas))\n",
        "print(\"Tamaño matriz de lemmas: \", dataX.shape)\n",
        "print(\"Tamaño matriz de labels: \", dataY.shape)"
      ],
      "execution_count": 39,
      "outputs": [
        {
          "output_type": "stream",
          "text": [
            "Cantidad labels:  41\n",
            "Cantidad lemmas:  20243\n",
            "Tamaño matriz de lemmas:  (48081,)\n",
            "Tamaño matriz de labels:  (48081,)\n"
          ],
          "name": "stdout"
        }
      ]
    },
    {
      "metadata": {
        "id": "11JFyEg8qYes",
        "colab_type": "code",
        "colab": {}
      },
      "cell_type": "code",
      "source": [
        "from keras.preprocessing import sequence\n",
        "from keras.utils import to_categorical\n",
        "from sklearn.model_selection import train_test_split\n",
        "from keras.models import Sequential\n",
        "from keras.layers import LSTM, Embedding, Dense, Dropout\n",
        "from sklearn.metrics import f1_score\n",
        "from keras.layers import Bidirectional\n",
        "import random,sys\n",
        "from keras.callbacks import LambdaCallback\n",
        "from keras.layers import Dropout"
      ],
      "execution_count": 0,
      "outputs": []
    },
    {
      "metadata": {
        "id": "wTFwbbrtqYe7",
        "colab_type": "text"
      },
      "cell_type": "markdown",
      "source": [
        "Mantenemos la carga de las librerias despues del pre-procesamiento para no sobrecargar el laboratory evitar la perida de información por cierres inesperados del programa."
      ]
    },
    {
      "metadata": {
        "id": "REz8NNe1qYfm",
        "colab_type": "text"
      },
      "cell_type": "markdown",
      "source": [
        "b) Estudie la distribución del largo de los textos a procesar. Estudie también la frecuencia con la que aparecen las palabras en todo el dataset. **¿Se observa una ley Zipf?**[[1]](#refs) Realice un gráfico de la cantidad de datos por clase. Comente."
      ]
    },
    {
      "metadata": {
        "id": "aLW6cihjqYfr",
        "colab_type": "code",
        "outputId": "718094c9-2803-4989-be28-b384f2f682c2",
        "colab": {
          "base_uri": "https://localhost:8080/",
          "height": 514
        }
      },
      "cell_type": "code",
      "source": [
        "phrases_len = []\n",
        "for row in dataX:\n",
        "    phrases_len.append(len(row))\n",
        "\n",
        "plt.figure(figsize=(15,7))\n",
        "plt.subplot(121)\n",
        "plt.hist(phrases_len, bins=40)\n",
        "plt.xlabel(\"Largo de textos\")\n",
        "plt.ylabel(\"Numero de filas\")\n",
        "plt.title(\"Distribucion de largo de textos\")\n",
        "plt.subplot(122)\n",
        "sns.boxplot(phrases_len, labels=[\"Matriz frases\"],orient='v')\n",
        "plt.title(\"Boxplot largo frases\")\n",
        "plt.show()"
      ],
      "execution_count": 41,
      "outputs": [
        {
          "output_type": "stream",
          "text": [
            "/usr/local/lib/python3.6/dist-packages/seaborn/categorical.py:454: FutureWarning: remove_na is deprecated and is a private function. Do not use.\n",
            "  box_data = remove_na(group_data)\n"
          ],
          "name": "stderr"
        },
        {
          "output_type": "display_data",
          "data": {
            "image/png": "[encoded data removed]",
            "text/plain": [
              "<matplotlib.figure.Figure at 0x7fd79e843470>"
            ]
          },
          "metadata": {
            "tags": []
          }
        }
      ]
    },
    {
      "metadata": {
        "id": "IxQybNb9M1Nv",
        "colab_type": "text"
      },
      "cell_type": "markdown",
      "source": [
        "Aca hacemos el analisis del largo de textos en la figura de la derecha contra el numero filas, observamos que hay una distribución mayor orientada a un largo de textos aproximado en el intervalo de 20-30, en el largo de las grases observamos que la gran mayoria de los datos s eubican hasta 28 palabras, esta es una herramienta para posteriormente hacer la elección de padding adecuada."
      ]
    },
    {
      "metadata": {
        "id": "8K9aQFMnk6JN",
        "colab_type": "code",
        "colab": {
          "base_uri": "https://localhost:8080/",
          "height": 395
        },
        "outputId": "a248369d-44af-400a-b033-76aa77bcd7c0"
      },
      "cell_type": "code",
      "source": [
        "phrases_len = []\n",
        "word_count = dict()\n",
        "for row in dataX:\n",
        "    phrases_len.append(len(row))\n",
        "    for word in row:\n",
        "        if word not in word_count:\n",
        "            word_count[word] = 0\n",
        "        word_count[word] += 1\n",
        "\n",
        "freq = sorted(list(word_count.values()), reverse = True)\n",
        "oneOverN = 1/np.arange(1, len(freq)+1)\n",
        "plt.plot(oneOverN, freq)\n",
        "plt.xlabel(\"$\\\\dfrac{1}{n}$\")\n",
        "plt.ylabel(\"Frequency of nth word\")\n",
        "plt.title(\"$P_n$ vs $ \\\\dfrac{1}{n} $\")\n",
        "plt.show()"
      ],
      "execution_count": 84,
      "outputs": [
        {
          "output_type": "display_data",
          "data": {
            "image/png": "[encoded data removed]",
            "text/plain": [
              "<matplotlib.figure.Figure at 0x7fd7ec475f98>"
            ]
          },
          "metadata": {
            "tags": []
          }
        }
      ]
    },
    {
      "metadata": {
        "id": "GpE-bNkGqYf1",
        "colab_type": "text"
      },
      "cell_type": "markdown",
      "source": [
        "c) Es necesario transformar los textos para que puedan ser entregados apropiadamente a la red, por lo que será necesario crear una función que codifique cada posible *lemma* a un número y cada posible *tag* a otro número, utilice esta función sobre las sentencias y *tags* ya generados. **Mida cual es el largo máximo de entre todas las sentencias, la cantidad de *lemmas* y etiquetas**. Además de esto, debido al largo distinto de las sentencias se deberá **realizar *padding* para estandarizar el largo**, considere algun carácter especial para codificar el espacio en blanco que luego se le deberá rellenar, por ejemplo si el largo máximo es de 4 y se tiene la sentencia \"the rocket\" codificada como [32,4] será necesario agregar un *lemma* que codificado significará el fin de la sentencia \"the rocket *ENDPAD ENDPAD*\" que codificado quedará como [32,4,*0, 0*]."
      ]
    },
    {
      "metadata": {
        "id": "YbEnZLr9qYf6",
        "colab_type": "code",
        "colab": {}
      },
      "cell_type": "code",
      "source": [
        "lemma2idx = {w: i for i, w in enumerate(lemmas)} #Converting text to numbers\n",
        "lab2idx = {t: i for i, t in enumerate(labels)}\n",
        "dataX = [[lemma2idx[lemma] for lemma in sentence ] for sentence in dataX]\n",
        "dataY = [[lab2idx[ner] for ner in ner_tags ] for ner_tags in dataY]\n",
        "n_lemmas = len(lemmas)\n",
        "n_labels = len(labels)"
      ],
      "execution_count": 0,
      "outputs": []
    },
    {
      "metadata": {
        "id": "c_zQuBexPQuD",
        "colab_type": "text"
      },
      "cell_type": "markdown",
      "source": [
        "Cantidad de Lemmas"
      ]
    },
    {
      "metadata": {
        "id": "nBPpMaUgO2sU",
        "colab_type": "code",
        "colab": {
          "base_uri": "https://localhost:8080/",
          "height": 36
        },
        "outputId": "77d47f53-f061-4611-e2b6-8933b33502ec"
      },
      "cell_type": "code",
      "source": [
        "n_lemmas"
      ],
      "execution_count": 43,
      "outputs": [
        {
          "output_type": "execute_result",
          "data": {
            "text/plain": [
              "20243"
            ]
          },
          "metadata": {
            "tags": []
          },
          "execution_count": 43
        }
      ]
    },
    {
      "metadata": {
        "id": "heLW7T-KPTWF",
        "colab_type": "text"
      },
      "cell_type": "markdown",
      "source": [
        "Cantidad de etiquetas"
      ]
    },
    {
      "metadata": {
        "id": "DE7SAAUqO46l",
        "colab_type": "code",
        "colab": {
          "base_uri": "https://localhost:8080/",
          "height": 36
        },
        "outputId": "7b94d049-a35e-4abf-d8f7-5863fd9739db"
      },
      "cell_type": "code",
      "source": [
        "n_labels"
      ],
      "execution_count": 44,
      "outputs": [
        {
          "output_type": "execute_result",
          "data": {
            "text/plain": [
              "41"
            ]
          },
          "metadata": {
            "tags": []
          },
          "execution_count": 44
        }
      ]
    },
    {
      "metadata": {
        "id": "47PioCTJqYgH",
        "colab_type": "code",
        "outputId": "51037296-60c9-44a5-be27-73b7683fe798",
        "colab": {
          "base_uri": "https://localhost:8080/",
          "height": 18769
        }
      },
      "cell_type": "code",
      "source": [
        "lemma2idx"
      ],
      "execution_count": 0,
      "outputs": [
        {
          "output_type": "execute_result",
          "data": {
            "text/plain": [
              "{'u.s.-bound': 0,\n",
              " 'muttur': 1,\n",
              " 'deed': 2,\n",
              " 'alejandro': 3,\n",
              " 'al-arabiya': 4,\n",
              " 'manan': 5,\n",
              " 'wuhan': 6,\n",
              " 'lucia': 7,\n",
              " 'subterranean': 8,\n",
              " 'barbour': 9,\n",
              " 'suffer': 10,\n",
              " 'jong-wook': 11,\n",
              " 'netanyahu': 12,\n",
              " 'provocateur': 13,\n",
              " 'vacat': 14,\n",
              " 'talanski': 15,\n",
              " 'muscle-build': 16,\n",
              " 'markey': 17,\n",
              " 'settl': 18,\n",
              " 'slam': 19,\n",
              " '’s': 20,\n",
              " '111th': 21,\n",
              " 'norway-brok': 22,\n",
              " 'common': 23,\n",
              " 'al-mukmin': 24,\n",
              " 'corrupt': 25,\n",
              " 'abramoff': 26,\n",
              " 'zin': 27,\n",
              " 'atttack': 28,\n",
              " 'addict': 29,\n",
              " 'baucus': 30,\n",
              " 'wd5': 31,\n",
              " 'mirror': 32,\n",
              " '376-7': 33,\n",
              " 'taza': 34,\n",
              " 'jelinek': 35,\n",
              " 'nsa': 36,\n",
              " '2.38.46': 37,\n",
              " 'maiz': 38,\n",
              " 'mushahid': 39,\n",
              " 'derelict': 40,\n",
              " 'aksel': 41,\n",
              " 'moken': 42,\n",
              " 'paulo': 43,\n",
              " 'dune': 44,\n",
              " 'israeli-occupi': 45,\n",
              " 'talat': 46,\n",
              " 'nicosia': 47,\n",
              " 'concordat': 48,\n",
              " 'odegbami': 49,\n",
              " 'awsat': 50,\n",
              " 'dukedom': 51,\n",
              " 'clerq': 52,\n",
              " 're-submit': 53,\n",
              " 'feed': 54,\n",
              " 'long-run': 55,\n",
              " 'virus': 56,\n",
              " 'sanit': 57,\n",
              " 'fiance': 58,\n",
              " 'indus': 59,\n",
              " 'anyth': 60,\n",
              " 'innov': 61,\n",
              " 'padang': 62,\n",
              " 'broke': 63,\n",
              " 'cement': 64,\n",
              " 'committee-chairman': 65,\n",
              " 'arab-african': 66,\n",
              " 'fillon': 67,\n",
              " 'geithner': 68,\n",
              " 'referendum': 69,\n",
              " 'nicest': 70,\n",
              " 'gomoa': 71,\n",
              " 'eugen': 72,\n",
              " 'da': 73,\n",
              " 'one-car': 74,\n",
              " 'göteborg': 75,\n",
              " 'civil': 76,\n",
              " 'anthoni': 77,\n",
              " 'tobacco': 78,\n",
              " 'deterr': 79,\n",
              " 'irreconcil': 80,\n",
              " 'frelimo': 81,\n",
              " 'inadmiss': 82,\n",
              " 'annoy': 83,\n",
              " 'billingslea': 84,\n",
              " 'museum': 85,\n",
              " 'brighten': 86,\n",
              " 'ljoekelsoey': 87,\n",
              " 'report': 88,\n",
              " 'badran': 89,\n",
              " 'yalcinkaya': 90,\n",
              " 'jamal': 91,\n",
              " 'nureddin': 92,\n",
              " 'evad': 93,\n",
              " 'minimum': 94,\n",
              " 'onyango': 95,\n",
              " 'first-born': 96,\n",
              " '100-year-old': 97,\n",
              " 'inject': 98,\n",
              " 'deliv': 99,\n",
              " 'centrist': 100,\n",
              " 'sow': 101,\n",
              " '24th': 102,\n",
              " 'vedomosti': 103,\n",
              " 'convey': 104,\n",
              " 'descent': 105,\n",
              " 'thwart': 106,\n",
              " 'domodedovo': 107,\n",
              " 'benishangul': 108,\n",
              " 'tristan': 109,\n",
              " 'pawn': 110,\n",
              " 'nine-point-two': 111,\n",
              " 'cordero': 112,\n",
              " 'commission': 113,\n",
              " 'kaka': 114,\n",
              " 'japanes': 115,\n",
              " 'forty~thre': 116,\n",
              " 'vilk': 117,\n",
              " 'samkelo': 118,\n",
              " 'husseinov': 119,\n",
              " 'china-north': 120,\n",
              " 'al-hudaidah': 121,\n",
              " 'express': 122,\n",
              " 'anti-israel': 123,\n",
              " '0.65': 124,\n",
              " 'islamist-root': 125,\n",
              " 'trod': 126,\n",
              " 'fabrizio': 127,\n",
              " '28': 128,\n",
              " 'nita': 129,\n",
              " 'alison': 130,\n",
              " 'maaouiya': 131,\n",
              " 'jaunpur': 132,\n",
              " 'khurram': 133,\n",
              " 'wound': 134,\n",
              " 'rica': 135,\n",
              " 'xinjuan': 136,\n",
              " 'stand': 137,\n",
              " 'cuzco': 138,\n",
              " 'saqqara': 139,\n",
              " 'sup': 140,\n",
              " 'regardless': 141,\n",
              " 'laden': 142,\n",
              " 'gurbanguli': 143,\n",
              " 'among': 144,\n",
              " 'blown': 145,\n",
              " 'wrought': 146,\n",
              " 'signifi': 147,\n",
              " 'threshold': 148,\n",
              " 'expenditur': 149,\n",
              " '86': 150,\n",
              " 'servicemen': 151,\n",
              " 'endeavor': 152,\n",
              " 'usmani': 153,\n",
              " 'neve': 154,\n",
              " 'dogg': 155,\n",
              " 'diana': 156,\n",
              " 'elia': 157,\n",
              " 'anti-govern': 158,\n",
              " 'inde': 159,\n",
              " 'tatiana': 160,\n",
              " 'ohrid': 161,\n",
              " '100-meter': 162,\n",
              " 'f.': 163,\n",
              " 'al-sammarei': 164,\n",
              " 'ethic': 165,\n",
              " 'segment': 166,\n",
              " 'monarchi': 167,\n",
              " 'theori': 168,\n",
              " 'wiig': 169,\n",
              " 'cartagena': 170,\n",
              " 'montevideo': 171,\n",
              " 'frenk': 172,\n",
              " 'taliban-styl': 173,\n",
              " 'stationari': 174,\n",
              " 'weed': 175,\n",
              " 'economist': 176,\n",
              " 'anti-independ': 177,\n",
              " 'muteiri': 178,\n",
              " 'knut': 179,\n",
              " 'downplay': 180,\n",
              " 'meet': 181,\n",
              " 'sawyer': 182,\n",
              " 'careless': 183,\n",
              " 'kyi': 184,\n",
              " 'krasnokamensk': 185,\n",
              " 'non-disburs': 186,\n",
              " 'soft': 187,\n",
              " 'reproduct': 188,\n",
              " 'clan': 189,\n",
              " 'abolish': 190,\n",
              " 'stretch': 191,\n",
              " 'choir': 192,\n",
              " 'prime': 193,\n",
              " '8,500': 194,\n",
              " 'heir': 195,\n",
              " 'burnt': 196,\n",
              " 'swore': 197,\n",
              " 'price-per-carat': 198,\n",
              " 'contempt': 199,\n",
              " 'dombrovski': 200,\n",
              " 'post-soviet': 201,\n",
              " 'musharraf': 202,\n",
              " 'panel': 203,\n",
              " 'william': 204,\n",
              " '982': 205,\n",
              " 'lid': 206,\n",
              " '31-year-old': 207,\n",
              " 'recently-detain': 208,\n",
              " 'lewthwait': 209,\n",
              " 'character': 210,\n",
              " 'contamin': 211,\n",
              " 'crystal': 212,\n",
              " 'bruce': 213,\n",
              " 'june': 214,\n",
              " 'overtook': 215,\n",
              " 'ternat': 216,\n",
              " 'jeep': 217,\n",
              " 'poverty-stricken': 218,\n",
              " 'alfr': 219,\n",
              " 'machine-gun': 220,\n",
              " 'milenkov': 221,\n",
              " 'mutil': 222,\n",
              " 'francisco': 223,\n",
              " 'moutaz': 224,\n",
              " 'anti-constitut': 225,\n",
              " 'novakatka': 226,\n",
              " 'lebanon': 227,\n",
              " '1959': 228,\n",
              " 'five-month-long': 229,\n",
              " 'carnag': 230,\n",
              " 'charisma': 231,\n",
              " 'kadima': 232,\n",
              " 'interpret': 233,\n",
              " 'letten': 234,\n",
              " 'malnutrit': 235,\n",
              " 'commercially-avail': 236,\n",
              " 'annihil': 237,\n",
              " 'gratif': 238,\n",
              " 'chamrouen': 239,\n",
              " 'tal': 240,\n",
              " 'midnight': 241,\n",
              " 'collis': 242,\n",
              " 'reassess': 243,\n",
              " 'vagari': 244,\n",
              " 'estim': 245,\n",
              " 'blondi': 246,\n",
              " 'ladl': 247,\n",
              " '0.08': 248,\n",
              " 'ex-mexican': 249,\n",
              " 'ruhpold': 250,\n",
              " 'voyag': 251,\n",
              " 'sinhales': 252,\n",
              " 'medvedev': 253,\n",
              " 'qamdo': 254,\n",
              " 'turkman': 255,\n",
              " 'psychic': 256,\n",
              " 'quiet': 257,\n",
              " 'seppi': 258,\n",
              " 'sarkisian': 259,\n",
              " 'hostage-tak': 260,\n",
              " 'stall': 261,\n",
              " 'somaliland': 262,\n",
              " '1928': 263,\n",
              " 'adumin': 264,\n",
              " '52-week': 265,\n",
              " 'graft': 266,\n",
              " 'dprk': 267,\n",
              " 'udf': 268,\n",
              " 'state-own': 269,\n",
              " 'bark': 270,\n",
              " 'qualifi': 271,\n",
              " 'firebal': 272,\n",
              " 'fourth-busiest': 273,\n",
              " 'plural': 274,\n",
              " 'cartago': 275,\n",
              " '1747': 276,\n",
              " 'leonardo': 277,\n",
              " 'hurricane-': 278,\n",
              " 'panyu': 279,\n",
              " 'urinari': 280,\n",
              " 'ellsworth': 281,\n",
              " 'bride-to-b': 282,\n",
              " '552': 283,\n",
              " 'sidelin': 284,\n",
              " 'almallah': 285,\n",
              " 'sixth': 286,\n",
              " 'cd': 287,\n",
              " 'alth': 288,\n",
              " 'daybreak': 289,\n",
              " 'rehn': 290,\n",
              " '6,23,000': 291,\n",
              " 'kikkan': 292,\n",
              " '1920s': 293,\n",
              " 'pornograph': 294,\n",
              " 'jacqui': 295,\n",
              " 'dunleavi': 296,\n",
              " '80th-minut': 297,\n",
              " 'iraqi-l': 298,\n",
              " 'someon': 299,\n",
              " 'shih-chien': 300,\n",
              " 'dock': 301,\n",
              " 'southwest': 302,\n",
              " 'ex-priest': 303,\n",
              " 'gen.': 304,\n",
              " 'hour-long': 305,\n",
              " 'bruis': 306,\n",
              " '5.3': 307,\n",
              " 'educ': 308,\n",
              " 'substitut': 309,\n",
              " '2.00': 310,\n",
              " 'cleveland': 311,\n",
              " '3.3': 312,\n",
              " '17-Jan': 313,\n",
              " 'west-lean': 314,\n",
              " 'belarusian': 315,\n",
              " 'al-dabbagh': 316,\n",
              " '1968': 317,\n",
              " 'wit': 318,\n",
              " 'multi-candid': 319,\n",
              " 'delphi': 320,\n",
              " 'al-siddiq': 321,\n",
              " 'brand': 322,\n",
              " 'tension': 323,\n",
              " 'cheapest': 324,\n",
              " 'classifi': 325,\n",
              " 'mistreat': 326,\n",
              " 'kilogram': 327,\n",
              " 'herat': 328,\n",
              " 'subcontin': 329,\n",
              " 'countless': 330,\n",
              " 'belong': 331,\n",
              " 'fame': 332,\n",
              " 'anti-piraci': 333,\n",
              " 'resolut': 334,\n",
              " 'exceed': 335,\n",
              " 'top-secret': 336,\n",
              " 'pretrial': 337,\n",
              " 'endow': 338,\n",
              " 'thirty-one-year-old': 339,\n",
              " 'righteous': 340,\n",
              " 'win': 341,\n",
              " 'pilgrim': 342,\n",
              " 'pad': 343,\n",
              " 'karabila': 344,\n",
              " 'hyung-taik': 345,\n",
              " '17th': 346,\n",
              " '1874': 347,\n",
              " 'human': 348,\n",
              " 'nascent': 349,\n",
              " 'akhtar': 350,\n",
              " 'geologist': 351,\n",
              " 'camilla': 352,\n",
              " 'decemb': 353,\n",
              " 'clariti': 354,\n",
              " 'osprey': 355,\n",
              " 'dulaymi': 356,\n",
              " 'soltanieh': 357,\n",
              " 'remors': 358,\n",
              " 'rfid': 359,\n",
              " 'f-35': 360,\n",
              " 'mitsubishi': 361,\n",
              " '1910': 362,\n",
              " 'legg': 363,\n",
              " 'abstain': 364,\n",
              " 'halabja': 365,\n",
              " 'sook': 366,\n",
              " 'appeas': 367,\n",
              " 'ipad': 368,\n",
              " 'kupwara': 369,\n",
              " 'shan': 370,\n",
              " 'promissori': 371,\n",
              " '637': 372,\n",
              " 'malawai': 373,\n",
              " 'promot': 374,\n",
              " 'fodder': 375,\n",
              " 'blackwat': 376,\n",
              " 'tijuana': 377,\n",
              " 'prestigi': 378,\n",
              " '71': 379,\n",
              " 'pharmaceut': 380,\n",
              " 'eucharist': 381,\n",
              " 'dramat': 382,\n",
              " 'unabl': 383,\n",
              " 'al-nuaimi': 384,\n",
              " 'guenther': 385,\n",
              " 'scorch': 386,\n",
              " 'bittok': 387,\n",
              " 'nonprolifer': 388,\n",
              " 'sangin': 389,\n",
              " 'marcus': 390,\n",
              " 'razek': 391,\n",
              " 'windfal': 392,\n",
              " '1,15,000': 393,\n",
              " 'near-bi': 394,\n",
              " 'spend': 395,\n",
              " 'instrument': 396,\n",
              " 'possess': 397,\n",
              " 'unforgiv': 398,\n",
              " 'non-interfer': 399,\n",
              " 'iii': 400,\n",
              " 'zctu': 401,\n",
              " 'wreath': 402,\n",
              " 'airfar': 403,\n",
              " 'ball-point': 404,\n",
              " 'nabucco': 405,\n",
              " 'doda': 406,\n",
              " 'paksitan': 407,\n",
              " 'u.s.-held': 408,\n",
              " 'fatigu': 409,\n",
              " 'yasin': 410,\n",
              " 'susi': 411,\n",
              " 'unchalleng': 412,\n",
              " 'adolphus': 413,\n",
              " 'influenti': 414,\n",
              " 'lithium': 415,\n",
              " 'butheetaung': 416,\n",
              " 'mil': 417,\n",
              " 'pro-u.s.-immigr': 418,\n",
              " 'depriv': 419,\n",
              " 'jansa': 420,\n",
              " 's&p': 421,\n",
              " 'undeclar': 422,\n",
              " 'pleshkov': 423,\n",
              " 'rahm': 424,\n",
              " 'quintana': 425,\n",
              " '3.913': 426,\n",
              " 'banjul': 427,\n",
              " 'nasdaq': 428,\n",
              " 'jamaica': 429,\n",
              " 'frank-walt': 430,\n",
              " 'goot': 431,\n",
              " 'import': 432,\n",
              " 'iran-iraq': 433,\n",
              " '85-years-old': 434,\n",
              " 'machin': 435,\n",
              " 'khomeini': 436,\n",
              " 'martin': 437,\n",
              " '2.7': 438,\n",
              " '5\\xa0storm': 439,\n",
              " 'wept': 440,\n",
              " 'byzantin': 441,\n",
              " 'mazdzer': 442,\n",
              " 'health-car': 443,\n",
              " 'favourit': 444,\n",
              " 'steer': 445,\n",
              " 'ruz': 446,\n",
              " '320': 447,\n",
              " 'holodomor': 448,\n",
              " 'debri': 449,\n",
              " 'emmerson': 450,\n",
              " 'breez': 451,\n",
              " 'pre-islam': 452,\n",
              " 'jabor': 453,\n",
              " '85th': 454,\n",
              " 'negropont': 455,\n",
              " 'cong.': 456,\n",
              " 'muhammad': 457,\n",
              " 'vladimir': 458,\n",
              " 'alexeyeva': 459,\n",
              " 'westernmost': 460,\n",
              " 'baramullah': 461,\n",
              " 'wait-and-se': 462,\n",
              " 'anti-kurd': 463,\n",
              " 'earthquake-ravag': 464,\n",
              " '8-year': 465,\n",
              " 'envisag': 466,\n",
              " 'jabel': 467,\n",
              " 'gajdosova': 468,\n",
              " '41-year-old': 469,\n",
              " 'haditha': 470,\n",
              " 'elimin': 471,\n",
              " 'mingora': 472,\n",
              " 'svalbard': 473,\n",
              " 'mar': 474,\n",
              " 'case-by-cas': 475,\n",
              " 'llion': 476,\n",
              " 'forestri': 477,\n",
              " 'umaru': 478,\n",
              " 'matip': 479,\n",
              " 'birthplac': 480,\n",
              " 'shin': 481,\n",
              " 'viera': 482,\n",
              " 'diaoyu': 483,\n",
              " 'manmohan': 484,\n",
              " 'baidoa': 485,\n",
              " 'bravo': 486,\n",
              " 'guild': 487,\n",
              " 'verif': 488,\n",
              " 'kick-off': 489,\n",
              " 'ecolog': 490,\n",
              " 'francisco-bas': 491,\n",
              " 'open-market': 492,\n",
              " 'murray': 493,\n",
              " 'orbi': 494,\n",
              " 'pretoria': 495,\n",
              " 'high-risk': 496,\n",
              " 'peril': 497,\n",
              " '17-meter': 498,\n",
              " 'stave': 499,\n",
              " 'parma': 500,\n",
              " 'scrap': 501,\n",
              " '1000': 502,\n",
              " 'kaczynski': 503,\n",
              " 'overborrow': 504,\n",
              " 'unblot': 505,\n",
              " 'password': 506,\n",
              " 'spielberg': 507,\n",
              " 'agartala': 508,\n",
              " 'percent': 509,\n",
              " 'entrap': 510,\n",
              " 'adaw': 511,\n",
              " '96-million': 512,\n",
              " 'ecuador': 513,\n",
              " 'clamor': 514,\n",
              " 'shaul': 515,\n",
              " 'jianhao': 516,\n",
              " 'lionel': 517,\n",
              " 'benito': 518,\n",
              " 'u.s.': 519,\n",
              " 'and': 520,\n",
              " 'bandundu': 521,\n",
              " 'petroleo': 522,\n",
              " 'servicememb': 523,\n",
              " 'snyder': 524,\n",
              " 'factori': 525,\n",
              " '60-million': 526,\n",
              " 'letter': 527,\n",
              " 'unoppos': 528,\n",
              " 'score': 529,\n",
              " 'doubt': 530,\n",
              " 'staf': 531,\n",
              " 'largest': 532,\n",
              " 'intend': 533,\n",
              " 'belat': 534,\n",
              " 'ariel': 535,\n",
              " 'tributari': 536,\n",
              " 'flea': 537,\n",
              " 'catherin': 538,\n",
              " '21': 539,\n",
              " 'hampton': 540,\n",
              " '103.9': 541,\n",
              " 'single-parti': 542,\n",
              " 'raziq': 543,\n",
              " 'sub-freez': 544,\n",
              " 'mswati': 545,\n",
              " 'dump': 546,\n",
              " 'corrient': 547,\n",
              " 'sulieman': 548,\n",
              " 'him': 549,\n",
              " 'asean': 550,\n",
              " 'retract': 551,\n",
              " 'bajramov': 552,\n",
              " '10-stori': 553,\n",
              " 'israeli-arab': 554,\n",
              " 'quand': 555,\n",
              " 'fresco': 556,\n",
              " 'crack': 557,\n",
              " 'encrypt': 558,\n",
              " 'disaffect': 559,\n",
              " 'wheat': 560,\n",
              " 'khao': 561,\n",
              " 'inflat': 562,\n",
              " 'casablanca': 563,\n",
              " 'expect': 564,\n",
              " 'english-speak': 565,\n",
              " 'unsolicit': 566,\n",
              " 'cykla': 567,\n",
              " 'ex-husband': 568,\n",
              " 'cone': 569,\n",
              " 'rate': 570,\n",
              " 'abdel': 571,\n",
              " 'dhaka': 572,\n",
              " 'mauritanian-algerian': 573,\n",
              " 'cascad': 574,\n",
              " 'war-torn': 575,\n",
              " 'wet': 576,\n",
              " 'jean-tobi': 577,\n",
              " 'nickel': 578,\n",
              " 'moon': 579,\n",
              " 'liabl': 580,\n",
              " 'idema': 581,\n",
              " 'absalon': 582,\n",
              " 'sabri': 583,\n",
              " 'stunt': 584,\n",
              " 'heifer': 585,\n",
              " 'tent': 586,\n",
              " 'jang': 587,\n",
              " 'igor': 588,\n",
              " 'doctor-pati': 589,\n",
              " 'invari': 590,\n",
              " 'evil': 591,\n",
              " 'boon': 592,\n",
              " 'luxembourg-bas': 593,\n",
              " '43-year-old': 594,\n",
              " 'orchestr': 595,\n",
              " 'al': 596,\n",
              " 'islamic-root': 597,\n",
              " '139': 598,\n",
              " 'netherland': 599,\n",
              " \"o'hara\": 600,\n",
              " 'christofia': 601,\n",
              " 'quebec': 602,\n",
              " '17-member': 603,\n",
              " 'action': 604,\n",
              " 'boko': 605,\n",
              " 'kyat': 606,\n",
              " 'tighten': 607,\n",
              " 'associ': 608,\n",
              " 'sandinista': 609,\n",
              " 'h5-type': 610,\n",
              " 'bandera': 611,\n",
              " 'proceed': 612,\n",
              " 'garissa': 613,\n",
              " 'uhstad': 614,\n",
              " 'gisagara': 615,\n",
              " 'yuni': 616,\n",
              " 'iwf': 617,\n",
              " 'mohmand': 618,\n",
              " 'yung-woo': 619,\n",
              " 'vovk': 620,\n",
              " '1908': 621,\n",
              " 'arturo': 622,\n",
              " '3,500': 623,\n",
              " 'gleneagl': 624,\n",
              " 'philosophi': 625,\n",
              " 'ranch': 626,\n",
              " 'marthinus': 627,\n",
              " 'canadian-don': 628,\n",
              " 'laredo': 629,\n",
              " 'divers': 630,\n",
              " 'furnish': 631,\n",
              " 'h7': 632,\n",
              " 'okonkwo': 633,\n",
              " 'scoreless': 634,\n",
              " 'bahonar': 635,\n",
              " 'triumf': 636,\n",
              " 'prommegg': 637,\n",
              " '1925': 638,\n",
              " 'wenesday': 639,\n",
              " '60-day': 640,\n",
              " 'aleg': 641,\n",
              " 'explosives-laden': 642,\n",
              " '06-Feb': 643,\n",
              " '37.3': 644,\n",
              " 'ovidiu': 645,\n",
              " 'greenland': 646,\n",
              " 'tortur': 647,\n",
              " 'musician': 648,\n",
              " '177': 649,\n",
              " 'wrc': 650,\n",
              " 'partnership': 651,\n",
              " 'maruf': 652,\n",
              " 'mayer': 653,\n",
              " 'ecweru': 654,\n",
              " 'member': 655,\n",
              " 'oil-for-food': 656,\n",
              " '4,000': 657,\n",
              " '75-member': 658,\n",
              " '12-point': 659,\n",
              " 'sidon': 660,\n",
              " 'peaceke': 661,\n",
              " 'ill-inform': 662,\n",
              " '40-car': 663,\n",
              " 'buyukanit': 664,\n",
              " 'bosom': 665,\n",
              " 'yuvraj': 666,\n",
              " 'thrifti': 667,\n",
              " 'eighti': 668,\n",
              " 'kabal': 669,\n",
              " 'itself': 670,\n",
              " 'black-clad': 671,\n",
              " 'jowel': 672,\n",
              " 'slump': 673,\n",
              " 'unjust': 674,\n",
              " 'choreograph': 675,\n",
              " '940': 676,\n",
              " 'dart': 677,\n",
              " 'crush': 678,\n",
              " 'derbez': 679,\n",
              " 'take-ov': 680,\n",
              " '143': 681,\n",
              " 'greener': 682,\n",
              " 'taleban-l': 683,\n",
              " '27th': 684,\n",
              " 'wander': 685,\n",
              " '2,200-kilomet': 686,\n",
              " 'induct': 687,\n",
              " 'zero': 688,\n",
              " 'poupard': 689,\n",
              " 'pluto': 690,\n",
              " 'aim': 691,\n",
              " 'sacr': 692,\n",
              " 'rockford': 693,\n",
              " 'kiteswer': 694,\n",
              " 'czink': 695,\n",
              " 'dhia': 696,\n",
              " 'slogan': 697,\n",
              " 'scot': 698,\n",
              " 'bullet-ridden': 699,\n",
              " 'femal': 700,\n",
              " 'retrosi': 701,\n",
              " '34-member': 702,\n",
              " 'flood': 703,\n",
              " \"al-u'zayra\": 704,\n",
              " 'murillo': 705,\n",
              " 'belliger': 706,\n",
              " '2.1': 707,\n",
              " 'domin': 708,\n",
              " 'performance-enhanc': 709,\n",
              " 'nations-fund': 710,\n",
              " 'locus': 711,\n",
              " 'drawn': 712,\n",
              " 'prescrib': 713,\n",
              " 'onion': 714,\n",
              " 'gas-separ': 715,\n",
              " 'davit': 716,\n",
              " 'rebut': 717,\n",
              " 'guest-work': 718,\n",
              " '915': 719,\n",
              " 'terrifi': 720,\n",
              " 'shein': 721,\n",
              " 'sariyev': 722,\n",
              " 'surgeri': 723,\n",
              " 'uttar': 724,\n",
              " 'khagrachhari': 725,\n",
              " 'fraught': 726,\n",
              " 'mattoo': 727,\n",
              " 'bread': 728,\n",
              " 'zuhair': 729,\n",
              " 'rothwel': 730,\n",
              " 'independ': 731,\n",
              " 'pri': 732,\n",
              " 'rodrigu': 733,\n",
              " 'taliban-l': 734,\n",
              " 'military-instal': 735,\n",
              " 'hypothermia': 736,\n",
              " 'jupit': 737,\n",
              " 'petersburg': 738,\n",
              " 'wrath': 739,\n",
              " 'weeklong': 740,\n",
              " 'infant': 741,\n",
              " 'h.w': 742,\n",
              " 'wipe': 743,\n",
              " 'salon': 744,\n",
              " 'normal': 745,\n",
              " 'sidi': 746,\n",
              " 'ganei': 747,\n",
              " 'deceas': 748,\n",
              " 'archaeologist': 749,\n",
              " 'quash': 750,\n",
              " 'ekmeleddin': 751,\n",
              " 'martinez': 752,\n",
              " 'portion': 753,\n",
              " 'post-invas': 754,\n",
              " 'maul': 755,\n",
              " 'superjumbo': 756,\n",
              " 'franz': 757,\n",
              " 'intellig': 758,\n",
              " 'hide': 759,\n",
              " 'harvard': 760,\n",
              " 'vliegen': 761,\n",
              " 'lawmak': 762,\n",
              " 'confidenti': 763,\n",
              " 'remembr': 764,\n",
              " 'ramadhani': 765,\n",
              " 'jean-pierr': 766,\n",
              " 'maal': 767,\n",
              " 'make-up': 768,\n",
              " 'recaptur': 769,\n",
              " 'fouad': 770,\n",
              " 'ramsi': 771,\n",
              " '25-meter': 772,\n",
              " 'fsm': 773,\n",
              " 'shahar': 774,\n",
              " 'go-ahead': 775,\n",
              " 'macapagal-arroyo': 776,\n",
              " 'umbrella': 777,\n",
              " 'wheel': 778,\n",
              " 'therapi': 779,\n",
              " 'adrian': 780,\n",
              " 'reciproc': 781,\n",
              " 'mire': 782,\n",
              " 'telegram': 783,\n",
              " 'stanford': 784,\n",
              " 'ms.': 785,\n",
              " 'maurit': 786,\n",
              " 'isturiz': 787,\n",
              " 'ere': 788,\n",
              " 'delhi-bas': 789,\n",
              " 'strewn': 790,\n",
              " 'totmianina': 791,\n",
              " 'ordaz': 792,\n",
              " 'overlook': 793,\n",
              " 'low-key': 794,\n",
              " 'chairmanship': 795,\n",
              " 'hid': 796,\n",
              " 'nonbind': 797,\n",
              " 'subscrib': 798,\n",
              " 'firm': 799,\n",
              " '111': 800,\n",
              " 'ox': 801,\n",
              " 'prepared': 802,\n",
              " 'ineffect': 803,\n",
              " '0.068217593': 804,\n",
              " 'sugar-rel': 805,\n",
              " 'undraft': 806,\n",
              " 'steinmeier': 807,\n",
              " 'kiribati': 808,\n",
              " 'beaten': 809,\n",
              " 'rail': 810,\n",
              " 'alert': 811,\n",
              " '34,000': 812,\n",
              " 'enrout': 813,\n",
              " 'formal': 814,\n",
              " 'evan': 815,\n",
              " 'tunisian': 816,\n",
              " 'substanti': 817,\n",
              " 'day-to-day': 818,\n",
              " 'tanker': 819,\n",
              " 'stamp': 820,\n",
              " 'cao': 821,\n",
              " 'heriberto': 822,\n",
              " 'organ': 823,\n",
              " 'imposit': 824,\n",
              " 'hamas-control': 825,\n",
              " 'dave': 826,\n",
              " '50.83': 827,\n",
              " 'rot': 828,\n",
              " 'edward': 829,\n",
              " 'host': 830,\n",
              " 'toledo': 831,\n",
              " 'yourselv': 832,\n",
              " 'yarka': 833,\n",
              " 'sniper': 834,\n",
              " 'coal-fir': 835,\n",
              " 'gill': 836,\n",
              " '133': 837,\n",
              " 'booker': 838,\n",
              " 'kit': 839,\n",
              " 'psycholog': 840,\n",
              " 'finnish': 841,\n",
              " 'gerald': 842,\n",
              " 'ton': 843,\n",
              " 'madhya': 844,\n",
              " '4,50,000': 845,\n",
              " 'automat': 846,\n",
              " 'resold': 847,\n",
              " 'government-': 848,\n",
              " 'ophelia': 849,\n",
              " 'seini': 850,\n",
              " 'norton': 851,\n",
              " '27.99': 852,\n",
              " 'outbreak': 853,\n",
              " '1726': 854,\n",
              " 'agre': 855,\n",
              " 'arawak': 856,\n",
              " 'hydrocarbon': 857,\n",
              " '2025': 858,\n",
              " 'yell': 859,\n",
              " 'resurfac': 860,\n",
              " 'murr': 861,\n",
              " 'el-hadari': 862,\n",
              " 'remissaninth': 863,\n",
              " 'vald': 864,\n",
              " 'religion': 865,\n",
              " 'pickle-fork': 866,\n",
              " 'merrili': 867,\n",
              " 'requir': 868,\n",
              " 'extraordinari': 869,\n",
              " 'zoo': 870,\n",
              " 'tourist': 871,\n",
              " 'auditorium': 872,\n",
              " 'co-princip': 873,\n",
              " 'ruler': 874,\n",
              " 'emul': 875,\n",
              " 'cut-off': 876,\n",
              " 'sodium': 877,\n",
              " 'amount': 878,\n",
              " 'throat': 879,\n",
              " 'ricki': 880,\n",
              " 'atop': 881,\n",
              " 'cushion': 882,\n",
              " 'mustard': 883,\n",
              " 'drywal': 884,\n",
              " 'front-run': 885,\n",
              " '19th': 886,\n",
              " 'rick': 887,\n",
              " 'newly-form': 888,\n",
              " 'tonnag': 889,\n",
              " 'drill': 890,\n",
              " '41,000': 891,\n",
              " '3,700': 892,\n",
              " 'anti-labor': 893,\n",
              " 'condominum': 894,\n",
              " 'sarturday': 895,\n",
              " 'rear': 896,\n",
              " 'rezko': 897,\n",
              " '9': 898,\n",
              " 'pressur': 899,\n",
              " 'face-to-fac': 900,\n",
              " 'kazmi': 901,\n",
              " 'marjayoun': 902,\n",
              " 'pre-mark': 903,\n",
              " 'jaffna': 904,\n",
              " 'venus': 905,\n",
              " 'sing': 906,\n",
              " 'bribes-for-vot': 907,\n",
              " '1834': 908,\n",
              " 'handov': 909,\n",
              " 'qadir': 910,\n",
              " 'macrumors.com': 911,\n",
              " 'pervez': 912,\n",
              " 'movement': 913,\n",
              " 'whoever': 914,\n",
              " '3.6': 915,\n",
              " 'bekasi': 916,\n",
              " 'bibl': 917,\n",
              " 'jealous': 918,\n",
              " 'mihtarlam': 919,\n",
              " 'predazzo': 920,\n",
              " 'overfish': 921,\n",
              " 'three-year': 922,\n",
              " 'pagoni': 923,\n",
              " '50-meter': 924,\n",
              " 'taipei': 925,\n",
              " 'intestin': 926,\n",
              " 'al-qidwa': 927,\n",
              " 'khorramshahi': 928,\n",
              " 'saleh': 929,\n",
              " 'suffic': 930,\n",
              " 'gran': 931,\n",
              " '13,000': 932,\n",
              " 'post-communist': 933,\n",
              " 'semi-perman': 934,\n",
              " 'knew': 935,\n",
              " 'pleasur': 936,\n",
              " 'togeth': 937,\n",
              " 'abroad': 938,\n",
              " 'infam': 939,\n",
              " 'wider': 940,\n",
              " 'daunt': 941,\n",
              " 'smith': 942,\n",
              " 'asia-europ': 943,\n",
              " 'cession': 944,\n",
              " '788': 945,\n",
              " 'next': 946,\n",
              " 'rwandan': 947,\n",
              " 'rafidain': 948,\n",
              " 'financially-troubl': 949,\n",
              " 'dejan': 950,\n",
              " '332': 951,\n",
              " 'voic': 952,\n",
              " '50th': 953,\n",
              " 'declassifi': 954,\n",
              " 'venevis': 955,\n",
              " 'bombay': 956,\n",
              " '91': 957,\n",
              " 'degre': 958,\n",
              " 'prey': 959,\n",
              " 'balad': 960,\n",
              " 'categor': 961,\n",
              " '0.8': 962,\n",
              " 'thereaft': 963,\n",
              " 'kagam': 964,\n",
              " 'tianjin': 965,\n",
              " 'leonid': 966,\n",
              " 'logarda': 967,\n",
              " 'eight-year': 968,\n",
              " 'melancholi': 969,\n",
              " 'aggressor': 970,\n",
              " 'long': 971,\n",
              " '12': 972,\n",
              " 'warrior': 973,\n",
              " 'balkh': 974,\n",
              " 'beatif': 975,\n",
              " 'huy': 976,\n",
              " 'caraorman': 977,\n",
              " 'trout': 978,\n",
              " 'sweet': 979,\n",
              " '2011': 980,\n",
              " 'anywher': 981,\n",
              " 'defici': 982,\n",
              " 'su': 983,\n",
              " 'hardship': 984,\n",
              " 'reign': 985,\n",
              " 'thilan': 986,\n",
              " 'career-best': 987,\n",
              " 'terrorist-rel': 988,\n",
              " 'sulaymaniya': 989,\n",
              " '2,50,000': 990,\n",
              " 'affirm': 991,\n",
              " 'flat': 992,\n",
              " 'kangaroo': 993,\n",
              " '1,170': 994,\n",
              " 'enlarg': 995,\n",
              " 'riddlesberg': 996,\n",
              " 'fax': 997,\n",
              " 'kanyutkwin': 998,\n",
              " 'liter': 999,\n",
              " ...}"
            ]
          },
          "metadata": {
            "tags": []
          },
          "execution_count": 16
        }
      ]
    },
    {
      "metadata": {
        "id": "22InAH5zqYgO",
        "colab_type": "code",
        "outputId": "eca3c21d-f3c6-4103-ff09-59de6262c9b0",
        "colab": {
          "base_uri": "https://localhost:8080/",
          "height": 785
        }
      },
      "cell_type": "code",
      "source": [
        "lab2idx"
      ],
      "execution_count": 0,
      "outputs": [
        {
          "output_type": "execute_result",
          "data": {
            "text/plain": [
              "{'$': 40,\n",
              " ',': 28,\n",
              " '.': 1,\n",
              " ':': 15,\n",
              " ';': 0,\n",
              " 'CC': 27,\n",
              " 'CD': 24,\n",
              " 'DT': 17,\n",
              " 'EX': 16,\n",
              " 'IN': 33,\n",
              " 'JJ': 11,\n",
              " 'JJR': 6,\n",
              " 'JJS': 3,\n",
              " 'LRB': 20,\n",
              " 'MD': 19,\n",
              " 'NN': 13,\n",
              " 'NNP': 8,\n",
              " 'NNPS': 30,\n",
              " 'NNS': 26,\n",
              " 'PDT': 4,\n",
              " 'POS': 7,\n",
              " 'PRP': 37,\n",
              " 'PRP$': 29,\n",
              " 'RB': 10,\n",
              " 'RBR': 9,\n",
              " 'RBS': 38,\n",
              " 'RP': 35,\n",
              " 'RRB': 31,\n",
              " 'TO': 2,\n",
              " 'UH': 18,\n",
              " 'VB': 34,\n",
              " 'VBD': 21,\n",
              " 'VBG': 25,\n",
              " 'VBN': 36,\n",
              " 'VBP': 32,\n",
              " 'VBZ': 39,\n",
              " 'WDT': 5,\n",
              " 'WP': 22,\n",
              " 'WP$': 23,\n",
              " 'WRB': 12,\n",
              " '``': 14}"
            ]
          },
          "metadata": {
            "tags": []
          },
          "execution_count": 14
        }
      ]
    },
    {
      "metadata": {
        "id": "WbIwAX9dOVzC",
        "colab_type": "text"
      },
      "cell_type": "markdown",
      "source": [
        "En este caso visualizamos los labels que hemos extraido nosotros y que hacen parte del juego de 41, donde diferimos de nuestros compañeros que encontraron y verificaron 17, nosotros intentamos con nuestras herramientas lograr entender por que estabamos teniendo este problea pero cuando logramos extraer las 17 que hablan todos solo podiamos utilzar el 20% del set de datos, lo que se convertia en completamente insatisfactorio para poder hacer el entrenamiento adecuado y obtener buenos resultados"
      ]
    },
    {
      "metadata": {
        "id": "TJ4-H7ouqYg0",
        "colab_type": "text"
      },
      "cell_type": "markdown",
      "source": [
        "d) Realice el *padding* anteriormente mencionado, decida sobre qué le parece más conveniente al rellenar con un valor especial respecto al cómo funciona una red recurrente y cómo funciona su memoria **¿Al principio o al final de la sentencia?** Comente"
      ]
    },
    {
      "metadata": {
        "id": "Fdw3VN53qYg5",
        "colab_type": "code",
        "outputId": "e909d674-318b-4e22-c805-5d6e87a6ce31",
        "colab": {
          "base_uri": "https://localhost:8080/",
          "height": 148
        }
      },
      "cell_type": "code",
      "source": [
        "X = sequence.pad_sequences(dataX,maxlen=30,padding='pre',value=lemma2idx[\"0\"]) \n",
        "X"
      ],
      "execution_count": 65,
      "outputs": [
        {
          "output_type": "execute_result",
          "data": {
            "text/plain": [
              "array([[  493,   493,   493, ...,  4060,  8164, 10439],\n",
              "       [ 7520, 14295,  3560, ..., 18582, 10439, 16337],\n",
              "       [  493,   493,   493, ...,   683, 16394, 10439],\n",
              "       ...,\n",
              "       [  493,   493,   493, ..., 17488,  3487, 10439],\n",
              "       [  493,   493,   493, ..., 19583,  6504, 10439],\n",
              "       [  493,   493,   493, ..., 20091,  4982, 10439]], dtype=int32)"
            ]
          },
          "metadata": {
            "tags": []
          },
          "execution_count": 65
        }
      ]
    },
    {
      "metadata": {
        "id": "AQI6EtR2OukI",
        "colab_type": "code",
        "colab": {}
      },
      "cell_type": "code",
      "source": [
        "X = sequence.pad_sequences(dataX,maxlen=30,padding='post',value=lemma2idx[\"0\"]) \n",
        "X"
      ],
      "execution_count": 0,
      "outputs": []
    },
    {
      "metadata": {
        "id": "d3PnchCwqYhG",
        "colab_type": "code",
        "outputId": "0fc1c29a-81cb-40b3-cd23-16f51f83ad8f",
        "colab": {
          "base_uri": "https://localhost:8080/",
          "height": 148
        }
      },
      "cell_type": "code",
      "source": [
        "y = sequence.pad_sequences(dataY,maxlen=30,padding='pre',value=lab2idx[\".\"])\n",
        "y"
      ],
      "execution_count": 66,
      "outputs": [
        {
          "output_type": "execute_result",
          "data": {
            "text/plain": [
              "array([[29, 29, 29, ..., 40, 26, 29],\n",
              "       [25, 33, 25, ..., 25, 29, 37],\n",
              "       [29, 29, 29, ..., 19, 19, 29],\n",
              "       ...,\n",
              "       [29, 29, 29, ..., 26, 26, 29],\n",
              "       [29, 29, 29, ..., 35, 26, 29],\n",
              "       [29, 29, 29, ..., 33, 26, 29]], dtype=int32)"
            ]
          },
          "metadata": {
            "tags": []
          },
          "execution_count": 66
        }
      ]
    },
    {
      "metadata": {
        "id": "fsRmLo9ZOyyI",
        "colab_type": "code",
        "colab": {}
      },
      "cell_type": "code",
      "source": [
        "y = sequence.pad_sequences(dataY,maxlen=30,padding='post',value=lab2idx[\".\"])\n",
        "y"
      ],
      "execution_count": 0,
      "outputs": []
    },
    {
      "metadata": {
        "id": "L-kXSXfIScVr",
        "colab_type": "text"
      },
      "cell_type": "markdown",
      "source": [
        "En este caso surgio una discusión muy interesante, se plantea que si se utiliza en el padding la versión post, podriamos tener problemas con el backpropagation que no ocurre si se hace con la versión pre, pero con esta versión tambien tendriamos problemas en la celda de memoria, en nuestro caso hicimos soluciones y en una primera instancia habiamos elegido la version post, pero con un pequeño ajuste en los ddatos encontramos que aunque no es muy diferente efectivamente da un mejor resultado"
      ]
    },
    {
      "metadata": {
        "id": "MrSOhHwMqYhW",
        "colab_type": "text"
      },
      "cell_type": "markdown",
      "source": [
        "Debido al analisis que se hizo en el punto anterior vemos que la longitud promedio es de maximo 30 palabras por frases, por eso colocamos en el X el maximo de 30, ademas decidimos que vamos a llenar con 0 que codificado en el lemma es 6251 sobre los datos de entrada.\n",
        "Ahora para hacer el analisis sobre los datos de salida o nuestras etiquetas hacemos una visualizacion de los labels y sus valores, escogemos el \"O\"."
      ]
    },
    {
      "metadata": {
        "id": "Krwtj1dUqYhZ",
        "colab_type": "text"
      },
      "cell_type": "markdown",
      "source": [
        "e) Para el poder entregar una clasificación sobre los distintos *tags* es necesario tranformarlos a *one hot vectors*, debido a que están codificados en números enteros, esto resultará en un arreglo tridimensional con la cantidad de ejemplos, la cantidad máxima de palabras y la cantidad de posibles *tags*. Luego de esto cree los conjuntos de entrenamiento y de prueba con el código a continuación **¿Cuáles son las dimensiones de entrada y salida de cada conjunto?** Comente"
      ]
    },
    {
      "metadata": {
        "id": "HmDlrcOeqYha",
        "colab_type": "code",
        "colab": {}
      },
      "cell_type": "code",
      "source": [
        "y = np.asarray([to_categorical(i, num_classes=n_labels) for i in y])\n",
        "X_train, X_test, y_train, y_test = train_test_split(X, y, test_size=0.3,random_state=22)\n"
      ],
      "execution_count": 0,
      "outputs": []
    },
    {
      "metadata": {
        "id": "IjLsExomqYho",
        "colab_type": "code",
        "colab": {}
      },
      "cell_type": "code",
      "source": [
        "y_test_class=np.argmax(np.argmax(y_test,axis=2),axis=1)"
      ],
      "execution_count": 0,
      "outputs": []
    },
    {
      "metadata": {
        "id": "5DAxFPZjqYhu",
        "colab_type": "text"
      },
      "cell_type": "markdown",
      "source": [
        "Comenzando el ejercicio como se comento en la primera parte, debido a las limitaciones del computador limitamos a solo 200.000 muestras para poder hacer el analisis entonces no nos cuesta demasiado tiempo la simulacion en este punto."
      ]
    },
    {
      "metadata": {
        "id": "2fK5MDIJqYhv",
        "colab_type": "code",
        "outputId": "39ec20df-8872-462b-e2c9-2afd2e32287e",
        "colab": {
          "base_uri": "https://localhost:8080/",
          "height": 36
        }
      },
      "cell_type": "code",
      "source": [
        "X_train.shape"
      ],
      "execution_count": 49,
      "outputs": [
        {
          "output_type": "execute_result",
          "data": {
            "text/plain": [
              "(33656, 30)"
            ]
          },
          "metadata": {
            "tags": []
          },
          "execution_count": 49
        }
      ]
    },
    {
      "metadata": {
        "id": "X9bKxiWmqYh6",
        "colab_type": "code",
        "outputId": "562fe7e4-d7b5-44d6-bf58-e586964c1ecc",
        "colab": {
          "base_uri": "https://localhost:8080/",
          "height": 36
        }
      },
      "cell_type": "code",
      "source": [
        "X_test.shape"
      ],
      "execution_count": 50,
      "outputs": [
        {
          "output_type": "execute_result",
          "data": {
            "text/plain": [
              "(14425, 30)"
            ]
          },
          "metadata": {
            "tags": []
          },
          "execution_count": 50
        }
      ]
    },
    {
      "metadata": {
        "id": "RmV3GdjIqYiD",
        "colab_type": "code",
        "outputId": "8563fd24-c8e5-48d9-da46-d5291eb1cd03",
        "colab": {
          "base_uri": "https://localhost:8080/",
          "height": 36
        }
      },
      "cell_type": "code",
      "source": [
        "y_train.shape"
      ],
      "execution_count": 0,
      "outputs": [
        {
          "output_type": "execute_result",
          "data": {
            "text/plain": [
              "(33656, 30, 41)"
            ]
          },
          "metadata": {
            "tags": []
          },
          "execution_count": 24
        }
      ]
    },
    {
      "metadata": {
        "id": "qwd9nu_JqYiS",
        "colab_type": "code",
        "outputId": "a8e18163-70e5-4dcb-8de1-4060720a496f",
        "colab": {
          "base_uri": "https://localhost:8080/",
          "height": 36
        }
      },
      "cell_type": "code",
      "source": [
        "y_test.shape"
      ],
      "execution_count": 0,
      "outputs": [
        {
          "output_type": "execute_result",
          "data": {
            "text/plain": [
              "(14425, 30, 41)"
            ]
          },
          "metadata": {
            "tags": []
          },
          "execution_count": 25
        }
      ]
    },
    {
      "metadata": {
        "id": "Qog9d2AjqYiX",
        "colab_type": "text"
      },
      "cell_type": "markdown",
      "source": [
        "En este caso quedan los datos distribuidos en un 70% para entrenamiento y 30% para hacer el test de los modelos, se hace una eleccion aleatoria para evitar un poco el overfitting, en la entrada queda con una dimension de 30 que fue el maximo tamaño que se le dejo a las frases y en la  y una dimension del tag  y 17 numero de etiquetas"
      ]
    },
    {
      "metadata": {
        "id": "QnaEz8rJqYiX",
        "colab_type": "code",
        "outputId": "b5239262-f86f-4f0e-be3f-88d595a9cc70",
        "colab": {
          "base_uri": "https://localhost:8080/",
          "height": 148
        }
      },
      "cell_type": "code",
      "source": [
        "X_train"
      ],
      "execution_count": 69,
      "outputs": [
        {
          "output_type": "execute_result",
          "data": {
            "text/plain": [
              "array([[  493,   493,   493, ...,   936, 11190, 10439],\n",
              "       [  493,   493,   493, ..., 12942, 16653, 10439],\n",
              "       [  493,   493,   493, ..., 19159,  8709, 10439],\n",
              "       ...,\n",
              "       [  493,   493,   493, ...,  3548,  9162, 10439],\n",
              "       [  493,   493,   493, ..., 12022,  7323, 10439],\n",
              "       [  493,   493,   493, ..., 10505,  1451, 10439]], dtype=int32)"
            ]
          },
          "metadata": {
            "tags": []
          },
          "execution_count": 69
        }
      ]
    },
    {
      "metadata": {
        "id": "gpYshlqTqYig",
        "colab_type": "code",
        "outputId": "78db55db-dbcf-4caa-c9a0-dd98edd54240",
        "colab": {
          "base_uri": "https://localhost:8080/",
          "height": 935
        }
      },
      "cell_type": "code",
      "source": [
        "y_train"
      ],
      "execution_count": 70,
      "outputs": [
        {
          "output_type": "execute_result",
          "data": {
            "text/plain": [
              "array([[[0., 0., 0., ..., 0., 0., 0.],\n",
              "        [0., 0., 0., ..., 0., 0., 0.],\n",
              "        [0., 0., 0., ..., 0., 0., 0.],\n",
              "        ...,\n",
              "        [0., 0., 0., ..., 0., 0., 0.],\n",
              "        [0., 0., 0., ..., 0., 0., 0.],\n",
              "        [0., 0., 0., ..., 0., 0., 0.]],\n",
              "\n",
              "       [[0., 0., 0., ..., 0., 0., 0.],\n",
              "        [0., 0., 0., ..., 0., 0., 0.],\n",
              "        [0., 0., 0., ..., 0., 0., 0.],\n",
              "        ...,\n",
              "        [0., 0., 0., ..., 0., 0., 1.],\n",
              "        [0., 0., 0., ..., 0., 0., 0.],\n",
              "        [0., 0., 0., ..., 0., 0., 0.]],\n",
              "\n",
              "       [[0., 0., 0., ..., 0., 0., 0.],\n",
              "        [0., 0., 0., ..., 0., 0., 0.],\n",
              "        [0., 0., 0., ..., 0., 0., 0.],\n",
              "        ...,\n",
              "        [0., 0., 0., ..., 0., 0., 0.],\n",
              "        [0., 0., 0., ..., 0., 0., 0.],\n",
              "        [0., 0., 0., ..., 0., 0., 0.]],\n",
              "\n",
              "       ...,\n",
              "\n",
              "       [[0., 0., 0., ..., 0., 0., 0.],\n",
              "        [0., 0., 0., ..., 0., 0., 0.],\n",
              "        [0., 0., 0., ..., 0., 0., 0.],\n",
              "        ...,\n",
              "        [0., 0., 0., ..., 0., 0., 0.],\n",
              "        [0., 0., 0., ..., 0., 0., 0.],\n",
              "        [0., 0., 0., ..., 0., 0., 0.]],\n",
              "\n",
              "       [[0., 0., 0., ..., 0., 0., 0.],\n",
              "        [0., 0., 0., ..., 0., 0., 0.],\n",
              "        [0., 0., 0., ..., 0., 0., 0.],\n",
              "        ...,\n",
              "        [0., 0., 0., ..., 0., 0., 0.],\n",
              "        [0., 0., 0., ..., 0., 0., 0.],\n",
              "        [0., 0., 0., ..., 0., 0., 0.]],\n",
              "\n",
              "       [[0., 0., 0., ..., 0., 0., 0.],\n",
              "        [0., 0., 0., ..., 0., 0., 0.],\n",
              "        [0., 0., 0., ..., 0., 0., 0.],\n",
              "        ...,\n",
              "        [0., 0., 0., ..., 0., 0., 0.],\n",
              "        [0., 0., 0., ..., 0., 0., 0.],\n",
              "        [0., 0., 0., ..., 0., 0., 0.]]], dtype=float32)"
            ]
          },
          "metadata": {
            "tags": []
          },
          "execution_count": 70
        }
      ]
    },
    {
      "metadata": {
        "id": "txsOtHvyqYip",
        "colab_type": "text"
      },
      "cell_type": "markdown",
      "source": [
        "f) Defina una red neuronal recurrente *many to many* con compuertas LSTM para aprender a *tagear* la entidad en el texto, entrene y evalúe su desempeño sobre ambos conjuntos. Esta red debe procesar la secuencia de *lemmas* rellenados (o sin rellenar) y entregar el *tag* a cada uno de los *lemmas*, por lo que la salida de la red no es un vector como anteriormente se ha trabajado, sino que tiene una dimensión extra la cual es debido a que en cada instante de tiempo se necesita entregar un *output*. Como los *lemmas* corresponden a datos esencialmente categóricos, o al menos discretos, es necesario generar una representación vectorial de ellas. La primera capa de la red a construir debe por lo tanto incluir una transformación entrenable desde el espacio de representación original (discreto) a ${\\rm I\\!R}^{d}$ , con $d$ la dimensionalidad del *embedding*. **Comente sobre los cambios que sufre un dato al ingresar a la red y la cantidad de parámetros de la red**."
      ]
    },
    {
      "metadata": {
        "id": "HomebDMiqYiv",
        "colab_type": "code",
        "outputId": "d44956d5-a7a9-46ce-f596-3649e202abaf",
        "colab": {
          "base_uri": "https://localhost:8080/",
          "height": 467
        }
      },
      "cell_type": "code",
      "source": [
        "embedding_vector = 32\n",
        "model = Sequential()\n",
        "model.add(Embedding(input_dim=n_lemmas+1, output_dim=embedding_vector, input_length=30))\n",
        "model.add(LSTM(units=120,return_sequences=True))\n",
        "model.add(Dense(n_labels, activation='softmax'))\n",
        "model.summary()\n",
        "model.compile(loss='categorical_crossentropy', optimizer='adam')\n",
        "history=model.fit(X_train, y_train, validation_data=(X_test, y_test), epochs=5, batch_size=128)"
      ],
      "execution_count": 71,
      "outputs": [
        {
          "output_type": "stream",
          "text": [
            "_________________________________________________________________\n",
            "Layer (type)                 Output Shape              Param #   \n",
            "=================================================================\n",
            "embedding_2 (Embedding)      (None, 30, 32)            647808    \n",
            "_________________________________________________________________\n",
            "lstm_2 (LSTM)                (None, 30, 120)           73440     \n",
            "_________________________________________________________________\n",
            "dense_2 (Dense)              (None, 30, 41)            4961      \n",
            "=================================================================\n",
            "Total params: 726,209\n",
            "Trainable params: 726,209\n",
            "Non-trainable params: 0\n",
            "_________________________________________________________________\n",
            "Train on 33656 samples, validate on 14425 samples\n",
            "Epoch 1/5\n",
            "33656/33656 [==============================] - 27s 788us/step - loss: 1.8977 - val_loss: 0.9137\n",
            "Epoch 2/5\n",
            "33656/33656 [==============================] - 26s 761us/step - loss: 0.5288 - val_loss: 0.3378\n",
            "Epoch 3/5\n",
            "33656/33656 [==============================] - 26s 761us/step - loss: 0.2679 - val_loss: 0.2456\n",
            "Epoch 4/5\n",
            "33656/33656 [==============================] - 26s 760us/step - loss: 0.2089 - val_loss: 0.2157\n",
            "Epoch 5/5\n",
            "33656/33656 [==============================] - 26s 758us/step - loss: 0.1834 - val_loss: 0.2015\n"
          ],
          "name": "stdout"
        }
      ]
    },
    {
      "metadata": {
        "id": "eo-iTua_hegf",
        "colab_type": "text"
      },
      "cell_type": "markdown",
      "source": [
        "Respecto al resumen del tamaño de la red nos parece que es apropiado a lo que esperabamos por que tenemos casi un millon de parametros entrenables, con el colaboratory es relativamente muy rapida la implementación del entrenamiento. Esperamos que el algoritmo sea capaz de generalizar la respuesta, tambien modificamos el numero de epochs y lo dejamo en 5."
      ]
    },
    {
      "metadata": {
        "id": "6wmI-oxVqYiz",
        "colab_type": "code",
        "outputId": "00d78491-a138-4010-fad8-a0530ab0f617",
        "colab": {
          "base_uri": "https://localhost:8080/",
          "height": 531
        }
      },
      "cell_type": "code",
      "source": [
        "plt.figure(1,figsize=(12,8))\n",
        "plt.plot(history.history['val_loss'])\n",
        "plt.plot(history.history['loss'])\n",
        "plt.legend(('Val_Loss', 'Loss' ))\n",
        "plt.title('LSTM Básica')\n",
        "plt.ylabel('Loss')\n",
        "plt.xlabel('Epochs')"
      ],
      "execution_count": 55,
      "outputs": [
        {
          "output_type": "execute_result",
          "data": {
            "text/plain": [
              "Text(0.5,0,'Epochs')"
            ]
          },
          "metadata": {
            "tags": []
          },
          "execution_count": 55
        },
        {
          "output_type": "display_data",
          "data": {
            "image/png": "[encoded data removed]",
            "text/plain": [
              "<matplotlib.figure.Figure at 0x7fd7eb6c0cf8>"
            ]
          },
          "metadata": {
            "tags": []
          }
        }
      ]
    },
    {
      "metadata": {
        "id": "8sx1q8WqqYjG",
        "colab_type": "text"
      },
      "cell_type": "markdown",
      "source": [
        "Para evaluar su modelo utilice una métrica adecauda para el desbalance presente entre las clases como identificó en el punto b)."
      ]
    },
    {
      "metadata": {
        "id": "BGBI6GYSqYjI",
        "colab_type": "code",
        "outputId": "61b9078c-abe1-4aa4-de9a-8f21fec6fdbb",
        "colab": {
          "base_uri": "https://localhost:8080/",
          "height": 36
        }
      },
      "cell_type": "code",
      "source": [
        "y_pred1=model.predict_classes(X_test,verbose=1)"
      ],
      "execution_count": 72,
      "outputs": [
        {
          "output_type": "stream",
          "text": [
            "14425/14425 [==============================] - 14s 985us/step\n"
          ],
          "name": "stdout"
        }
      ]
    },
    {
      "metadata": {
        "id": "488l63qRqYjS",
        "colab_type": "code",
        "colab": {}
      },
      "cell_type": "code",
      "source": [
        "y_pred=np.argmax(y_pred1,axis=1)"
      ],
      "execution_count": 0,
      "outputs": []
    },
    {
      "metadata": {
        "id": "12JDNMZjqYjV",
        "colab_type": "code",
        "outputId": "3bc06161-cfa1-4720-cdf3-7e7d7499b032",
        "colab": {
          "base_uri": "https://localhost:8080/",
          "height": 36
        }
      },
      "cell_type": "code",
      "source": [
        "f1_score(y_test_class, y_pred, average=\"weighted\")"
      ],
      "execution_count": 77,
      "outputs": [
        {
          "output_type": "execute_result",
          "data": {
            "text/plain": [
              "0.9771923743500867"
            ]
          },
          "metadata": {
            "tags": []
          },
          "execution_count": 77
        }
      ]
    },
    {
      "metadata": {
        "id": "9TIbnb87rfGC",
        "colab_type": "code",
        "colab": {
          "base_uri": "https://localhost:8080/",
          "height": 36
        },
        "outputId": "6850532b-660f-4fbb-9fcb-f89170d3ccc3"
      },
      "cell_type": "code",
      "source": [
        "f1_score(y_test_class, y_pred, average=\"macro\")"
      ],
      "execution_count": 75,
      "outputs": [
        {
          "output_type": "execute_result",
          "data": {
            "text/plain": [
              "0.9751688297574418"
            ]
          },
          "metadata": {
            "tags": []
          },
          "execution_count": 75
        }
      ]
    },
    {
      "metadata": {
        "id": "TmtgLs_-rhrb",
        "colab_type": "code",
        "colab": {
          "base_uri": "https://localhost:8080/",
          "height": 36
        },
        "outputId": "d463fca7-8c25-4b90-86d7-ac128b9d445c"
      },
      "cell_type": "code",
      "source": [
        "f1_score(y_test_class, y_pred, average=\"micro\")"
      ],
      "execution_count": 76,
      "outputs": [
        {
          "output_type": "execute_result",
          "data": {
            "text/plain": [
              "0.9771923743500867"
            ]
          },
          "metadata": {
            "tags": []
          },
          "execution_count": 76
        }
      ]
    },
    {
      "metadata": {
        "id": "gsYltH2x2nhB",
        "colab_type": "text"
      },
      "cell_type": "markdown",
      "source": [
        "Aca como mencionamos al principio ponemos en practica los tres posibles metricas de error, encontrando que el valor principal entre ellos es el mismo, de alguna u otra forma por la estructura de la red y el uso de los TAG que estamos viendo hace posible tener un score tan alto. Esperabamos tambien una difernecia mas grande entre ellos pero su diferencia es minimo teniendo en cuenta que el set de datos no tiene una distribución clara y constante."
      ]
    },
    {
      "metadata": {
        "id": "Mfh1pvU5qYjb",
        "colab_type": "text"
      },
      "cell_type": "markdown",
      "source": [
        "g) Varı́e la dimensionalidad del embedding inicial y determine si **aumenta o disminuye el error de clasificación**. Comente."
      ]
    },
    {
      "metadata": {
        "id": "V-FEnoKUqYjg",
        "colab_type": "code",
        "outputId": "5c8f9354-196f-4602-ca57-74dd3a662998",
        "colab": {
          "base_uri": "https://localhost:8080/",
          "height": 392
        }
      },
      "cell_type": "code",
      "source": [
        "embedding_vector = 64\n",
        "model = Sequential()\n",
        "model.add(Embedding(input_dim=n_lemmas, output_dim=embedding_vector, input_length=30))\n",
        "model.add(LSTM(units=100,return_sequences=True))\n",
        "model.add(Dense(n_labels, activation='softmax'))\n",
        "model.summary()\n",
        "model.compile(loss='categorical_crossentropy', optimizer='adam')\n",
        "history1=model.fit(X_train, y_train, validation_data=(X_test, y_test), epochs=3, batch_size=128)"
      ],
      "execution_count": 78,
      "outputs": [
        {
          "output_type": "stream",
          "text": [
            "_________________________________________________________________\n",
            "Layer (type)                 Output Shape              Param #   \n",
            "=================================================================\n",
            "embedding_3 (Embedding)      (None, 30, 64)            1295552   \n",
            "_________________________________________________________________\n",
            "lstm_3 (LSTM)                (None, 30, 100)           66000     \n",
            "_________________________________________________________________\n",
            "dense_3 (Dense)              (None, 30, 41)            4141      \n",
            "=================================================================\n",
            "Total params: 1,365,693\n",
            "Trainable params: 1,365,693\n",
            "Non-trainable params: 0\n",
            "_________________________________________________________________\n",
            "Train on 33656 samples, validate on 14425 samples\n",
            "Epoch 1/3\n",
            "33656/33656 [==============================] - 26s 778us/step - loss: 1.6522 - val_loss: 0.5941\n",
            "Epoch 2/3\n",
            "33656/33656 [==============================] - 25s 747us/step - loss: 0.3608 - val_loss: 0.2685\n",
            "Epoch 3/3\n",
            "33656/33656 [==============================] - 25s 749us/step - loss: 0.2215 - val_loss: 0.2187\n"
          ],
          "name": "stdout"
        }
      ]
    },
    {
      "metadata": {
        "id": "LJFZcOIC3APJ",
        "colab_type": "text"
      },
      "cell_type": "markdown",
      "source": [
        "En este ejemplo vamos a hacer una apuesta arriesgada colocando 20 epochs, para ver si efectivamente es necesario aumentar eso para tener mejor rendimiento. "
      ]
    },
    {
      "metadata": {
        "id": "7O0Y3BUEqYjk",
        "colab_type": "code",
        "outputId": "1fc377e3-a0d2-4bf7-bf65-2f6b6c5986e2",
        "colab": {
          "base_uri": "https://localhost:8080/",
          "height": 531
        }
      },
      "cell_type": "code",
      "source": [
        "plt.figure(1,figsize=(12,8))\n",
        "plt.plot(history1.history['val_loss'])\n",
        "plt.plot(history1.history['loss'])\n",
        "plt.legend(('Val_Loss', 'Loss' ))\n",
        "plt.title('LSTM con vector de 64')\n",
        "plt.ylabel('Loss')\n",
        "plt.xlabel('Epochs')"
      ],
      "execution_count": 0,
      "outputs": [
        {
          "output_type": "execute_result",
          "data": {
            "text/plain": [
              "Text(0.5,0,'Epochs')"
            ]
          },
          "metadata": {
            "tags": []
          },
          "execution_count": 42
        },
        {
          "output_type": "display_data",
          "data": {
            "image/png": "[encoded data removed]",
            "text/plain": [
              "<matplotlib.figure.Figure at 0x7f2d7a6906a0>"
            ]
          },
          "metadata": {
            "tags": []
          }
        }
      ]
    },
    {
      "metadata": {
        "id": "JyFmbB5O3KIC",
        "colab_type": "code",
        "outputId": "f522796b-943c-4ffd-ad1a-1ad36f785aa6",
        "colab": {
          "base_uri": "https://localhost:8080/",
          "height": 54
        }
      },
      "cell_type": "code",
      "source": [
        "model.save('Modelo2.h5')\n",
        "y_pred1=model.predict_classes(X_test,verbose=1)\n",
        "y_pred=np.argmax(y_pred1,axis=1)\n",
        "f1_score(y_test_class, y_pred, average=\"weighted\")"
      ],
      "execution_count": 80,
      "outputs": [
        {
          "output_type": "stream",
          "text": [
            "14425/14425 [==============================] - 14s 956us/step\n"
          ],
          "name": "stdout"
        },
        {
          "output_type": "execute_result",
          "data": {
            "text/plain": [
              "0.9733614157263468"
            ]
          },
          "metadata": {
            "tags": []
          },
          "execution_count": 80
        }
      ]
    },
    {
      "metadata": {
        "id": "FXpgcOLP42R1",
        "colab_type": "code",
        "colab": {
          "base_uri": "https://localhost:8080/",
          "height": 36
        },
        "outputId": "34f33e48-ff62-4f44-c8ee-e86355a23b1e"
      },
      "cell_type": "code",
      "source": [
        "f1_score(y_test_class, y_pred, average=\"macro\")"
      ],
      "execution_count": 81,
      "outputs": [
        {
          "output_type": "execute_result",
          "data": {
            "text/plain": [
              "0.964008896358326"
            ]
          },
          "metadata": {
            "tags": []
          },
          "execution_count": 81
        }
      ]
    },
    {
      "metadata": {
        "id": "-mn9VmQG44Np",
        "colab_type": "code",
        "colab": {
          "base_uri": "https://localhost:8080/",
          "height": 36
        },
        "outputId": "1c35164e-4fc9-46b9-8139-25bad593d595"
      },
      "cell_type": "code",
      "source": [
        "f1_score(y_test_class, y_pred, average=\"micro\")"
      ],
      "execution_count": 82,
      "outputs": [
        {
          "output_type": "execute_result",
          "data": {
            "text/plain": [
              "0.9733102253032929"
            ]
          },
          "metadata": {
            "tags": []
          },
          "execution_count": 82
        }
      ]
    },
    {
      "metadata": {
        "id": "1em93seO8MwX",
        "colab_type": "text"
      },
      "cell_type": "markdown",
      "source": [
        "En este caso nos vamos acercando a un Score de 0.9 mejorando lo que obtuvimos en el primer modelo. En el siguiente modelo vamos a aumentar el numero de embeding para poder determinar si tenemos, igual, mejor o peor rendimiento que en los modelos que obtenemos hasta el momento"
      ]
    },
    {
      "metadata": {
        "id": "-GorvJwcqYjn",
        "colab_type": "code",
        "outputId": "cf02c14c-0333-4412-d76d-3d30eaf7a92a",
        "colab": {
          "base_uri": "https://localhost:8080/",
          "height": 467
        }
      },
      "cell_type": "code",
      "source": [
        "embedding_vector = 128\n",
        "model = Sequential()\n",
        "model.add(Embedding(input_dim=n_lemmas, output_dim=embedding_vector, input_length=30))\n",
        "model.add(LSTM(units=100,return_sequences=True))\n",
        "model.add(Dense(n_labels, activation='softmax'))\n",
        "model.summary()\n",
        "model.compile(loss='categorical_crossentropy', optimizer='adam')\n",
        "history2=model.fit(X_train, y_train, validation_data=(X_test, y_test), epochs=5, batch_size=128)"
      ],
      "execution_count": 0,
      "outputs": [
        {
          "output_type": "stream",
          "text": [
            "_________________________________________________________________\n",
            "Layer (type)                 Output Shape              Param #   \n",
            "=================================================================\n",
            "embedding_4 (Embedding)      (None, 30, 128)           2591104   \n",
            "_________________________________________________________________\n",
            "lstm_4 (LSTM)                (None, 30, 100)           91600     \n",
            "_________________________________________________________________\n",
            "dense_4 (Dense)              (None, 30, 41)            4141      \n",
            "=================================================================\n",
            "Total params: 2,686,845\n",
            "Trainable params: 2,686,845\n",
            "Non-trainable params: 0\n",
            "_________________________________________________________________\n",
            "Train on 33656 samples, validate on 14425 samples\n",
            "Epoch 1/5\n",
            "33656/33656 [==============================] - 56s 2ms/step - loss: 1.6188 - val_loss: 0.5028\n",
            "Epoch 2/5\n",
            "33656/33656 [==============================] - 54s 2ms/step - loss: 0.3047 - val_loss: 0.2389\n",
            "Epoch 3/5\n",
            "33656/33656 [==============================] - 54s 2ms/step - loss: 0.1961 - val_loss: 0.2010\n",
            "Epoch 4/5\n",
            "33656/33656 [==============================] - 54s 2ms/step - loss: 0.1646 - val_loss: 0.1874\n",
            "Epoch 5/5\n",
            "33656/33656 [==============================] - 55s 2ms/step - loss: 0.1466 - val_loss: 0.1779\n"
          ],
          "name": "stdout"
        }
      ]
    },
    {
      "metadata": {
        "id": "9neAcKRFqYju",
        "colab_type": "code",
        "outputId": "76f93174-68e4-4770-be3a-703f5e61ca47",
        "colab": {
          "base_uri": "https://localhost:8080/",
          "height": 531
        }
      },
      "cell_type": "code",
      "source": [
        "plt.figure(1,figsize=(12,8))\n",
        "plt.plot(history2.history['val_loss'])\n",
        "plt.plot(history2.history['loss'])\n",
        "plt.legend(('Val_Loss', 'Loss' ))\n",
        "plt.title('LSTM con vector 128')\n",
        "plt.ylabel('Loss')\n",
        "plt.xlabel('Epochs')"
      ],
      "execution_count": 0,
      "outputs": [
        {
          "output_type": "execute_result",
          "data": {
            "text/plain": [
              "Text(0.5,0,'Epochs')"
            ]
          },
          "metadata": {
            "tags": []
          },
          "execution_count": 45
        },
        {
          "output_type": "display_data",
          "data": {
            "image/png": "[encoded data removed]",
            "text/plain": [
              "<matplotlib.figure.Figure at 0x7f2d7a6534a8>"
            ]
          },
          "metadata": {
            "tags": []
          }
        }
      ]
    },
    {
      "metadata": {
        "id": "O7-I6fSM3TUF",
        "colab_type": "code",
        "outputId": "f3c0b56e-530b-4a3c-bef5-99cff35f08f5",
        "colab": {
          "base_uri": "https://localhost:8080/",
          "height": 54
        }
      },
      "cell_type": "code",
      "source": [
        "model.save('Modelo3.h5')\n",
        "y_pred1=model.predict_classes(X_test,verbose=1)\n",
        "y_pred=np.argmax(y_pred1,axis=1)\n",
        "f1_score(y_test_class, y_pred, average=\"micro\")"
      ],
      "execution_count": 0,
      "outputs": [
        {
          "output_type": "stream",
          "text": [
            "14425/14425 [==============================] - 7s 519us/step\n"
          ],
          "name": "stdout"
        },
        {
          "output_type": "execute_result",
          "data": {
            "text/plain": [
              "0.8546273830155979"
            ]
          },
          "metadata": {
            "tags": []
          },
          "execution_count": 46
        }
      ]
    },
    {
      "metadata": {
        "id": "-XREzCSS8zzW",
        "colab_type": "text"
      },
      "cell_type": "markdown",
      "source": [
        "En este caso aunque tenemos un score menor que el modelo anterior, si analizamos unicamente hasta el epoch 5 del segundo modelo entrenado aca se obtiene un mejor resultado."
      ]
    },
    {
      "metadata": {
        "id": "VzB6xJKYqYj1",
        "colab_type": "code",
        "outputId": "9c29eaf0-71c7-4a33-8268-5793de47ced9",
        "colab": {
          "base_uri": "https://localhost:8080/",
          "height": 467
        }
      },
      "cell_type": "code",
      "source": [
        "embedding_vector = 16\n",
        "model = Sequential()\n",
        "model.add(Embedding(input_dim=n_lemmas, output_dim=embedding_vector, input_length=30))\n",
        "model.add(LSTM(units=100,return_sequences=True))\n",
        "model.add(Dense(n_labels, activation='softmax'))\n",
        "model.summary()\n",
        "model.compile(loss='categorical_crossentropy', optimizer='adam')\n",
        "history3=model.fit(X_train, y_train, validation_data=(X_test, y_test), epochs=5, batch_size=128)"
      ],
      "execution_count": 0,
      "outputs": [
        {
          "output_type": "stream",
          "text": [
            "_________________________________________________________________\n",
            "Layer (type)                 Output Shape              Param #   \n",
            "=================================================================\n",
            "embedding_5 (Embedding)      (None, 30, 16)            323888    \n",
            "_________________________________________________________________\n",
            "lstm_5 (LSTM)                (None, 30, 100)           46800     \n",
            "_________________________________________________________________\n",
            "dense_5 (Dense)              (None, 30, 41)            4141      \n",
            "=================================================================\n",
            "Total params: 374,829\n",
            "Trainable params: 374,829\n",
            "Non-trainable params: 0\n",
            "_________________________________________________________________\n",
            "Train on 33656 samples, validate on 14425 samples\n",
            "Epoch 1/5\n",
            "33656/33656 [==============================] - 35s 1ms/step - loss: 2.2229 - val_loss: 1.6953\n",
            "Epoch 2/5\n",
            "33656/33656 [==============================] - 33s 993us/step - loss: 1.0587 - val_loss: 0.6088\n",
            "Epoch 3/5\n",
            "33656/33656 [==============================] - 33s 994us/step - loss: 0.4160 - val_loss: 0.3242\n",
            "Epoch 4/5\n",
            "33656/33656 [==============================] - 33s 994us/step - loss: 0.2663 - val_loss: 0.2566\n",
            "Epoch 5/5\n",
            "33656/33656 [==============================] - 34s 1000us/step - loss: 0.2182 - val_loss: 0.2286\n"
          ],
          "name": "stdout"
        }
      ]
    },
    {
      "metadata": {
        "id": "bAayQmdCqYj5",
        "colab_type": "code",
        "outputId": "c9e1e80c-efc2-4840-918c-0101b0eb8da3",
        "colab": {
          "base_uri": "https://localhost:8080/",
          "height": 531
        }
      },
      "cell_type": "code",
      "source": [
        "plt.figure(1,figsize=(12,8))\n",
        "plt.plot(history3.history['val_loss'])\n",
        "plt.plot(history3.history['loss'])\n",
        "plt.legend(('Val_Loss', 'Loss' ))\n",
        "plt.title('LSTM vector de 16')\n",
        "plt.ylabel('Loss')\n",
        "plt.xlabel('Epochs')"
      ],
      "execution_count": 0,
      "outputs": [
        {
          "output_type": "execute_result",
          "data": {
            "text/plain": [
              "Text(0.5,0,'Epochs')"
            ]
          },
          "metadata": {
            "tags": []
          },
          "execution_count": 48
        },
        {
          "output_type": "display_data",
          "data": {
            "image/png": "[encoded data removed]",
            "text/plain": [
              "<matplotlib.figure.Figure at 0x7f2d78b0d160>"
            ]
          },
          "metadata": {
            "tags": []
          }
        }
      ]
    },
    {
      "metadata": {
        "id": "_yIDPNWu3b3i",
        "colab_type": "code",
        "outputId": "e14c3176-348c-4f69-e976-2b3f5b51b806",
        "colab": {
          "base_uri": "https://localhost:8080/",
          "height": 54
        }
      },
      "cell_type": "code",
      "source": [
        "model.save('Modelo4.h5')\n",
        "y_pred1=model.predict_classes(X_test,verbose=1)\n",
        "y_pred=np.argmax(y_pred1,axis=1)\n",
        "f1_score(y_test_class, y_pred, average=\"micro\")"
      ],
      "execution_count": 0,
      "outputs": [
        {
          "output_type": "stream",
          "text": [
            "14425/14425 [==============================] - 6s 387us/step\n"
          ],
          "name": "stdout"
        },
        {
          "output_type": "execute_result",
          "data": {
            "text/plain": [
              "0.826412478336222"
            ]
          },
          "metadata": {
            "tags": []
          },
          "execution_count": 49
        }
      ]
    },
    {
      "metadata": {
        "id": "H0Nk2RPY9CH-",
        "colab_type": "text"
      },
      "cell_type": "markdown",
      "source": [
        "La conclusion de este inciso es bastante clara, tenemos una relación directa entre el numero de embeddings y la función de perdida junto con el F1_Score, teniendo el mayor numero de embeddings se determina que tiene mejor resultado casi en un 0.3 de impacto en la metrica"
      ]
    },
    {
      "metadata": {
        "id": "rmSl1EYXqYj_",
        "colab_type": "text"
      },
      "cell_type": "markdown",
      "source": [
        "h) Use *Dropout* para entrenar la LSTM. **¿El *Dropout* mejora el desempeño de la red?** Señale cuáles podrı́an ser las causas del comportamiento observado."
      ]
    },
    {
      "metadata": {
        "id": "mwkKnSdJqYkA",
        "colab_type": "code",
        "outputId": "38d96d93-5d6c-462d-fb51-5b2fc7b1aa1f",
        "colab": {
          "base_uri": "https://localhost:8080/",
          "height": 223
        }
      },
      "cell_type": "code",
      "source": [
        "embedding_vector = 64\n",
        "model = Sequential()\n",
        "model.add(Embedding(input_dim=n_lemmas, output_dim=embedding_vector, input_length=30))\n",
        "model.add(LSTM(units=100,return_sequences=True)) #or recurrent_dropout=0.2\n",
        "model.add(Dropout(0.2))\n",
        "model.add(Dense(n_labels, activation='softmax'))\n",
        "model.compile(loss='categorical_crossentropy', optimizer='adam')\n",
        "model.compile(loss='categorical_crossentropy', optimizer='adam')\n",
        "history4=model.fit(X_train, y_train, validation_data=(X_test, y_test), epochs=5, batch_size=128)"
      ],
      "execution_count": 28,
      "outputs": [
        {
          "output_type": "stream",
          "text": [
            "Train on 33656 samples, validate on 14425 samples\n",
            "Epoch 1/5\n",
            "33656/33656 [==============================] - 33s 974us/step - loss: 1.8982 - val_loss: 0.8689\n",
            "Epoch 2/5\n",
            "33656/33656 [==============================] - 30s 904us/step - loss: 0.4698 - val_loss: 0.2911\n",
            "Epoch 3/5\n",
            "33656/33656 [==============================] - 31s 921us/step - loss: 0.2477 - val_loss: 0.2276\n",
            "Epoch 4/5\n",
            "33656/33656 [==============================] - 31s 932us/step - loss: 0.2017 - val_loss: 0.2057\n",
            "Epoch 5/5\n",
            "33656/33656 [==============================] - 31s 908us/step - loss: 0.1786 - val_loss: 0.1938\n"
          ],
          "name": "stdout"
        }
      ]
    },
    {
      "metadata": {
        "id": "jit5HHl2qYkC",
        "colab_type": "code",
        "outputId": "352a0aff-64eb-4bf2-d029-ea7d7618707c",
        "colab": {
          "base_uri": "https://localhost:8080/",
          "height": 531
        }
      },
      "cell_type": "code",
      "source": [
        "plt.figure(1,figsize=(12,8))\n",
        "plt.plot(history4.history['val_loss'])\n",
        "plt.plot(history4.history['loss'])\n",
        "plt.legend(('Val_Loss', 'Loss' ))\n",
        "plt.title('LSTM con Dropout')\n",
        "plt.ylabel('Loss')\n",
        "plt.xlabel('Epochs')"
      ],
      "execution_count": 29,
      "outputs": [
        {
          "output_type": "execute_result",
          "data": {
            "text/plain": [
              "Text(0.5,0,'Epochs')"
            ]
          },
          "metadata": {
            "tags": []
          },
          "execution_count": 29
        },
        {
          "output_type": "display_data",
          "data": {
            "image/png": "[encoded data removed]",
            "text/plain": [
              "<matplotlib.figure.Figure at 0x7f5226c7b9e8>"
            ]
          },
          "metadata": {
            "tags": []
          }
        }
      ]
    },
    {
      "metadata": {
        "id": "m8xfZaxA3iu7",
        "colab_type": "code",
        "outputId": "add7a10b-8e2f-4b4e-becb-aaf209dd37b7",
        "colab": {
          "base_uri": "https://localhost:8080/",
          "height": 54
        }
      },
      "cell_type": "code",
      "source": [
        "model.save('Modelo5.h5')\n",
        "y_pred1=model.predict_classes(X_test,verbose=1)\n",
        "y_pred=np.argmax(y_pred1,axis=1)\n",
        "f1_score(y_test_class, y_pred, average=\"micro\")"
      ],
      "execution_count": 30,
      "outputs": [
        {
          "output_type": "stream",
          "text": [
            "14425/14425 [==============================] - 17s 1ms/step\n"
          ],
          "name": "stdout"
        },
        {
          "output_type": "execute_result",
          "data": {
            "text/plain": [
              "0.8922703639514732"
            ]
          },
          "metadata": {
            "tags": []
          },
          "execution_count": 30
        }
      ]
    },
    {
      "metadata": {
        "id": "nvxCHlq1IcqT",
        "colab_type": "code",
        "colab": {
          "base_uri": "https://localhost:8080/",
          "height": 756
        },
        "outputId": "715f77bc-1735-49e8-ca22-1bb04cc9ebe4"
      },
      "cell_type": "code",
      "source": [
        "embedding_vector = 64\n",
        "model = Sequential()\n",
        "model.add(Embedding(input_dim=n_lemmas, output_dim=embedding_vector, input_length=30))\n",
        "model.add(LSTM(units=100,return_sequences=True)) #or recurrent_dropout=0.2\n",
        "model.add(Dropout(0.3))\n",
        "model.add(Dense(n_labels, activation='softmax'))\n",
        "model.compile(loss='categorical_crossentropy', optimizer='adam')\n",
        "model.compile(loss='categorical_crossentropy', optimizer='adam')\n",
        "history4=model.fit(X_train, y_train, validation_data=(X_test, y_test), epochs=5, batch_size=128)\n",
        "plt.figure(1,figsize=(12,8))\n",
        "plt.plot(history4.history['val_loss'])\n",
        "plt.plot(history4.history['loss'])\n",
        "plt.legend(('Val_Loss', 'Loss' ))\n",
        "plt.title('LSTM con Dropout')\n",
        "plt.ylabel('Loss')\n",
        "plt.xlabel('Epochs')\n",
        "model.save('Modelo5dro.h5')\n",
        "y_pred1=model.predict_classes(X_test,verbose=1)\n",
        "y_pred=np.argmax(y_pred1,axis=1)\n",
        "f1_score(y_test_class, y_pred, average=\"micro\")"
      ],
      "execution_count": 31,
      "outputs": [
        {
          "output_type": "stream",
          "text": [
            "Train on 33656 samples, validate on 14425 samples\n",
            "Epoch 1/5\n",
            "33656/33656 [==============================] - 32s 961us/step - loss: 1.9082 - val_loss: 0.8415\n",
            "Epoch 2/5\n",
            "33656/33656 [==============================] - 31s 913us/step - loss: 0.4654 - val_loss: 0.2841\n",
            "Epoch 3/5\n",
            "33656/33656 [==============================] - 31s 922us/step - loss: 0.2510 - val_loss: 0.2242\n",
            "Epoch 4/5\n",
            "33656/33656 [==============================] - 31s 933us/step - loss: 0.2061 - val_loss: 0.2039\n",
            "Epoch 5/5\n",
            "33656/33656 [==============================] - 31s 920us/step - loss: 0.1844 - val_loss: 0.1930\n",
            "14425/14425 [==============================] - 18s 1ms/step\n"
          ],
          "name": "stdout"
        },
        {
          "output_type": "execute_result",
          "data": {
            "text/plain": [
              "0.8917850953206238"
            ]
          },
          "metadata": {
            "tags": []
          },
          "execution_count": 31
        },
        {
          "output_type": "display_data",
          "data": {
            "image/png": "[encoded data removed]",
            "text/plain": [
              "<matplotlib.figure.Figure at 0x7f5225c40c50>"
            ]
          },
          "metadata": {
            "tags": []
          }
        }
      ]
    },
    {
      "metadata": {
        "id": "g954p4EqIn-_",
        "colab_type": "code",
        "colab": {
          "base_uri": "https://localhost:8080/",
          "height": 756
        },
        "outputId": "2683d83c-39dc-4423-a227-ed981feac451"
      },
      "cell_type": "code",
      "source": [
        "embedding_vector = 64\n",
        "model = Sequential()\n",
        "model.add(Embedding(input_dim=n_lemmas, output_dim=embedding_vector, input_length=30))\n",
        "model.add(LSTM(units=100,return_sequences=True)) #or recurrent_dropout=0.2\n",
        "model.add(Dropout(0.4))\n",
        "model.add(Dense(n_labels, activation='softmax'))\n",
        "model.compile(loss='categorical_crossentropy', optimizer='adam')\n",
        "model.compile(loss='categorical_crossentropy', optimizer='adam')\n",
        "history4=model.fit(X_train, y_train, validation_data=(X_test, y_test), epochs=5, batch_size=128)\n",
        "plt.figure(1,figsize=(12,8))\n",
        "plt.plot(history4.history['val_loss'])\n",
        "plt.plot(history4.history['loss'])\n",
        "plt.legend(('Val_Loss', 'Loss' ))\n",
        "plt.title('LSTM con Dropout')\n",
        "plt.ylabel('Loss')\n",
        "plt.xlabel('Epochs')\n",
        "model.save('Modelo5dro.h5')\n",
        "y_pred1=model.predict_classes(X_test,verbose=1)\n",
        "y_pred=np.argmax(y_pred1,axis=1)\n",
        "f1_score(y_test_class, y_pred, average=\"micro\")"
      ],
      "execution_count": 32,
      "outputs": [
        {
          "output_type": "stream",
          "text": [
            "Train on 33656 samples, validate on 14425 samples\n",
            "Epoch 1/5\n",
            "33656/33656 [==============================] - 33s 973us/step - loss: 1.9638 - val_loss: 0.9619\n",
            "Epoch 2/5\n",
            "33656/33656 [==============================] - 31s 925us/step - loss: 0.5263 - val_loss: 0.2987\n",
            "Epoch 3/5\n",
            "33656/33656 [==============================] - 31s 932us/step - loss: 0.2685 - val_loss: 0.2298\n",
            "Epoch 4/5\n",
            "33656/33656 [==============================] - 31s 921us/step - loss: 0.2167 - val_loss: 0.2059\n",
            "Epoch 5/5\n",
            "33656/33656 [==============================] - 31s 930us/step - loss: 0.1920 - val_loss: 0.1945\n",
            "14425/14425 [==============================] - 18s 1ms/step\n"
          ],
          "name": "stdout"
        },
        {
          "output_type": "execute_result",
          "data": {
            "text/plain": [
              "0.8867937608318891"
            ]
          },
          "metadata": {
            "tags": []
          },
          "execution_count": 32
        },
        {
          "output_type": "display_data",
          "data": {
            "image/png": "[encoded data removed]",
            "text/plain": [
              "<matplotlib.figure.Figure at 0x7f5224d85c88>"
            ]
          },
          "metadata": {
            "tags": []
          }
        }
      ]
    },
    {
      "metadata": {
        "id": "Rb7VROd-9dOq",
        "colab_type": "text"
      },
      "cell_type": "markdown",
      "source": [
        "Si añadimos Dropout al modelo no se tiene un buen resultado de Score, comparado relativamente con los modelos que hemos obtenido hasta el momento, tambien podria ser conveniente evaluar si es necesario elevar ese porcentaje y poder determinar si esta tecnica efectivamente nos puede entregar un mejor resultado."
      ]
    },
    {
      "metadata": {
        "id": "bsvoUHlJqYkG",
        "colab_type": "text"
      },
      "cell_type": "markdown",
      "source": [
        "i) Algunos autores señalan la importante dependencia que existe en texto, no solo con las palabras anteriores, sino que con las que siguen.**Mejore la red definida en f) utilizando una red neuronal recurrente Bidireccional**, es decir, con recurrencia en ambas direcciones sobre la secuencia de *lemmas* de entrada. Comente **cuál debiera ser la forma correcta de usar el parámetro *merge_mode*** (concatenar, multiplicar, sumar o promediar) para este caso. Además comente las transformaciones que sufre el patrón de entrada al pasar por las capas. **¿Mejora o empeora el desempeño?** Analice."
      ]
    },
    {
      "metadata": {
        "id": "JUhQ5hMJ38UK",
        "colab_type": "code",
        "outputId": "f3b2170d-2a84-4509-9882-363aa4695028",
        "colab": {
          "base_uri": "https://localhost:8080/",
          "height": 467
        }
      },
      "cell_type": "code",
      "source": [
        "embedding_vector = 64\n",
        "model = Sequential()\n",
        "model.add(Embedding(input_dim=n_lemmas, output_dim=embedding_vector, input_length=30))\n",
        "layer_lstm = LSTM(units=100,return_sequences=True)\n",
        "model.add(Bidirectional(layer_lstm,merge_mode='concat'))\n",
        "model.add(Dense(n_labels, activation='softmax'))\n",
        "model.summary()\n",
        "model.compile(loss='categorical_crossentropy', optimizer='adam')\n",
        "model.compile(loss='categorical_crossentropy', optimizer='adam')\n",
        "history5=model.fit(X_train, y_train, validation_data=(X_test, y_test), epochs=5, batch_size=128)"
      ],
      "execution_count": 33,
      "outputs": [
        {
          "output_type": "stream",
          "text": [
            "_________________________________________________________________\n",
            "Layer (type)                 Output Shape              Param #   \n",
            "=================================================================\n",
            "embedding_9 (Embedding)      (None, 30, 64)            1295552   \n",
            "_________________________________________________________________\n",
            "bidirectional_1 (Bidirection (None, 30, 200)           132000    \n",
            "_________________________________________________________________\n",
            "dense_9 (Dense)              (None, 30, 41)            8241      \n",
            "=================================================================\n",
            "Total params: 1,435,793\n",
            "Trainable params: 1,435,793\n",
            "Non-trainable params: 0\n",
            "_________________________________________________________________\n",
            "Train on 33656 samples, validate on 14425 samples\n",
            "Epoch 1/5\n",
            "33656/33656 [==============================] - 64s 2ms/step - loss: 1.7000 - val_loss: 0.6059\n",
            "Epoch 2/5\n",
            "33656/33656 [==============================] - 62s 2ms/step - loss: 0.3139 - val_loss: 0.2109\n",
            "Epoch 3/5\n",
            "33656/33656 [==============================] - 62s 2ms/step - loss: 0.1692 - val_loss: 0.1665\n",
            "Epoch 4/5\n",
            "33656/33656 [==============================] - 61s 2ms/step - loss: 0.1334 - val_loss: 0.1485\n",
            "Epoch 5/5\n",
            "33656/33656 [==============================] - 61s 2ms/step - loss: 0.1134 - val_loss: 0.1406\n"
          ],
          "name": "stdout"
        }
      ]
    },
    {
      "metadata": {
        "id": "_JLF3oth4IX-",
        "colab_type": "code",
        "outputId": "4f3150e3-bf96-4a3f-e205-152eb2422ff1",
        "colab": {
          "base_uri": "https://localhost:8080/",
          "height": 54
        }
      },
      "cell_type": "code",
      "source": [
        "model.save('Modelo6.h5')\n",
        "y_pred1=model.predict_classes(X_test,verbose=1)\n",
        "y_pred=np.argmax(y_pred1,axis=1)\n",
        "f1_score(y_test_class, y_pred, average=\"micro\")"
      ],
      "execution_count": 34,
      "outputs": [
        {
          "output_type": "stream",
          "text": [
            "14425/14425 [==============================] - 35s 2ms/step\n"
          ],
          "name": "stdout"
        },
        {
          "output_type": "execute_result",
          "data": {
            "text/plain": [
              "0.9342807625649914"
            ]
          },
          "metadata": {
            "tags": []
          },
          "execution_count": 34
        }
      ]
    },
    {
      "metadata": {
        "id": "uR2en_Hl398i",
        "colab_type": "code",
        "outputId": "0654f5ae-00b0-488a-eb1b-7972a441da2e",
        "colab": {
          "base_uri": "https://localhost:8080/",
          "height": 467
        }
      },
      "cell_type": "code",
      "source": [
        "embedding_vector = 64\n",
        "model = Sequential()\n",
        "model.add(Embedding(input_dim=n_lemmas, output_dim=embedding_vector, input_length=30))\n",
        "layer_lstm = LSTM(units=100,return_sequences=True)\n",
        "model.add(Bidirectional(layer_lstm,merge_mode='sum'))\n",
        "model.add(Dense(n_labels, activation='softmax'))\n",
        "model.summary()\n",
        "model.compile(loss='categorical_crossentropy', optimizer='adam')\n",
        "model.compile(loss='categorical_crossentropy', optimizer='adam')\n",
        "history6=model.fit(X_train, y_train, validation_data=(X_test, y_test), epochs=5, batch_size=128)"
      ],
      "execution_count": 35,
      "outputs": [
        {
          "output_type": "stream",
          "text": [
            "_________________________________________________________________\n",
            "Layer (type)                 Output Shape              Param #   \n",
            "=================================================================\n",
            "embedding_10 (Embedding)     (None, 30, 64)            1295552   \n",
            "_________________________________________________________________\n",
            "bidirectional_2 (Bidirection (None, 30, 100)           132000    \n",
            "_________________________________________________________________\n",
            "dense_10 (Dense)             (None, 30, 41)            4141      \n",
            "=================================================================\n",
            "Total params: 1,431,693\n",
            "Trainable params: 1,431,693\n",
            "Non-trainable params: 0\n",
            "_________________________________________________________________\n",
            "Train on 33656 samples, validate on 14425 samples\n",
            "Epoch 1/5\n",
            "33656/33656 [==============================] - 65s 2ms/step - loss: 1.5797 - val_loss: 0.5061\n",
            "Epoch 2/5\n",
            "33656/33656 [==============================] - 62s 2ms/step - loss: 0.2880 - val_loss: 0.2074\n",
            "Epoch 3/5\n",
            "33656/33656 [==============================] - 62s 2ms/step - loss: 0.1657 - val_loss: 0.1641\n",
            "Epoch 4/5\n",
            "33656/33656 [==============================] - 62s 2ms/step - loss: 0.1306 - val_loss: 0.1464\n",
            "Epoch 5/5\n",
            "33656/33656 [==============================] - 61s 2ms/step - loss: 0.1101 - val_loss: 0.1382\n"
          ],
          "name": "stdout"
        }
      ]
    },
    {
      "metadata": {
        "id": "BpPnfGgH4LyN",
        "colab_type": "code",
        "outputId": "df003278-a94e-4f12-8628-cb46f404a986",
        "colab": {
          "base_uri": "https://localhost:8080/",
          "height": 54
        }
      },
      "cell_type": "code",
      "source": [
        "model.save('Modelo7.h5')\n",
        "y_pred1=model.predict_classes(X_test,verbose=1)\n",
        "y_pred=np.argmax(y_pred1,axis=1)\n",
        "f1_score(y_test_class, y_pred, average=\"micro\")"
      ],
      "execution_count": 36,
      "outputs": [
        {
          "output_type": "stream",
          "text": [
            "14425/14425 [==============================] - 35s 2ms/step\n"
          ],
          "name": "stdout"
        },
        {
          "output_type": "execute_result",
          "data": {
            "text/plain": [
              "0.9331715771230502"
            ]
          },
          "metadata": {
            "tags": []
          },
          "execution_count": 36
        }
      ]
    },
    {
      "metadata": {
        "id": "wwHj5QkD4Bjj",
        "colab_type": "code",
        "outputId": "d958019c-3cd4-47a5-fca3-5fd272d445c7",
        "colab": {
          "base_uri": "https://localhost:8080/",
          "height": 467
        }
      },
      "cell_type": "code",
      "source": [
        "embedding_vector = 64\n",
        "model = Sequential()\n",
        "model.add(Embedding(input_dim=n_lemmas, output_dim=embedding_vector, input_length=30))\n",
        "layer_lstm = LSTM(units=100,return_sequences=True)\n",
        "model.add(Bidirectional(layer_lstm,merge_mode='mul'))\n",
        "model.add(Dense(n_labels, activation='softmax'))\n",
        "model.summary()\n",
        "model.compile(loss='categorical_crossentropy', optimizer='adam')\n",
        "model.compile(loss='categorical_crossentropy', optimizer='adam')\n",
        "history7=model.fit(X_train, y_train, validation_data=(X_test, y_test), epochs=5, batch_size=128)"
      ],
      "execution_count": 37,
      "outputs": [
        {
          "output_type": "stream",
          "text": [
            "_________________________________________________________________\n",
            "Layer (type)                 Output Shape              Param #   \n",
            "=================================================================\n",
            "embedding_11 (Embedding)     (None, 30, 64)            1295552   \n",
            "_________________________________________________________________\n",
            "bidirectional_3 (Bidirection (None, 30, 100)           132000    \n",
            "_________________________________________________________________\n",
            "dense_11 (Dense)             (None, 30, 41)            4141      \n",
            "=================================================================\n",
            "Total params: 1,431,693\n",
            "Trainable params: 1,431,693\n",
            "Non-trainable params: 0\n",
            "_________________________________________________________________\n",
            "Train on 33656 samples, validate on 14425 samples\n",
            "Epoch 1/5\n",
            "33656/33656 [==============================] - 65s 2ms/step - loss: 1.8319 - val_loss: 0.6980\n",
            "Epoch 2/5\n",
            "33656/33656 [==============================] - 62s 2ms/step - loss: 0.3848 - val_loss: 0.2601\n",
            "Epoch 3/5\n",
            "33656/33656 [==============================] - 62s 2ms/step - loss: 0.2046 - val_loss: 0.1978\n",
            "Epoch 4/5\n",
            "33656/33656 [==============================] - 61s 2ms/step - loss: 0.1590 - val_loss: 0.1727\n",
            "Epoch 5/5\n",
            "33656/33656 [==============================] - 62s 2ms/step - loss: 0.1350 - val_loss: 0.1587\n"
          ],
          "name": "stdout"
        }
      ]
    },
    {
      "metadata": {
        "id": "gG_zH2Z34RBy",
        "colab_type": "code",
        "outputId": "27078155-3e1d-452c-a642-3b5f95336a51",
        "colab": {
          "base_uri": "https://localhost:8080/",
          "height": 54
        }
      },
      "cell_type": "code",
      "source": [
        "model.save('Modelo8.h5')\n",
        "y_pred1=model.predict_classes(X_test,verbose=1)\n",
        "y_pred=np.argmax(y_pred1,axis=1)\n",
        "f1_score(y_test_class, y_pred, average=\"micro\")"
      ],
      "execution_count": 38,
      "outputs": [
        {
          "output_type": "stream",
          "text": [
            "14425/14425 [==============================] - 35s 2ms/step\n"
          ],
          "name": "stdout"
        },
        {
          "output_type": "execute_result",
          "data": {
            "text/plain": [
              "0.922842287694974"
            ]
          },
          "metadata": {
            "tags": []
          },
          "execution_count": 38
        }
      ]
    },
    {
      "metadata": {
        "id": "2DNi3ycwqYkH",
        "colab_type": "code",
        "outputId": "d048d996-9bba-44c0-e389-ed55a925a7a9",
        "colab": {
          "base_uri": "https://localhost:8080/",
          "height": 467
        }
      },
      "cell_type": "code",
      "source": [
        "embedding_vector = 64\n",
        "model = Sequential()\n",
        "model.add(Embedding(input_dim=n_lemmas, output_dim=embedding_vector, input_length=30))\n",
        "layer_lstm = LSTM(units=100,return_sequences=True)\n",
        "model.add(Bidirectional(layer_lstm,merge_mode='ave'))\n",
        "model.add(Dense(n_labels, activation='softmax'))\n",
        "model.summary()\n",
        "model.compile(loss='categorical_crossentropy', optimizer='adam')\n",
        "model.compile(loss='categorical_crossentropy', optimizer='adam')\n",
        "history8=model.fit(X_train, y_train, validation_data=(X_test, y_test), epochs=5, batch_size=128)"
      ],
      "execution_count": 39,
      "outputs": [
        {
          "output_type": "stream",
          "text": [
            "_________________________________________________________________\n",
            "Layer (type)                 Output Shape              Param #   \n",
            "=================================================================\n",
            "embedding_12 (Embedding)     (None, 30, 64)            1295552   \n",
            "_________________________________________________________________\n",
            "bidirectional_4 (Bidirection (None, 30, 100)           132000    \n",
            "_________________________________________________________________\n",
            "dense_12 (Dense)             (None, 30, 41)            4141      \n",
            "=================================================================\n",
            "Total params: 1,431,693\n",
            "Trainable params: 1,431,693\n",
            "Non-trainable params: 0\n",
            "_________________________________________________________________\n",
            "Train on 33656 samples, validate on 14425 samples\n",
            "Epoch 1/5\n",
            "33656/33656 [==============================] - 65s 2ms/step - loss: 1.9215 - val_loss: 1.0526\n",
            "Epoch 2/5\n",
            "33656/33656 [==============================] - 62s 2ms/step - loss: 0.5286 - val_loss: 0.2888\n",
            "Epoch 3/5\n",
            "33656/33656 [==============================] - 63s 2ms/step - loss: 0.2178 - val_loss: 0.1945\n",
            "Epoch 4/5\n",
            "33656/33656 [==============================] - 63s 2ms/step - loss: 0.1570 - val_loss: 0.1642\n",
            "Epoch 5/5\n",
            "33656/33656 [==============================] - 62s 2ms/step - loss: 0.1294 - val_loss: 0.1486\n"
          ],
          "name": "stdout"
        }
      ]
    },
    {
      "metadata": {
        "id": "sBCbCKx24Uho",
        "colab_type": "code",
        "outputId": "76eba8c0-7918-4dd5-dfaf-fa396a7f911b",
        "colab": {
          "base_uri": "https://localhost:8080/",
          "height": 54
        }
      },
      "cell_type": "code",
      "source": [
        "model.save('Modelo9.h5')\n",
        "y_pred1=model.predict_classes(X_test,verbose=1)\n",
        "y_pred=np.argmax(y_pred1,axis=1)\n",
        "f1_score(y_test_class, y_pred, average=\"micro\")"
      ],
      "execution_count": 40,
      "outputs": [
        {
          "output_type": "stream",
          "text": [
            "14425/14425 [==============================] - 36s 2ms/step\n"
          ],
          "name": "stdout"
        },
        {
          "output_type": "execute_result",
          "data": {
            "text/plain": [
              "0.9299826689774696"
            ]
          },
          "metadata": {
            "tags": []
          },
          "execution_count": 40
        }
      ]
    },
    {
      "metadata": {
        "id": "-TjqPTJgqYkJ",
        "colab_type": "code",
        "outputId": "c3493880-15b0-4963-9a3f-f11c2c46eb50",
        "colab": {
          "base_uri": "https://localhost:8080/",
          "height": 531
        }
      },
      "cell_type": "code",
      "source": [
        "plt.figure(1,figsize=(12,8))\n",
        "plt.plot(history5.history['val_loss'])\n",
        "plt.plot(history5.history['loss'])\n",
        "plt.plot(history6.history['val_loss'])\n",
        "plt.plot(history6.history['loss'])\n",
        "plt.plot(history7.history['val_loss'])\n",
        "plt.plot(history7.history['loss'])\n",
        "plt.plot(history8.history['val_loss'])\n",
        "plt.plot(history8.history['loss'])\n",
        "plt.legend(('Val_Loss-Concat', 'Loss-Concat','Val_Loss-Sum', 'Loss-Sum','Val_Loss-Mul', 'Loss-Mul','Val_Loss-Average', 'Loss-Average' ))\n",
        "plt.title('Comparación de Merge')\n",
        "plt.ylabel('Loss')\n",
        "plt.xlabel('Epochs')"
      ],
      "execution_count": 41,
      "outputs": [
        {
          "output_type": "execute_result",
          "data": {
            "text/plain": [
              "Text(0.5,0,'Epochs')"
            ]
          },
          "metadata": {
            "tags": []
          },
          "execution_count": 41
        },
        {
          "output_type": "display_data",
          "data": {
            "image/png": "[encoded data removed]",
            "text/plain": [
              "<matplotlib.figure.Figure at 0x7f521e0d8748>"
            ]
          },
          "metadata": {
            "tags": []
          }
        }
      ]
    },
    {
      "metadata": {
        "id": "kbXhwpNykF5E",
        "colab_type": "text"
      },
      "cell_type": "markdown",
      "source": [
        "En este caso el mejor rendimiento lo da el modelo que utiliza el parametro SUM es el que tomaremos en los siguientes puntos para hacer mejoras y ver como se comporta el rendimiento. Tiene mucha razón que ambos sum y concatenacia sean los parametros con mejor resultado adeamas es muy importante poder determinar que se debe seguir evaluando los modelos con los diferntes hiperparametros"
      ]
    },
    {
      "metadata": {
        "id": "S0rCnQFOqYka",
        "colab_type": "text"
      },
      "cell_type": "markdown",
      "source": [
        "j) Recientemente se ha implementado la capa de *Masking* en las redes recurrentes en *keras*, lo cual podría traer gran ayuda gracias al *padding* que se realiza con el símbolo especial definido. **Entrene la red definida en f) y compare al utilizar esta funcionalidad de enmascarar el valor 0 en este caso para el *default* de la capa *embedding***, comente sobre las curvas de entrenamiento y los tiempos de entrenamiento."
      ]
    },
    {
      "metadata": {
        "id": "8cT05J84qYka",
        "colab_type": "code",
        "outputId": "89f589fb-79d3-4cc1-bcdb-bed25343c677",
        "colab": {
          "base_uri": "https://localhost:8080/",
          "height": 467
        }
      },
      "cell_type": "code",
      "source": [
        "lemma2idx[\"yourspecialcharacter\"] = 0 #should be zero.. if not correct it\n",
        "embedding_vector = 64\n",
        "model = Sequential()\n",
        "model.add(Embedding(input_dim=n_lemmas, output_dim=embedding_vector, input_length=30,mask_zero=True))\n",
        "model.add(LSTM(units=100,return_sequences=True))\n",
        "model.add(Dense(n_labels, activation='softmax'))\n",
        "model.summary()\n",
        "model.compile(loss='categorical_crossentropy', optimizer='adam')\n",
        "history9=model.fit(X_train, y_train, validation_data=(X_test, y_test), epochs=5, batch_size=128)\n"
      ],
      "execution_count": 42,
      "outputs": [
        {
          "output_type": "stream",
          "text": [
            "_________________________________________________________________\n",
            "Layer (type)                 Output Shape              Param #   \n",
            "=================================================================\n",
            "embedding_13 (Embedding)     (None, 30, 64)            1295552   \n",
            "_________________________________________________________________\n",
            "lstm_11 (LSTM)               (None, 30, 100)           66000     \n",
            "_________________________________________________________________\n",
            "dense_13 (Dense)             (None, 30, 41)            4141      \n",
            "=================================================================\n",
            "Total params: 1,365,693\n",
            "Trainable params: 1,365,693\n",
            "Non-trainable params: 0\n",
            "_________________________________________________________________\n",
            "Train on 33656 samples, validate on 14425 samples\n",
            "Epoch 1/5\n",
            "33656/33656 [==============================] - 44s 1ms/step - loss: 1.8568 - val_loss: 0.7847\n",
            "Epoch 2/5\n",
            "33656/33656 [==============================] - 41s 1ms/step - loss: 0.4075 - val_loss: 0.2751\n",
            "Epoch 3/5\n",
            "33656/33656 [==============================] - 40s 1ms/step - loss: 0.2240 - val_loss: 0.2204\n",
            "Epoch 4/5\n",
            "33656/33656 [==============================] - 41s 1ms/step - loss: 0.1829 - val_loss: 0.1988\n",
            "Epoch 5/5\n",
            "33656/33656 [==============================] - 41s 1ms/step - loss: 0.1614 - val_loss: 0.1879\n"
          ],
          "name": "stdout"
        }
      ]
    },
    {
      "metadata": {
        "id": "_f4w_bUY4pz1",
        "colab_type": "code",
        "outputId": "f2710a05-2f7e-4308-8a75-d0131fff20f4",
        "colab": {
          "base_uri": "https://localhost:8080/",
          "height": 54
        }
      },
      "cell_type": "code",
      "source": [
        "model.save('Modelo10.h5')\n",
        "y_pred1=model.predict_classes(X_test,verbose=1)\n",
        "y_pred=np.argmax(y_pred1,axis=1)\n",
        "f1_score(y_test_class, y_pred, average=\"micro\")"
      ],
      "execution_count": 43,
      "outputs": [
        {
          "output_type": "stream",
          "text": [
            "14425/14425 [==============================] - 22s 2ms/step\n"
          ],
          "name": "stdout"
        },
        {
          "output_type": "execute_result",
          "data": {
            "text/plain": [
              "0.8947660311958405"
            ]
          },
          "metadata": {
            "tags": []
          },
          "execution_count": 43
        }
      ]
    },
    {
      "metadata": {
        "id": "niXF-vkZqYke",
        "colab_type": "code",
        "outputId": "b6837768-2cc4-4e1f-f6ec-198cf51567dd",
        "colab": {
          "base_uri": "https://localhost:8080/",
          "height": 531
        }
      },
      "cell_type": "code",
      "source": [
        "plt.figure(1,figsize=(12,8))\n",
        "plt.plot(history9.history['val_loss'])\n",
        "plt.plot(history9.history['loss'])\n",
        "plt.legend(('Val_Loss', 'Loss' ))\n",
        "plt.title('LSTM Padding Embedding')\n",
        "plt.ylabel('Loss')\n",
        "plt.xlabel('Epochs')"
      ],
      "execution_count": 44,
      "outputs": [
        {
          "output_type": "execute_result",
          "data": {
            "text/plain": [
              "Text(0.5,0,'Epochs')"
            ]
          },
          "metadata": {
            "tags": []
          },
          "execution_count": 44
        },
        {
          "output_type": "display_data",
          "data": {
            "image/png": "[encoded data removed]",
            "text/plain": [
              "<matplotlib.figure.Figure at 0x7f521e0c4630>"
            ]
          },
          "metadata": {
            "tags": []
          }
        }
      ]
    },
    {
      "metadata": {
        "id": "ysv7ulCekQuF",
        "colab_type": "text"
      },
      "cell_type": "markdown",
      "source": [
        "Estos cambios no nos ofrecen mejoras significativas y/o representativas en los resultados que hemos obtenido hasta el momento manteniendo la media y la desviación estandar del performance de los resultados. Esto que tambien puede ser llamado fine tunning es de gran ayuda, desde la parte disciplinar de mi equipo de trabajo donde no habiamos tenido oportunidad de trabajar con estos algoritmos, y verificar lo que dicen lo s articulos con la teoria en si misma dicha,."
      ]
    },
    {
      "metadata": {
        "id": "kNgYItydqYkl",
        "colab_type": "text"
      },
      "cell_type": "markdown",
      "source": [
        "k) En base a lo experimentado, **intente mejorar el desempeño de las redes encontradas**, ya sea utilizando y combinando las distintas variaciones que se hicieron en los distintos ítemes, como bien alguna mejora en el pre-proceso de los datos (largo de secuencia, el tipo de *padding* o alguna otra), agregar mayor profundidad, variar el número de unidades/neuronas, utilizando otra *gate* de recurrencia (GRU o Vanilla/Simple), en https://keras.io/layers/recurrent/,  entre otras."
      ]
    },
    {
      "metadata": {
        "id": "dbjIvpeRacEM",
        "colab_type": "code",
        "colab": {}
      },
      "cell_type": "code",
      "source": [
        ""
      ],
      "execution_count": 0,
      "outputs": []
    },
    {
      "metadata": {
        "id": "a_2UsMB4qYkm",
        "colab_type": "text"
      },
      "cell_type": "markdown",
      "source": [
        "Lo primero que vamos a hacer es determinar con que modelos queremos mejorar el rendimiento, para irlo comparando con lo obtenido anteriormente, vamos a partir evaluando los scores y la convergencia de la función de costo, con esos vamos a tomar los mejores 3 modelos y vamos a hacerles variaciones diferentes a cada uno, para al final poder determinar que variaciones tuvieron mas impacto y cual es nuestro modelo con mejor rendimiento encontrado, ademas como ya modificamos anteriormente vamos a dejar en 20 las epochs para cada prueba."
      ]
    },
    {
      "metadata": {
        "id": "wiWGOquB993q",
        "colab_type": "code",
        "outputId": "760dcd1f-3e4f-44a1-ec73-bf95ad44764c",
        "colab": {
          "base_uri": "https://localhost:8080/",
          "height": 467
        }
      },
      "cell_type": "code",
      "source": [
        "##Modelo 1 para optimizar con Embedding de 128\n",
        "##Aumentando neuronas \n",
        "embedding_vector = 64\n",
        "model = Sequential()\n",
        "model.add(Embedding(input_dim=n_lemmas, output_dim=embedding_vector, input_length=30))\n",
        "model.add(LSTM(units=300,return_sequences=True))\n",
        "model.add(Dense(n_labels, activation='softmax'))\n",
        "model.summary()\n",
        "model.compile(loss='categorical_crossentropy', optimizer='adam')\n",
        "history101=model.fit(X_train, y_train, validation_data=(X_test, y_test), epochs=5, batch_size=128)"
      ],
      "execution_count": 45,
      "outputs": [
        {
          "output_type": "stream",
          "text": [
            "_________________________________________________________________\n",
            "Layer (type)                 Output Shape              Param #   \n",
            "=================================================================\n",
            "embedding_14 (Embedding)     (None, 30, 64)            1295552   \n",
            "_________________________________________________________________\n",
            "lstm_12 (LSTM)               (None, 30, 300)           438000    \n",
            "_________________________________________________________________\n",
            "dense_14 (Dense)             (None, 30, 41)            12341     \n",
            "=================================================================\n",
            "Total params: 1,745,893\n",
            "Trainable params: 1,745,893\n",
            "Non-trainable params: 0\n",
            "_________________________________________________________________\n",
            "Train on 33656 samples, validate on 14425 samples\n",
            "Epoch 1/5\n",
            "33656/33656 [==============================] - 35s 1ms/step - loss: 1.6128 - val_loss: 0.5715\n",
            "Epoch 2/5\n",
            "33656/33656 [==============================] - 32s 957us/step - loss: 0.3288 - val_loss: 0.2471\n",
            "Epoch 3/5\n",
            "33656/33656 [==============================] - 32s 942us/step - loss: 0.2014 - val_loss: 0.2051\n",
            "Epoch 4/5\n",
            "33656/33656 [==============================] - 32s 939us/step - loss: 0.1691 - val_loss: 0.1935\n",
            "Epoch 5/5\n",
            "33656/33656 [==============================] - 32s 949us/step - loss: 0.1511 - val_loss: 0.1810\n"
          ],
          "name": "stdout"
        }
      ]
    },
    {
      "metadata": {
        "id": "Fx9c8wTc-Iws",
        "colab_type": "code",
        "outputId": "24293924-c890-466e-832d-b2bc93ae34da",
        "colab": {
          "base_uri": "https://localhost:8080/",
          "height": 54
        }
      },
      "cell_type": "code",
      "source": [
        "model.save('Modelo11.h5')\n",
        "y_pred1=model.predict_classes(X_test,verbose=1)\n",
        "y_pred=np.argmax(y_pred1,axis=1)\n",
        "f1_score(y_test_class, y_pred, average=\"micro\")"
      ],
      "execution_count": 50,
      "outputs": [
        {
          "output_type": "stream",
          "text": [
            "14425/14425 [==============================] - 17s 1ms/step\n"
          ],
          "name": "stdout"
        },
        {
          "output_type": "execute_result",
          "data": {
            "text/plain": [
              "0.8883188908145581"
            ]
          },
          "metadata": {
            "tags": []
          },
          "execution_count": 50
        }
      ]
    },
    {
      "metadata": {
        "id": "bLXxl-O1-Ad6",
        "colab_type": "code",
        "outputId": "de39287f-a872-4480-a9ab-61dd1a0280e8",
        "colab": {
          "base_uri": "https://localhost:8080/",
          "height": 467
        }
      },
      "cell_type": "code",
      "source": [
        "##Aumentando neuronas\n",
        "embedding_vector = 64\n",
        "model = Sequential()\n",
        "model.add(Embedding(input_dim=n_lemmas, output_dim=embedding_vector, input_length=30))\n",
        "model.add(LSTM(units=500,return_sequences=True))\n",
        "model.add(Dense(n_labels, activation='softmax'))\n",
        "model.summary()\n",
        "model.compile(loss='categorical_crossentropy', optimizer='adam')\n",
        "history102=model.fit(X_train, y_train, validation_data=(X_test, y_test), epochs=5, batch_size=128)"
      ],
      "execution_count": 46,
      "outputs": [
        {
          "output_type": "stream",
          "text": [
            "_________________________________________________________________\n",
            "Layer (type)                 Output Shape              Param #   \n",
            "=================================================================\n",
            "embedding_15 (Embedding)     (None, 30, 64)            1295552   \n",
            "_________________________________________________________________\n",
            "lstm_13 (LSTM)               (None, 30, 500)           1130000   \n",
            "_________________________________________________________________\n",
            "dense_15 (Dense)             (None, 30, 41)            20541     \n",
            "=================================================================\n",
            "Total params: 2,446,093\n",
            "Trainable params: 2,446,093\n",
            "Non-trainable params: 0\n",
            "_________________________________________________________________\n",
            "Train on 33656 samples, validate on 14425 samples\n",
            "Epoch 1/5\n",
            "33656/33656 [==============================] - 37s 1ms/step - loss: 1.4547 - val_loss: 0.4587\n",
            "Epoch 2/5\n",
            "33656/33656 [==============================] - 33s 982us/step - loss: 0.2946 - val_loss: 0.2378\n",
            "Epoch 3/5\n",
            "33656/33656 [==============================] - 33s 983us/step - loss: 0.1980 - val_loss: 0.2041\n",
            "Epoch 4/5\n",
            "33656/33656 [==============================] - 33s 983us/step - loss: 0.1680 - val_loss: 0.1951\n",
            "Epoch 5/5\n",
            "33656/33656 [==============================] - 33s 970us/step - loss: 0.1503 - val_loss: 0.1823\n"
          ],
          "name": "stdout"
        }
      ]
    },
    {
      "metadata": {
        "id": "hOdKc0aG-KYZ",
        "colab_type": "code",
        "outputId": "0511571b-f811-4bb2-a1ac-7a1f223dda0d",
        "colab": {
          "base_uri": "https://localhost:8080/",
          "height": 54
        }
      },
      "cell_type": "code",
      "source": [
        "model.save('Modelo12.h5')\n",
        "y_pred1=model.predict_classes(X_test,verbose=1)\n",
        "y_pred=np.argmax(y_pred1,axis=1)\n",
        "f1_score(y_test_class, y_pred, average=\"micro\")"
      ],
      "execution_count": 49,
      "outputs": [
        {
          "output_type": "stream",
          "text": [
            "14425/14425 [==============================] - 18s 1ms/step\n"
          ],
          "name": "stdout"
        },
        {
          "output_type": "execute_result",
          "data": {
            "text/plain": [
              "0.8883188908145581"
            ]
          },
          "metadata": {
            "tags": []
          },
          "execution_count": 49
        }
      ]
    },
    {
      "metadata": {
        "id": "zgW952hkqYkp",
        "colab_type": "code",
        "outputId": "f9f43a5a-7be5-4329-8070-75554e3aef3c",
        "colab": {
          "base_uri": "https://localhost:8080/",
          "height": 467
        }
      },
      "cell_type": "code",
      "source": [
        "##Disminuimos neuronas\n",
        "embedding_vector = 64\n",
        "model = Sequential()\n",
        "model.add(Embedding(input_dim=n_lemmas, output_dim=embedding_vector, input_length=30))\n",
        "model.add(LSTM(units=50,return_sequences=True))\n",
        "model.add(Dense(n_labels, activation='softmax'))\n",
        "model.summary()\n",
        "model.compile(loss='categorical_crossentropy', optimizer='adam')\n",
        "history103=model.fit(X_train, y_train, validation_data=(X_test, y_test), epochs=5, batch_size=128)"
      ],
      "execution_count": 47,
      "outputs": [
        {
          "output_type": "stream",
          "text": [
            "_________________________________________________________________\n",
            "Layer (type)                 Output Shape              Param #   \n",
            "=================================================================\n",
            "embedding_16 (Embedding)     (None, 30, 64)            1295552   \n",
            "_________________________________________________________________\n",
            "lstm_14 (LSTM)               (None, 30, 50)            23000     \n",
            "_________________________________________________________________\n",
            "dense_16 (Dense)             (None, 30, 41)            2091      \n",
            "=================================================================\n",
            "Total params: 1,320,643\n",
            "Trainable params: 1,320,643\n",
            "Non-trainable params: 0\n",
            "_________________________________________________________________\n",
            "Train on 33656 samples, validate on 14425 samples\n",
            "Epoch 1/5\n",
            "33656/33656 [==============================] - 35s 1ms/step - loss: 2.0365 - val_loss: 1.1040\n",
            "Epoch 2/5\n",
            "33656/33656 [==============================] - 31s 935us/step - loss: 0.5834 - val_loss: 0.3461\n",
            "Epoch 3/5\n",
            "33656/33656 [==============================] - 31s 930us/step - loss: 0.2716 - val_loss: 0.2507\n",
            "Epoch 4/5\n",
            "33656/33656 [==============================] - 31s 924us/step - loss: 0.2103 - val_loss: 0.2187\n",
            "Epoch 5/5\n",
            "33656/33656 [==============================] - 31s 925us/step - loss: 0.1833 - val_loss: 0.2034\n"
          ],
          "name": "stdout"
        }
      ]
    },
    {
      "metadata": {
        "id": "THPMdLs-kkux",
        "colab_type": "text"
      },
      "cell_type": "markdown",
      "source": [
        "Cuando empezamos a añadir unidades en la ultima capa, de a poco pero el rendimiento va mejorando, esto se ve confirmado en el ultimo caso donde disminuimos radicalmente el numero de neuronas y la precisión baja 2 puntos."
      ]
    },
    {
      "metadata": {
        "id": "e4jHHUr8-NMV",
        "colab_type": "code",
        "outputId": "ea7edebb-3095-4251-ee18-ceeb342f68cd",
        "colab": {
          "base_uri": "https://localhost:8080/",
          "height": 54
        }
      },
      "cell_type": "code",
      "source": [
        "model.save('Modelo13.h5')\n",
        "y_pred1=model.predict_classes(X_test,verbose=1)\n",
        "y_pred=np.argmax(y_pred1,axis=1)\n",
        "f1_score(y_test_class, y_pred, average=\"micro\")"
      ],
      "execution_count": 48,
      "outputs": [
        {
          "output_type": "stream",
          "text": [
            "14425/14425 [==============================] - 19s 1ms/step\n"
          ],
          "name": "stdout"
        },
        {
          "output_type": "execute_result",
          "data": {
            "text/plain": [
              "0.8883188908145581"
            ]
          },
          "metadata": {
            "tags": []
          },
          "execution_count": 48
        }
      ]
    },
    {
      "metadata": {
        "id": "0Xzb-wkrqYky",
        "colab_type": "text"
      },
      "cell_type": "markdown",
      "source": [
        "En el modelo 1 vamos modificar el numero de neuronas en ambas direcciones ya que nosotros para obtenerlo utilizamos mayor numero de embedding. Para los tres modelos vamos a hacer 3 variaciones."
      ]
    },
    {
      "metadata": {
        "id": "WuQ91FwhqYk1",
        "colab_type": "code",
        "outputId": "f9c8e161-6903-4540-f2f2-21a9dfff56e9",
        "colab": {
          "base_uri": "https://localhost:8080/",
          "height": 531
        }
      },
      "cell_type": "code",
      "source": [
        "plt.figure(1,figsize=(12,8))\n",
        "plt.plot(history101.history['val_loss'])\n",
        "plt.plot(history101.history['loss'])\n",
        "plt.plot(history102.history['val_loss'])\n",
        "plt.plot(history102.history['loss'])\n",
        "plt.plot(history103.history['val_loss'])\n",
        "plt.plot(history103.history['loss'])\n",
        "plt.legend(('Val_Loss-1', 'Loss-1','Val_Loss-2', 'Loss-2','Val_Loss-3', 'Loss-3' ))\n",
        "plt.title('Modelo 1')\n",
        "plt.ylabel('Loss')\n",
        "plt.xlabel('Epochs')"
      ],
      "execution_count": 51,
      "outputs": [
        {
          "output_type": "execute_result",
          "data": {
            "text/plain": [
              "Text(0.5,0,'Epochs')"
            ]
          },
          "metadata": {
            "tags": []
          },
          "execution_count": 51
        },
        {
          "output_type": "display_data",
          "data": {
            "image/png": "[encoded data removed]",
            "text/plain": [
              "<matplotlib.figure.Figure at 0x7f5218ffd7b8>"
            ]
          },
          "metadata": {
            "tags": []
          }
        }
      ]
    },
    {
      "metadata": {
        "id": "KLW9JetCqYlG",
        "colab_type": "text"
      },
      "cell_type": "markdown",
      "source": [
        "Este modelo esta muy facil de analizar, aunque es pequeña pero vemos que al aumentar el numero de neuronas vamos mejorando en el resultado y la diferencia se nota mas con el modelo en el que disminuimos el numero de unidades, esto se debe que al tener mayor numero de unidades libres para entrenar podemos tener mejor representaciones de la información,"
      ]
    },
    {
      "metadata": {
        "id": "lDF_0E4GqYlI",
        "colab_type": "text"
      },
      "cell_type": "markdown",
      "source": [
        "Para este modelo vamos a hacer dos variaciones en conjunta, la primera es que vamos a aumentar el numero de embeding en la entrada, y vamos a hacer una variacion en el dropout aumentandolo hasta 50 que es el limite teorico, esto para poder comprobar si efectivamente el 20% es el valor adecuado para nuestro caso."
      ]
    },
    {
      "metadata": {
        "id": "aU4TmnD2-Y95",
        "colab_type": "code",
        "outputId": "19455047-5198-4054-cda5-eca022a5d159",
        "colab": {
          "base_uri": "https://localhost:8080/",
          "height": 223
        }
      },
      "cell_type": "code",
      "source": [
        "##Modelo 2 para optimizar utilizando Dropout \n",
        "##Aumentamos Dropout a 30\n",
        "embedding_vector = 64\n",
        "model = Sequential()\n",
        "model.add(Embedding(input_dim=n_lemmas, output_dim=embedding_vector, input_length=30))\n",
        "model.add(LSTM(units=100,return_sequences=True)) #or recurrent_dropout=0.2\n",
        "model.add(Dropout(0.3))\n",
        "model.add(Dense(n_labels, activation='softmax'))\n",
        "model.compile(loss='categorical_crossentropy', optimizer='adam')\n",
        "model.compile(loss='categorical_crossentropy', optimizer='adam')\n",
        "history111=model.fit(X_train, y_train, validation_data=(X_test, y_test), epochs=5, batch_size=128)"
      ],
      "execution_count": 52,
      "outputs": [
        {
          "output_type": "stream",
          "text": [
            "Train on 33656 samples, validate on 14425 samples\n",
            "Epoch 1/5\n",
            "33656/33656 [==============================] - 36s 1ms/step - loss: 1.8835 - val_loss: 0.8369\n",
            "Epoch 2/5\n",
            "33656/33656 [==============================] - 32s 938us/step - loss: 0.4830 - val_loss: 0.2931\n",
            "Epoch 3/5\n",
            "33656/33656 [==============================] - 31s 930us/step - loss: 0.2569 - val_loss: 0.2277\n",
            "Epoch 4/5\n",
            "33656/33656 [==============================] - 32s 938us/step - loss: 0.2096 - val_loss: 0.2068\n",
            "Epoch 5/5\n",
            "33656/33656 [==============================] - 32s 943us/step - loss: 0.1871 - val_loss: 0.1941\n"
          ],
          "name": "stdout"
        }
      ]
    },
    {
      "metadata": {
        "id": "ld5q8dBF-ZPv",
        "colab_type": "code",
        "outputId": "b13a32d6-44e2-43bf-ecd9-2f6c8b461f88",
        "colab": {
          "base_uri": "https://localhost:8080/",
          "height": 54
        }
      },
      "cell_type": "code",
      "source": [
        "model.save('Modelo14.h5')\n",
        "y_pred1=model.predict_classes(X_test,verbose=1)\n",
        "y_pred=np.argmax(y_pred1,axis=1)\n",
        "f1_score(y_test_class, y_pred, average=\"micro\")"
      ],
      "execution_count": 53,
      "outputs": [
        {
          "output_type": "stream",
          "text": [
            "14425/14425 [==============================] - 19s 1ms/step\n"
          ],
          "name": "stdout"
        },
        {
          "output_type": "execute_result",
          "data": {
            "text/plain": [
              "0.8894280762564991"
            ]
          },
          "metadata": {
            "tags": []
          },
          "execution_count": 53
        }
      ]
    },
    {
      "metadata": {
        "id": "FxR2rrAt-ZhQ",
        "colab_type": "code",
        "outputId": "843e1d1d-2d1f-441d-a885-692cc137257a",
        "colab": {
          "base_uri": "https://localhost:8080/",
          "height": 223
        }
      },
      "cell_type": "code",
      "source": [
        "##Aumentamos Dropout a 40\n",
        "embedding_vector = 64\n",
        "model = Sequential()\n",
        "model.add(Embedding(input_dim=n_lemmas, output_dim=embedding_vector, input_length=30))\n",
        "model.add(LSTM(units=100,return_sequences=True)) #or recurrent_dropout=0.2\n",
        "model.add(Dropout(0.4))\n",
        "model.add(Dense(n_labels, activation='softmax'))\n",
        "model.compile(loss='categorical_crossentropy', optimizer='adam')\n",
        "model.compile(loss='categorical_crossentropy', optimizer='adam')\n",
        "history112=model.fit(X_train, y_train, validation_data=(X_test, y_test), epochs=5, batch_size=128)"
      ],
      "execution_count": 54,
      "outputs": [
        {
          "output_type": "stream",
          "text": [
            "Train on 33656 samples, validate on 14425 samples\n",
            "Epoch 1/5\n",
            "33656/33656 [==============================] - 35s 1ms/step - loss: 1.9421 - val_loss: 0.9155\n",
            "Epoch 2/5\n",
            "33656/33656 [==============================] - 32s 946us/step - loss: 0.5243 - val_loss: 0.2998\n",
            "Epoch 3/5\n",
            "33656/33656 [==============================] - 32s 947us/step - loss: 0.2701 - val_loss: 0.2313\n",
            "Epoch 4/5\n",
            "33656/33656 [==============================] - 32s 941us/step - loss: 0.2169 - val_loss: 0.2082\n",
            "Epoch 5/5\n",
            "33656/33656 [==============================] - 32s 964us/step - loss: 0.1927 - val_loss: 0.1953\n"
          ],
          "name": "stdout"
        }
      ]
    },
    {
      "metadata": {
        "id": "oX5WgwZL-Zrh",
        "colab_type": "code",
        "outputId": "532ec0f2-9170-4fb3-a46d-add2334370be",
        "colab": {
          "base_uri": "https://localhost:8080/",
          "height": 54
        }
      },
      "cell_type": "code",
      "source": [
        "model.save('Modelo15.h5')\n",
        "y_pred1=model.predict_classes(X_test,verbose=1)\n",
        "y_pred=np.argmax(y_pred1,axis=1)\n",
        "f1_score(y_test_class, y_pred, average=\"micro\")"
      ],
      "execution_count": 0,
      "outputs": [
        {
          "output_type": "stream",
          "text": [
            "14425/14425 [==============================] - 9s 618us/step\n"
          ],
          "name": "stdout"
        },
        {
          "output_type": "execute_result",
          "data": {
            "text/plain": [
              "0.8503986135181976"
            ]
          },
          "metadata": {
            "tags": []
          },
          "execution_count": 75
        }
      ]
    },
    {
      "metadata": {
        "id": "Qg7RLtJ-qYlJ",
        "colab_type": "code",
        "outputId": "e8be3021-a5be-45d7-8a9b-b2305d05f2ac",
        "colab": {
          "base_uri": "https://localhost:8080/",
          "height": 504
        }
      },
      "cell_type": "code",
      "source": [
        "##Aumentamos Dropout a 50\n",
        "embedding_vector = 64\n",
        "model = Sequential()\n",
        "model.add(Embedding(input_dim=n_lemmas, output_dim=embedding_vector, input_length=30))\n",
        "model.add(LSTM(units=100,return_sequences=True)) #or recurrent_dropout=0.2\n",
        "model.add(Dropout(0.5))\n",
        "model.add(Dense(n_labels, activation='softmax'))\n",
        "model.compile(loss='categorical_crossentropy', optimizer='adam')\n",
        "model.compile(loss='categorical_crossentropy', optimizer='adam')\n",
        "history113=model.fit(X_train, y_train, validation_data=(X_test, y_test), epochs=5, batch_size=128)\n",
        "model.summary()"
      ],
      "execution_count": 55,
      "outputs": [
        {
          "output_type": "stream",
          "text": [
            "Train on 33656 samples, validate on 14425 samples\n",
            "Epoch 1/5\n",
            "33656/33656 [==============================] - 36s 1ms/step - loss: 1.9467 - val_loss: 0.9018\n",
            "Epoch 2/5\n",
            "33656/33656 [==============================] - 31s 919us/step - loss: 0.5306 - val_loss: 0.2993\n",
            "Epoch 3/5\n",
            "33656/33656 [==============================] - 31s 924us/step - loss: 0.2756 - val_loss: 0.2323\n",
            "Epoch 4/5\n",
            "33656/33656 [==============================] - 31s 931us/step - loss: 0.2246 - val_loss: 0.2088\n",
            "Epoch 5/5\n",
            "33656/33656 [==============================] - 31s 933us/step - loss: 0.1997 - val_loss: 0.1969\n",
            "_________________________________________________________________\n",
            "Layer (type)                 Output Shape              Param #   \n",
            "=================================================================\n",
            "embedding_19 (Embedding)     (None, 30, 64)            1295552   \n",
            "_________________________________________________________________\n",
            "lstm_17 (LSTM)               (None, 30, 100)           66000     \n",
            "_________________________________________________________________\n",
            "dropout_10 (Dropout)         (None, 30, 100)           0         \n",
            "_________________________________________________________________\n",
            "dense_19 (Dense)             (None, 30, 41)            4141      \n",
            "=================================================================\n",
            "Total params: 1,365,693\n",
            "Trainable params: 1,365,693\n",
            "Non-trainable params: 0\n",
            "_________________________________________________________________\n"
          ],
          "name": "stdout"
        }
      ]
    },
    {
      "metadata": {
        "id": "fOIO-awr-qQa",
        "colab_type": "code",
        "outputId": "7e3f443a-6c9b-4641-b391-21d1f4725476",
        "colab": {
          "base_uri": "https://localhost:8080/",
          "height": 54
        }
      },
      "cell_type": "code",
      "source": [
        "model.save('Modelo16.h5')\n",
        "y_pred1=model.predict_classes(X_test,verbose=1)\n",
        "y_pred=np.argmax(y_pred1,axis=1)\n",
        "f1_score(y_test_class, y_pred, average=\"micro\")"
      ],
      "execution_count": 56,
      "outputs": [
        {
          "output_type": "stream",
          "text": [
            "14425/14425 [==============================] - 19s 1ms/step\n"
          ],
          "name": "stdout"
        },
        {
          "output_type": "execute_result",
          "data": {
            "text/plain": [
              "0.8822876949740035"
            ]
          },
          "metadata": {
            "tags": []
          },
          "execution_count": 56
        }
      ]
    },
    {
      "metadata": {
        "id": "tJie4QfSqYlO",
        "colab_type": "code",
        "outputId": "5b738448-491e-4578-f438-695b2911742d",
        "colab": {
          "base_uri": "https://localhost:8080/",
          "height": 531
        }
      },
      "cell_type": "code",
      "source": [
        "plt.figure(1,figsize=(12,8))\n",
        "plt.plot(history111.history['val_loss'])\n",
        "plt.plot(history111.history['loss'])\n",
        "plt.plot(history112.history['val_loss'])\n",
        "plt.plot(history112.history['loss'])\n",
        "plt.plot(history113.history['val_loss'])\n",
        "plt.plot(history113.history['loss'])\n",
        "plt.legend(('Val_Loss-1', 'Loss-1','Val_Loss-2', 'Loss-2','Val_Loss-3', 'Loss-3' ))\n",
        "plt.title('Modelo 2')\n",
        "plt.ylabel('Loss')\n",
        "plt.xlabel('Epochs')"
      ],
      "execution_count": 57,
      "outputs": [
        {
          "output_type": "execute_result",
          "data": {
            "text/plain": [
              "Text(0.5,0,'Epochs')"
            ]
          },
          "metadata": {
            "tags": []
          },
          "execution_count": 57
        },
        {
          "output_type": "display_data",
          "data": {
            "image/png": "[encoded data removed]",
            "text/plain": [
              "<matplotlib.figure.Figure at 0x7f5216475e48>"
            ]
          },
          "metadata": {
            "tags": []
          }
        }
      ]
    },
    {
      "metadata": {
        "id": "bCkeatPnqYlU",
        "colab_type": "text"
      },
      "cell_type": "markdown",
      "source": [
        "Comparando el comportamiento del Dropout desde 20% hasta 50% vemos que no hay una diferencia notable, pero si como se indicaba en el ejercicio el mejor resultado es con el parametro de 0.2 Sin embargo comparandolo con el primer modelo no logra superarlo."
      ]
    },
    {
      "metadata": {
        "id": "DrrfQeKY-2D9",
        "colab_type": "code",
        "outputId": "a341ca3e-c43c-4284-a9d5-8090f46b9ccb",
        "colab": {
          "base_uri": "https://localhost:8080/",
          "height": 542
        }
      },
      "cell_type": "code",
      "source": [
        "## Modelo 3 Red Recurrente Bidireccional utilizando Sum\n",
        "## Añadimos una capa\n",
        "embedding_vector = 64\n",
        "model = Sequential()\n",
        "model.add(Embedding(input_dim=n_lemmas, output_dim=embedding_vector, input_length=30))\n",
        "layer_lstm = LSTM(units=100,return_sequences=True)\n",
        "model.add(Bidirectional(layer_lstm,merge_mode='sum'))\n",
        "model.add(Dropout(0.2))\n",
        "model.add(Dense(n_labels, activation='softmax'))\n",
        "model.add(Dense(n_labels, activation='softmax'))\n",
        "model.summary()\n",
        "model.compile(loss='categorical_crossentropy', optimizer='adam')\n",
        "model.compile(loss='categorical_crossentropy', optimizer='adam')\n",
        "history121=model.fit(X_train, y_train, validation_data=(X_test, y_test), epochs=5, batch_size=128)"
      ],
      "execution_count": 58,
      "outputs": [
        {
          "output_type": "stream",
          "text": [
            "_________________________________________________________________\n",
            "Layer (type)                 Output Shape              Param #   \n",
            "=================================================================\n",
            "embedding_20 (Embedding)     (None, 30, 64)            1295552   \n",
            "_________________________________________________________________\n",
            "bidirectional_5 (Bidirection (None, 30, 100)           132000    \n",
            "_________________________________________________________________\n",
            "dropout_11 (Dropout)         (None, 30, 100)           0         \n",
            "_________________________________________________________________\n",
            "dense_20 (Dense)             (None, 30, 41)            4141      \n",
            "_________________________________________________________________\n",
            "dense_21 (Dense)             (None, 30, 41)            1722      \n",
            "=================================================================\n",
            "Total params: 1,433,415\n",
            "Trainable params: 1,433,415\n",
            "Non-trainable params: 0\n",
            "_________________________________________________________________\n",
            "Train on 33656 samples, validate on 14425 samples\n",
            "Epoch 1/5\n",
            "33656/33656 [==============================] - 68s 2ms/step - loss: 3.2704 - val_loss: 2.9327\n",
            "Epoch 2/5\n",
            "33656/33656 [==============================] - 62s 2ms/step - loss: 2.7090 - val_loss: 2.5203\n",
            "Epoch 3/5\n",
            "33656/33656 [==============================] - 63s 2ms/step - loss: 2.3834 - val_loss: 2.2715\n",
            "Epoch 4/5\n",
            "33656/33656 [==============================] - 63s 2ms/step - loss: 2.1881 - val_loss: 2.1156\n",
            "Epoch 5/5\n",
            "33656/33656 [==============================] - 63s 2ms/step - loss: 2.0476 - val_loss: 1.9873\n"
          ],
          "name": "stdout"
        }
      ]
    },
    {
      "metadata": {
        "id": "Y6b-WYmB-2LV",
        "colab_type": "code",
        "outputId": "6472695a-9055-4819-9451-44baa36986cc",
        "colab": {
          "base_uri": "https://localhost:8080/",
          "height": 54
        }
      },
      "cell_type": "code",
      "source": [
        "model.save('Modelo17.h5')\n",
        "y_pred1=model.predict_classes(X_test,verbose=1)\n",
        "y_pred=np.argmax(y_pred1,axis=1)\n",
        "f1_score(y_test_class, y_pred, average=\"micro\")"
      ],
      "execution_count": 66,
      "outputs": [
        {
          "output_type": "stream",
          "text": [
            "14425/14425 [==============================] - 20s 1ms/step\n"
          ],
          "name": "stdout"
        },
        {
          "output_type": "execute_result",
          "data": {
            "text/plain": [
              "0.8993414211438475"
            ]
          },
          "metadata": {
            "tags": []
          },
          "execution_count": 66
        }
      ]
    },
    {
      "metadata": {
        "id": "y5bylQeY-2VU",
        "colab_type": "code",
        "outputId": "2cf57cfe-1bb2-43ad-e789-fdd1e271432f",
        "colab": {
          "base_uri": "https://localhost:8080/",
          "height": 579
        }
      },
      "cell_type": "code",
      "source": [
        "## Añadimos dos capas\n",
        "embedding_vector = 64\n",
        "model = Sequential()\n",
        "model.add(Embedding(input_dim=n_lemmas, output_dim=embedding_vector, input_length=30))\n",
        "layer_lstm = LSTM(units=100,return_sequences=True)\n",
        "model.add(Bidirectional(layer_lstm,merge_mode='sum'))\n",
        "model.add(Dropout(0.2))\n",
        "model.add(Dense(n_labels, activation='softmax'))\n",
        "model.add(Dense(n_labels, activation='softmax'))\n",
        "model.add(Dense(n_labels, activation='softmax'))\n",
        "model.summary()\n",
        "model.compile(loss='categorical_crossentropy', optimizer='adam')\n",
        "model.compile(loss='categorical_crossentropy', optimizer='adam')\n",
        "history122=model.fit(X_train, y_train, validation_data=(X_test, y_test), epochs=5, batch_size=128)"
      ],
      "execution_count": 60,
      "outputs": [
        {
          "output_type": "stream",
          "text": [
            "_________________________________________________________________\n",
            "Layer (type)                 Output Shape              Param #   \n",
            "=================================================================\n",
            "embedding_21 (Embedding)     (None, 30, 64)            1295552   \n",
            "_________________________________________________________________\n",
            "bidirectional_6 (Bidirection (None, 30, 100)           132000    \n",
            "_________________________________________________________________\n",
            "dropout_12 (Dropout)         (None, 30, 100)           0         \n",
            "_________________________________________________________________\n",
            "dense_22 (Dense)             (None, 30, 41)            4141      \n",
            "_________________________________________________________________\n",
            "dense_23 (Dense)             (None, 30, 41)            1722      \n",
            "_________________________________________________________________\n",
            "dense_24 (Dense)             (None, 30, 41)            1722      \n",
            "=================================================================\n",
            "Total params: 1,435,137\n",
            "Trainable params: 1,435,137\n",
            "Non-trainable params: 0\n",
            "_________________________________________________________________\n",
            "Train on 33656 samples, validate on 14425 samples\n",
            "Epoch 1/5\n",
            "33656/33656 [==============================] - 70s 2ms/step - loss: 3.4320 - val_loss: 3.1759\n",
            "Epoch 2/5\n",
            "33656/33656 [==============================] - 63s 2ms/step - loss: 2.9802 - val_loss: 2.7955\n",
            "Epoch 3/5\n",
            "33656/33656 [==============================] - 63s 2ms/step - loss: 2.5791 - val_loss: 2.3669\n",
            "Epoch 4/5\n",
            "33656/33656 [==============================] - 63s 2ms/step - loss: 2.2139 - val_loss: 2.0991\n",
            "Epoch 5/5\n",
            "33656/33656 [==============================] - 63s 2ms/step - loss: 2.0243 - val_loss: 1.9608\n"
          ],
          "name": "stdout"
        }
      ]
    },
    {
      "metadata": {
        "id": "W873B3Fi-2jo",
        "colab_type": "code",
        "outputId": "9c7ce92e-c425-4165-f1f8-4d7aafe2a8a4",
        "colab": {
          "base_uri": "https://localhost:8080/",
          "height": 54
        }
      },
      "cell_type": "code",
      "source": [
        "model.save('Modelo18.h5')\n",
        "y_pred1=model.predict_classes(X_test,verbose=1)\n",
        "y_pred=np.argmax(y_pred1,axis=1)\n",
        "f1_score(y_test_class, y_pred, average=\"micro\")"
      ],
      "execution_count": 62,
      "outputs": [
        {
          "output_type": "stream",
          "text": [
            "14425/14425 [==============================] - 37s 3ms/step\n"
          ],
          "name": "stdout"
        },
        {
          "output_type": "execute_result",
          "data": {
            "text/plain": [
              "0.07812824956672444"
            ]
          },
          "metadata": {
            "tags": []
          },
          "execution_count": 62
        }
      ]
    },
    {
      "metadata": {
        "id": "LJspUrD7qYlV",
        "colab_type": "code",
        "outputId": "d69f99ea-9c7b-4f82-ae85-b1ede4d16af0",
        "colab": {
          "base_uri": "https://localhost:8080/",
          "height": 616
        }
      },
      "cell_type": "code",
      "source": [
        "## Añadimos tres capas\n",
        "embedding_vector = 64\n",
        "model = Sequential()\n",
        "model.add(Embedding(input_dim=n_lemmas, output_dim=embedding_vector, input_length=30))\n",
        "layer_lstm = LSTM(units=100,return_sequences=True)\n",
        "model.add(Bidirectional(layer_lstm,merge_mode='sum'))\n",
        "model.add(Dropout(0.2))\n",
        "model.add(Dense(n_labels, activation='softmax'))\n",
        "model.add(Dense(n_labels, activation='softmax'))\n",
        "model.add(Dense(n_labels, activation='softmax'))\n",
        "model.add(Dense(n_labels, activation='softmax'))\n",
        "model.summary()\n",
        "model.compile(loss='categorical_crossentropy', optimizer='adam')\n",
        "model.compile(loss='categorical_crossentropy', optimizer='adam')\n",
        "history123=model.fit(X_train, y_train, validation_data=(X_test, y_test), epochs=5, batch_size=128)"
      ],
      "execution_count": 61,
      "outputs": [
        {
          "output_type": "stream",
          "text": [
            "_________________________________________________________________\n",
            "Layer (type)                 Output Shape              Param #   \n",
            "=================================================================\n",
            "embedding_22 (Embedding)     (None, 30, 64)            1295552   \n",
            "_________________________________________________________________\n",
            "bidirectional_7 (Bidirection (None, 30, 100)           132000    \n",
            "_________________________________________________________________\n",
            "dropout_13 (Dropout)         (None, 30, 100)           0         \n",
            "_________________________________________________________________\n",
            "dense_25 (Dense)             (None, 30, 41)            4141      \n",
            "_________________________________________________________________\n",
            "dense_26 (Dense)             (None, 30, 41)            1722      \n",
            "_________________________________________________________________\n",
            "dense_27 (Dense)             (None, 30, 41)            1722      \n",
            "_________________________________________________________________\n",
            "dense_28 (Dense)             (None, 30, 41)            1722      \n",
            "=================================================================\n",
            "Total params: 1,436,859\n",
            "Trainable params: 1,436,859\n",
            "Non-trainable params: 0\n",
            "_________________________________________________________________\n",
            "Train on 33656 samples, validate on 14425 samples\n",
            "Epoch 1/5\n",
            "33656/33656 [==============================] - 70s 2ms/step - loss: 3.4475 - val_loss: 3.2008\n",
            "Epoch 2/5\n",
            "33656/33656 [==============================] - 63s 2ms/step - loss: 3.0199 - val_loss: 2.8664\n",
            "Epoch 3/5\n",
            "33656/33656 [==============================] - 63s 2ms/step - loss: 2.7583 - val_loss: 2.6733\n",
            "Epoch 4/5\n",
            "33656/33656 [==============================] - 63s 2ms/step - loss: 2.6156 - val_loss: 2.5565\n",
            "Epoch 5/5\n",
            "33656/33656 [==============================] - 63s 2ms/step - loss: 2.4151 - val_loss: 2.2565\n"
          ],
          "name": "stdout"
        }
      ]
    },
    {
      "metadata": {
        "id": "ylNY0aU4_H-D",
        "colab_type": "code",
        "outputId": "ee4dd01c-aeb1-41cf-95e4-a06a177b8694",
        "colab": {
          "base_uri": "https://localhost:8080/",
          "height": 54
        }
      },
      "cell_type": "code",
      "source": [
        "model.save('Modelo19.h5')\n",
        "y_pred1=model.predict_classes(X_test,verbose=1)\n",
        "y_pred=np.argmax(y_pred1,axis=1)\n",
        "f1_score(y_test_class, y_pred, average=\"micro\")"
      ],
      "execution_count": 63,
      "outputs": [
        {
          "output_type": "stream",
          "text": [
            "14425/14425 [==============================] - 35s 2ms/step\n"
          ],
          "name": "stdout"
        },
        {
          "output_type": "execute_result",
          "data": {
            "text/plain": [
              "0.07812824956672444"
            ]
          },
          "metadata": {
            "tags": []
          },
          "execution_count": 63
        }
      ]
    },
    {
      "metadata": {
        "id": "eNkqrLjGqYl0",
        "colab_type": "text"
      },
      "cell_type": "markdown",
      "source": [
        "En este modelo vamos a añadir mas profundidad a la red, ademas de añadir un Dropout de 20 en la primera capa y con un embedding de 64, casi que seria un resumen de los mejores modelos pero modificando la profundidad para poder observar si efectivamente al tener mas capas podemos representar mejor las caracteristicas del modelo\n"
      ]
    },
    {
      "metadata": {
        "id": "49VLszGYqYl3",
        "colab_type": "code",
        "outputId": "743ad7c1-7d63-4712-edaa-945aea4144b3",
        "colab": {
          "base_uri": "https://localhost:8080/",
          "height": 531
        }
      },
      "cell_type": "code",
      "source": [
        "plt.figure(1,figsize=(12,8))\n",
        "plt.plot(history121.history['val_loss'])\n",
        "plt.plot(history121.history['loss'])\n",
        "plt.plot(history122.history['val_loss'])\n",
        "plt.plot(history122.history['loss'])\n",
        "plt.plot(history123.history['val_loss'])\n",
        "plt.plot(history123.history['loss'])\n",
        "plt.legend(('Val_Loss-1', 'Loss-1','Val_Loss-2', 'Loss-2','Val_Loss-3', 'Loss-3' ))\n",
        "plt.title('Modelo 3')\n",
        "plt.ylabel('Loss')\n",
        "plt.xlabel('Epochs')"
      ],
      "execution_count": 64,
      "outputs": [
        {
          "output_type": "execute_result",
          "data": {
            "text/plain": [
              "Text(0.5,0,'Epochs')"
            ]
          },
          "metadata": {
            "tags": []
          },
          "execution_count": 64
        },
        {
          "output_type": "display_data",
          "data": {
            "image/png": "[encoded data removed]",
            "text/plain": [
              "<matplotlib.figure.Figure at 0x7f5214947978>"
            ]
          },
          "metadata": {
            "tags": []
          }
        }
      ]
    },
    {
      "metadata": {
        "id": "5WAcHq8YqYl5",
        "colab_type": "text"
      },
      "cell_type": "markdown",
      "source": [
        "Analizando las graficas tienen un comportamiento muy interesante, obviamente tiene el peor rendimiento visto no solo en los modelos a optimizar, si no en todos los demas, esto nos indica que en este tipo de aplicación es necesario un modelo Shallow que un Deep, por que teoricamente con el conjunto de modificaciónes que se utilizaron deberiamos si fuera optimo un módelo Deep, ptero comprobamos todo lo contrario."
      ]
    },
    {
      "metadata": {
        "id": "UkNBoWZUqYl_",
        "colab_type": "text"
      },
      "cell_type": "markdown",
      "source": [
        "<b>El mejor modelo encontrado es aumentando el numero de neuronas, con 64 Embeddings, es el modelo que vamos a evaluar en los siguientes items</b>"
      ]
    },
    {
      "metadata": {
        "id": "SGFmQBq5qYmA",
        "colab_type": "text"
      },
      "cell_type": "markdown",
      "source": [
        "l) Utilice la red entranda anteriormente, **se espera que sea la mejor de esta sección**, y **muestre las predicciones**, el *NER tager*, sobre algún ejemplo de pruebas, comente. "
      ]
    },
    {
      "metadata": {
        "id": "qKy3-tWpqYmD",
        "colab_type": "code",
        "outputId": "8a7bd8da-d4a2-4407-a9bd-7acdab089337",
        "colab": {
          "base_uri": "https://localhost:8080/",
          "height": 467
        }
      },
      "cell_type": "code",
      "source": [
        "embedding_vector = 64\n",
        "model = Sequential()\n",
        "model.add(Embedding(input_dim=n_lemmas, output_dim=embedding_vector, input_length=30))\n",
        "layer_lstm = LSTM(units=100,return_sequences=True)\n",
        "model.add(Bidirectional(layer_lstm,merge_mode='sum'))\n",
        "model.add(Dense(n_labels, activation='softmax'))\n",
        "model.summary()\n",
        "model.compile(loss='categorical_crossentropy', optimizer='adam')\n",
        "model.compile(loss='categorical_crossentropy', optimizer='adam')\n",
        "historyend=model.fit(X_train, y_train, validation_data=(X_test, y_test), epochs=5, batch_size=128)\n",
        "    ##MEJOR MODELO ENCONTRADO"
      ],
      "execution_count": 16,
      "outputs": [
        {
          "output_type": "stream",
          "text": [
            "_________________________________________________________________\n",
            "Layer (type)                 Output Shape              Param #   \n",
            "=================================================================\n",
            "embedding_1 (Embedding)      (None, 30, 64)            1295552   \n",
            "_________________________________________________________________\n",
            "bidirectional_1 (Bidirection (None, 30, 100)           132000    \n",
            "_________________________________________________________________\n",
            "dense_1 (Dense)              (None, 30, 41)            4141      \n",
            "=================================================================\n",
            "Total params: 1,431,693\n",
            "Trainable params: 1,431,693\n",
            "Non-trainable params: 0\n",
            "_________________________________________________________________\n",
            "Train on 33656 samples, validate on 14425 samples\n",
            "Epoch 1/5\n",
            "33656/33656 [==============================] - 61s 2ms/step - loss: 1.5800 - val_loss: 0.4849\n",
            "Epoch 2/5\n",
            "33656/33656 [==============================] - 59s 2ms/step - loss: 0.2766 - val_loss: 0.2020\n",
            "Epoch 3/5\n",
            "33656/33656 [==============================] - 59s 2ms/step - loss: 0.1603 - val_loss: 0.1611\n",
            "Epoch 4/5\n",
            "33656/33656 [==============================] - 60s 2ms/step - loss: 0.1266 - val_loss: 0.1447\n",
            "Epoch 5/5\n",
            "33656/33656 [==============================] - 60s 2ms/step - loss: 0.1071 - val_loss: 0.1382\n"
          ],
          "name": "stdout"
        }
      ]
    },
    {
      "metadata": {
        "id": "cmVw6-j4gA5D",
        "colab_type": "code",
        "colab": {
          "base_uri": "https://localhost:8080/",
          "height": 54
        },
        "outputId": "e6053e0e-db11-4961-8f7f-07f09b464147"
      },
      "cell_type": "code",
      "source": [
        "model.save('BestModeloend.h5')\n",
        "y_pred1=model.predict_classes(X_test,verbose=1)\n",
        "y_pred=np.argmax(y_pred1,axis=1)\n",
        "f1_score(y_test_class, y_pred, average=\"micro\")"
      ],
      "execution_count": 17,
      "outputs": [
        {
          "output_type": "stream",
          "text": [
            "14425/14425 [==============================] - 34s 2ms/step\n"
          ],
          "name": "stdout"
        },
        {
          "output_type": "execute_result",
          "data": {
            "text/plain": [
              "0.9357365684575389"
            ]
          },
          "metadata": {
            "tags": []
          },
          "execution_count": 17
        }
      ]
    },
    {
      "metadata": {
        "id": "Vv2paotSvrUI",
        "colab_type": "code",
        "colab": {
          "base_uri": "https://localhost:8080/",
          "height": 36
        },
        "outputId": "0a7dbeb0-159e-4793-8a4a-025dd459b6c2"
      },
      "cell_type": "code",
      "source": [
        "X_test[1].shape"
      ],
      "execution_count": 19,
      "outputs": [
        {
          "output_type": "execute_result",
          "data": {
            "text/plain": [
              "(30,)"
            ]
          },
          "metadata": {
            "tags": []
          },
          "execution_count": 19
        }
      ]
    },
    {
      "metadata": {
        "id": "oU11hZT6qYmJ",
        "colab_type": "code",
        "outputId": "5a5d4983-3325-41a1-ea54-d6b2f867ba2e",
        "colab": {
          "base_uri": "https://localhost:8080/",
          "height": 598
        }
      },
      "cell_type": "code",
      "source": [
        "i=5\n",
        "p = model.predict(np.array([X_test[i]]))\n",
        "p = np.argmax(p, axis=-1)\n",
        "print(\"{:15}: {}\".format(\"Lemma\", \"Pred\"))\n",
        "lemmas=list(lemmas)\n",
        "labels=list(labels)\n",
        "for w,pred in zip(X_test[i],p[0]):\n",
        "    print(\"{:15}: {}\".format(lemmas[w],labels[pred]))"
      ],
      "execution_count": 20,
      "outputs": [
        {
          "output_type": "stream",
          "text": [
            "Lemma          : Pred\n",
            "some           : DT\n",
            "rebel          : NNS\n",
            "have           : VBP\n",
            "refus          : VBN\n",
            "to             : TO\n",
            "sign           : VB\n",
            "the            : DT\n",
            "accord         : NN\n",
            ".              : .\n",
            "0              : .\n",
            "0              : .\n",
            "0              : .\n",
            "0              : .\n",
            "0              : .\n",
            "0              : .\n",
            "0              : .\n",
            "0              : .\n",
            "0              : .\n",
            "0              : .\n",
            "0              : .\n",
            "0              : .\n",
            "0              : .\n",
            "0              : .\n",
            "0              : .\n",
            "0              : .\n",
            "0              : .\n",
            "0              : .\n",
            "0              : .\n",
            "0              : .\n",
            "0              : .\n"
          ],
          "name": "stdout"
        }
      ]
    },
    {
      "metadata": {
        "id": "dLyIQnHQalRC",
        "colab_type": "text"
      },
      "cell_type": "markdown",
      "source": [
        "En la primera parte vemos que esta trabajando corretamente la maquina, ya que tiene la producción de los textos aunque no de la forma como se hace con los compañeros que trabajaron con las 17 muesras."
      ]
    },
    {
      "metadata": {
        "id": "L9naHYAfqYnK",
        "colab_type": "text"
      },
      "cell_type": "markdown",
      "source": [
        "m) **Carge las palabras del dataset** ¿Por qué no los *lemmas*? y cree el corpus con el cual se trabajará, además de crear la codificación de caracteres a números. Esto se presenta en el código a continuación además de crear la estrucutura de los datos con los que se va a trabajar (sub sentencias del corpus original). **Utilice el tamaño del *corpus* que le acomode a la memoria de su computador**."
      ]
    },
    {
      "metadata": {
        "id": "go65nhKVqYnM",
        "colab_type": "code",
        "outputId": "9f9d7287-cc17-4213-8154-ba79cb0719a3",
        "colab": {
          "base_uri": "https://localhost:8080/",
          "height": 54
        }
      },
      "cell_type": "code",
      "source": [
        "dataset = df_ner.loc[:,[\"word\",\"lemma\"]]\n",
        "text = ' '.join(dataset[\"word\"]).lower() #corpus\n",
        "null_character = \"*\"\n",
        "chars = [null_character]+sorted(list(set(text)))\n",
        "print('total chars:', len(chars))\n",
        "char_indices = {c: i for i, c in enumerate(chars)}\n",
        "indices_char = {i: c for i, c in enumerate(chars)}\n",
        "maxlen = 40 # cut the text in semi-redundant sequences of maxlen characters\n",
        "step = 5 \n",
        "sentences = []\n",
        "next_chars = []\n",
        "size = int(len(text)*0.8) #solo un 20% del corpus\n",
        "for i in range(0, size - maxlen, step):\n",
        "    sentences.append(null_character+text[i: i + maxlen])\n",
        "    next_chars.append(text[i + maxlen])\n",
        "print('nb sequences:', len(sentences))"
      ],
      "execution_count": 21,
      "outputs": [
        {
          "output_type": "stream",
          "text": [
            "total chars: 72\n",
            "nb sequences: 970794\n"
          ],
          "name": "stdout"
        }
      ]
    },
    {
      "metadata": {
        "id": "rJnhoniXqYnQ",
        "colab_type": "text"
      },
      "cell_type": "markdown",
      "source": [
        "n) **Procese las sentencias para así tenerlas codificadas en números que van a representar los carácteres**, tal cual se realizó en c) con los *lemmas*, **lo mismo para las etiquetas**. Además de esto deberá realizar el *padding* correspondiente al comienzo de la sentencia, esto es para que la red aprenda cuando venga una frase mas corta de lo entrenado, este símbolo siignificará que no hay información. **Transforme las etiquetas a *one hot vector*** como se realizó en c) y **defina la red** similar a la presentada en f), con un *embedding* seguido de una capa recurrente GRU y la capa de clasificación. Aprovechese de la implementación más rápida de GRU respaldada por __[CuDNN](https://developer.nvidia.com/cudnn)__, una librería de CUDA (NVIDIA)[[2]](#refs) para *Deep Neural Network*. "
      ]
    },
    {
      "metadata": {
        "id": "pE3ksA8NqYnT",
        "colab_type": "code",
        "colab": {
          "base_uri": "https://localhost:8080/",
          "height": 92
        },
        "outputId": "7e5852b5-0bc3-483c-8395-34f7248a22f3"
      },
      "cell_type": "code",
      "source": [
        "dataX = [[char_indices[char] for char in sentence ] for sentence in sentences]\n",
        "dataY = [char_indices[char] for char in next_chars]\n",
        "char_indices[\"0\"] = 0\n",
        "indices_char[\"0\"] = 0\n",
        "\n",
        "print(\"Numero de caracteres: \", len(char_indices))\n",
        "print(\"Indices: \", len(indices_char))\n",
        "print(\"Matrix Y: \", len(dataY))\n",
        "print(\"Matriz X: \", len(dataX))"
      ],
      "execution_count": 24,
      "outputs": [
        {
          "output_type": "stream",
          "text": [
            "Numero de caracteres:  72\n",
            "Indices:  73\n",
            "Matrix Y:  970794\n",
            "Matriz X:  970794\n"
          ],
          "name": "stdout"
        }
      ]
    },
    {
      "metadata": {
        "id": "BgwW79Uf0TQw",
        "colab_type": "code",
        "colab": {}
      },
      "cell_type": "code",
      "source": [
        "x = sequence.pad_sequences(dataX, maxlen=30, padding='post',value = char_indices[\"0\"])\n",
        "y = np.asarray([to_categorical(i, num_classes = len(chars)) for i in dataY])"
      ],
      "execution_count": 0,
      "outputs": []
    },
    {
      "metadata": {
        "id": "e-0Npc7Y1MB5",
        "colab_type": "code",
        "colab": {
          "base_uri": "https://localhost:8080/",
          "height": 36
        },
        "outputId": "bf90f75a-0251-4e97-9885-929f3ceb1318"
      },
      "cell_type": "code",
      "source": [
        "x.shape"
      ],
      "execution_count": 45,
      "outputs": [
        {
          "output_type": "execute_result",
          "data": {
            "text/plain": [
              "(970794, 30)"
            ]
          },
          "metadata": {
            "tags": []
          },
          "execution_count": 45
        }
      ]
    },
    {
      "metadata": {
        "id": "DJLWZv7X1N2X",
        "colab_type": "code",
        "colab": {
          "base_uri": "https://localhost:8080/",
          "height": 36
        },
        "outputId": "367db55f-0182-442c-919b-f08213090cae"
      },
      "cell_type": "code",
      "source": [
        "y.shape"
      ],
      "execution_count": 50,
      "outputs": [
        {
          "output_type": "execute_result",
          "data": {
            "text/plain": [
              "(970794, 72)"
            ]
          },
          "metadata": {
            "tags": []
          },
          "execution_count": 50
        }
      ]
    },
    {
      "metadata": {
        "id": "oL9G3eL4zo6v",
        "colab_type": "code",
        "colab": {
          "base_uri": "https://localhost:8080/",
          "height": 298
        },
        "outputId": "0be918c7-9257-40bf-a5f0-0db5cc85ae2c"
      },
      "cell_type": "code",
      "source": [
        "from keras.layers import CuDNNGRU,GRU\n",
        "embedding_vector = 16\n",
        "model = Sequential()\n",
        "model.add(Embedding(input_dim=len(chars), output_dim=embedding_vector, input_length=30))#\n",
        "model.add(CuDNNGRU(units=512,return_sequences=False)) #or GRU\n",
        "model.add(Dropout(0.2))\n",
        "model.add(Dense(len(chars), activation='softmax'))\n",
        "model.compile(loss='categorical_crossentropy', optimizer='adam', metrics=['accuracy'])\n",
        "model.summary()"
      ],
      "execution_count": 26,
      "outputs": [
        {
          "output_type": "stream",
          "text": [
            "_________________________________________________________________\n",
            "Layer (type)                 Output Shape              Param #   \n",
            "=================================================================\n",
            "embedding_3 (Embedding)      (None, 30, 16)            1152      \n",
            "_________________________________________________________________\n",
            "cu_dnngru_2 (CuDNNGRU)       (None, 512)               814080    \n",
            "_________________________________________________________________\n",
            "dropout_2 (Dropout)          (None, 512)               0         \n",
            "_________________________________________________________________\n",
            "dense_3 (Dense)              (None, 72)                36936     \n",
            "=================================================================\n",
            "Total params: 852,168\n",
            "Trainable params: 852,168\n",
            "Non-trainable params: 0\n",
            "_________________________________________________________________\n"
          ],
          "name": "stdout"
        }
      ]
    },
    {
      "metadata": {
        "id": "Vx1sbFF1qYnV",
        "colab_type": "text"
      },
      "cell_type": "markdown",
      "source": [
        "o) Entrene la red con las funciones que se presentan a continuación que mostrarán el cómo va la tarea de autocompletar texto en cada *epoch*, generando una sentencia completa de 400 carácteres *aleatoriamente* a partir de una semilla *random*. Entrene solo durante 25 *epochs*, a los 15 ya debería comenzar a generar palabras y sonar mas coherente **¿Cuál es la técnica para predecir el siguiente carácter?**"
      ]
    },
    {
      "metadata": {
        "id": "lbsg0lEdqYnX",
        "colab_type": "code",
        "colab": {}
      },
      "cell_type": "code",
      "source": [
        "def predict_next_char(model, sentence):\n",
        "    \"\"\"Predict the next character from the current one\"\"\"    \n",
        "    x_pred = [char_indices[null_character]]+[char_indices[char] for char in sentence]\n",
        "    x_pred = sequence.pad_sequences([x_pred], maxlen=30,padding='pre',value=char_indices[null_character])\n",
        "    preds = model.predict(x_pred, verbose=0)[0]\n",
        "    next_index = np.random.choice(len(chars), p=preds) #take a sample\n",
        "    return indices_char[next_index]\n",
        "\n",
        "import random,sys\n",
        "def on_epoch_end(epoch, logs):\n",
        "    \"\"\"Function invoked at end of each epoch. Prints generated text.\"\"\"\n",
        "    print('\\n----- Generating text after Epoch: %d' % epoch)\n",
        "    start_index = random.randint(0, size - maxlen - 1)\n",
        "    sentence = text[start_index: start_index + maxlen]\n",
        "    print('----- Generating with seed: \"' + sentence + '\"')\n",
        "    sys.stdout.write(sentence)\n",
        "    for i in range(400):\n",
        "        next_char = predict_next_char(model, sentence)\n",
        "        sentence = sentence[1:] + next_char #for next character\n",
        "        sys.stdout.write(next_char)\n",
        "        sys.stdout.flush()\n",
        "    return"
      ],
      "execution_count": 0,
      "outputs": []
    },
    {
      "metadata": {
        "id": "SOoiN_8y02xk",
        "colab_type": "code",
        "colab": {
          "base_uri": "https://localhost:8080/",
          "height": 2397
        },
        "outputId": "9f4a0895-a2ff-4f73-9a67-863ff37982f5"
      },
      "cell_type": "code",
      "source": [
        "from keras.callbacks import LambdaCallback\n",
        "print_callback = LambdaCallback(on_epoch_end=on_epoch_end)\n",
        "pd.DataFrame(model.fit(x, y,batch_size=512,epochs=25, callbacks=[print_callback]).history).to_csv(\"history_1O.csv\")\n",
        "model.save(\"model_1O.h5\")"
      ],
      "execution_count": 63,
      "outputs": [
        {
          "output_type": "stream",
          "text": [
            "Epoch 1/25\n",
            "970794/970794 [==============================] - 112s 116us/step - loss: 1.0911 - acc: 0.6710\n",
            "\n",
            "----- Generating text after Epoch: 0\n",
            "----- Generating with seed: \"in the school after an aborted attempt t\"\n",
            "in the school after an aborted attempt to vote arient in hatpennar from an israeli nest record homes with the month posed in military . mr. nejace omer decisions in the propobies frem . u.n. envoy to share the secters . wounded one after arafting them released and evidence at a creation of the acche of parts of israel . indian prime minister and palestinian president murabuza , had river earlier . the u.s. site of many crieits . an el-cEpoch 2/25\n",
            "970794/970794 [==============================] - 113s 116us/step - loss: 1.0760 - acc: 0.6750\n",
            "\n",
            "----- Generating text after Epoch: 1\n",
            "----- Generating with seed: \"n southwest china 's yunnan province . t\"\n",
            "n southwest china 's yunnan province . the air officers part is blamed to a province . megia dependence and police \" sacivition power show more than 2** poots . the new parliamentary elections in 1978 , he kadd parts of the said fareve festrative revecutions bill . the government released the pthing and will be yxan in beij , when u.n. secretary-general kboch kilometia in iraq to have a first eloctice charge fire when surtai nights of aEpoch 3/25\n",
            "970794/970794 [==============================] - 113s 116us/step - loss: 1.0654 - acc: 0.6777\n",
            "\n",
            "----- Generating text after Epoch: 2\n",
            "----- Generating with seed: \" broadcast on the service 's radio progr\"\n",
            " broadcast on the service 's radio program . war are svoreding hit company . irac and talks with allegations about one toach with mr. rumsing this year . the gala changes , including two times and tee sebsonian causes from the united nations city reited the u.s. media are condicned in september . melinico 's ecendo of the nchide . denies mr. elmaddi ranai from the quake trade world wan rights bzooke helisharors broke stot geher on sith Epoch 4/25\n",
            "970794/970794 [==============================] - 112s 116us/step - loss: 1.0564 - acc: 0.6800\n",
            "\n",
            "----- Generating text after Epoch: 3\n",
            "----- Generating with seed: \"nd pitt spent the christmas holiday with\"\n",
            "nd pitt spent the christmas holiday with the tsxib in a caibo for the performn . authorities have val doceled militias attack lives with a constructure the world was the taleban billion-aired for hospitalia since punculting a 2*-modofofies of car bombers . last month 's ecoromic congress and growes through mudampadary early to prosecution . north korea and some 3** proverts have difformed accused to have attacks scounded for 3** burishiEpoch 5/25\n",
            "970794/970794 [==============================] - 113s 116us/step - loss: 1.0479 - acc: 0.6825\n",
            "\n",
            "----- Generating text after Epoch: 4\n",
            "----- Generating with seed: \"aleban militants after they ambushed a m\"\n",
            "aleban militants after they ambushed a military border . she says the point stop for a that changed the automet , m. surfices adrilge environment in wescestins 2* senting armistuning a player and votes in 2*** , cuba 's town of hubara . french president vikilleme bill confirms held prison sunday . but reschews of viecnam to overther iraqi parliamentary elections . in central and 692 million buried supplies in serbia 's marbh said thursdEpoch 6/25\n",
            "970794/970794 [==============================] - 112s 116us/step - loss: 1.0428 - acc: 0.6838\n",
            "\n",
            "----- Generating text after Epoch: 5\n",
            "----- Generating with seed: \" a televised speech , khamenei said hatr\"\n",
            " a televised speech , khamenei said hatrear that the demands for their endrist , \" new parts of the regronting in the prinction , says sibged m.n . the united nations says a says the bost wild on mettine free told military american enguncele strainhonered , him for the coalition 's first nuclear told ro-belagu . entrister spokesman , taking on the investigation caused violence . a zehoto carreing however , neconia and kid abbes , \" forcEpoch 7/25\n",
            "970794/970794 [==============================] - 112s 116us/step - loss: 1.0381 - acc: 0.6848\n",
            "\n",
            "----- Generating text after Epoch: 6\n",
            "----- Generating with seed: \"ay 's mission update . ukraine 's defens\"\n",
            "ay 's mission update . ukraine 's defense led killings . militant groups used bombs in london . tred soldiers katoding voters are significantry for uniccey monoung b'solougia has cantered a tod aid and refene deneisted the election . pakistani . the country from dalfis has becomi crossing to win guined started professional peacekeepers . local authorities say the makishan was thought to its constitutional july . officials day in his supEpoch 8/25\n",
            "970794/970794 [==============================] - 113s 116us/step - loss: 1.0362 - acc: 0.6852\n",
            "\n",
            "----- Generating text after Epoch: 7\n",
            "----- Generating with seed: \" said what caused the accident . however\"\n",
            " said what caused the accident . however , ween to ar-admarity and military controlleds . two indiano promines are expected to hurt fund . redtforced killed three consults that began buter consedates first extied timet hold 1* , and hurry thero . energy systems of sedawarep affairs of distingt . the intense catch labure terror thursday , a fixtle noto if the great of the united states , which othousted a policies bodifia buildings and cEpoch 9/25\n",
            "970794/970794 [==============================] - 112s 116us/step - loss: 1.0324 - acc: 0.6855\n",
            "\n",
            "----- Generating text after Epoch: 8\n",
            "----- Generating with seed: \"suicide attacks against israeli targets \"\n",
            "suicide attacks against israeli targets that iran to wanning the united states . mr. olmert to posted work . the united states and the white hour . officials say three payistranish prime minister rafik ambashari , 2**5 . mr. chavez has civel of kurdist armet at lang . calling stember . at least 15 febesive hurricane . engugher a car fwom south of baghdad say 13 sepbrme all end isearers will cave there , powers continued , but they up anEpoch 10/25\n",
            "970794/970794 [==============================] - 113s 116us/step - loss: 1.0311 - acc: 0.6858\n",
            "\n",
            "----- Generating text after Epoch: 9\n",
            "----- Generating with seed: \"ch news agency quotes a police official \"\n",
            "ch news agency quotes a police official said he is ctold like remaditation and deallief for their put in the lead reself excaped dewail alterray that mudaden , will be a key thies in the gaza -soir congressional walls and increased villages . ambrobages have replated a anti-american attack , free and who wag agreed to the presidency the anti-northers several with all timothy were doping that emelge model wall on the korean africancume ,Epoch 11/25\n",
            "970794/970794 [==============================] - 112s 116us/step - loss: 1.0291 - acc: 0.6871\n",
            "\n",
            "----- Generating text after Epoch: 10\n",
            "----- Generating with seed: \"and if it formally declares independence\"\n",
            "and if it formally declares independence on a report . the poinon of the rebels navy weeks , stallagd and agriculture last week after an opposition attacks in eastern soptis as the former suicory in efforts as uss suntary programs as part of the companed that commusists cas hangled out . errer kidnimons , improving rebels ancient domestical incuestaries laving himself , eu membership , the united nations ' foreign minister amari , a balEpoch 12/25\n",
            "970794/970794 [==============================] - 112s 116us/step - loss: 1.0288 - acc: 0.6870\n",
            "\n",
            "----- Generating text after Epoch: 11\n",
            "----- Generating with seed: \"a 's abduction of japanese citizens duri\"\n",
            "a 's abduction of japanese citizens during white able for teer attending the rigats , he took the czich traffic visitent manjahes . more than 3* partiencition for a major challenge in the prize at $ 179 million to support security . the ompose saudi international assession has to cent a joint smoll policy union say the will uscienting hold all for the soldiers were on the close for his november , the united states district and u.s. artaEpoch 13/25\n",
            "970794/970794 [==============================] - 113s 116us/step - loss: 1.0270 - acc: 0.6877\n",
            "\n",
            "----- Generating text after Epoch: 12\n",
            "----- Generating with seed: \"force decent behavior . a six-party coal\"\n",
            "force decent behavior . a six-party coalited in 1979 as 9* suspected mimla outlists way . there has been found after a dauling percial head of a confed are anses as a resitiation in iraq pirching last week . syria 's beopongeg ) says meanwhile , which that members indicted one comments of slorala fleeranco-riving koria . world in a number of attack . iraqi soparas called the hult . meanwhile , iraqi militants guestally there . a report Epoch 14/25\n",
            "970794/970794 [==============================] - 112s 116us/step - loss: 1.0276 - acc: 0.6868\n",
            "\n",
            "----- Generating text after Epoch: 13\n",
            "----- Generating with seed: \"nd a member of the bipartisan panel , is\"\n",
            "nd a member of the bipartisan panel , is taken for the surnive killed afghan prosecution . some israeli prises has , madagl and most of them deficit experities in the hose for with grudement search program . about 1** mert who collapsized thursday on giant speaking on 1228 , or teen and hospital in peru , the next country . in other development 's union under tye peacekeeping position ic has exceared thes from action fell 4-, poll to poEpoch 15/25\n",
            "970794/970794 [==============================] - 112s 116us/step - loss: 1.0261 - acc: 0.6875\n",
            "\n",
            "----- Generating text after Epoch: 14\n",
            "----- Generating with seed: \"nt after the international atomic energy\"\n",
            "nt after the international atomic energy agency , israeli manors have been no result in the whoter recorsters . ho valley . last month were roys from the u.s. socuran air duning commercial that continued thursday syar daily critics , president vomon afrian and nans for the blaming party , ara says hamse about 5* censual reducing . no wanted the project rums .tt commentrally coundres companies searching in talks and pusinns that sathereaEpoch 16/25\n",
            "970794/970794 [==============================] - 113s 116us/step - loss: 1.0258 - acc: 0.6878\n",
            "\n",
            "----- Generating text after Epoch: 15\n",
            "----- Generating with seed: \" a total distance of 1,300 kilometers . \"\n",
            " a total distance of 1,300 kilometers . democratic party is well .ment to a douss and other aid energy . the focal last week and non-erections contlant the two governments with responsibility for at liast with many organizations have replaced conerult a permanent long-term peacoof coveride remains who break maroh , were stational exports hooply to working when a visit brazel ushallaw last a herble recent committee when it said in centraEpoch 17/25\n",
            "970794/970794 [==============================] - 113s 116us/step - loss: 1.0253 - acc: 0.6876\n",
            "\n",
            "----- Generating text after Epoch: 16\n",
            "----- Generating with seed: \"space station since march . brazil and a\"\n",
            "space station since march . brazil and a statement reached nearly 1* children with philly with the regional common marcies nacroaged to a meeting . nato sparks and ladges and end as well as resistances are expected to hand more than with afvivery and brother for international independence . pakistan 's democratic prosees of what guestline monday said the early monatories men warning on the cusm . supporters in secret recent pray agencieEpoch 18/25\n",
            "970794/970794 [==============================] - 113s 116us/step - loss: 1.0263 - acc: 0.6872\n",
            "\n",
            "----- Generating text after Epoch: 17\n",
            "----- Generating with seed: \"icial with the indian high commission in\"\n",
            "icial with the indian high commission in 1897 . palestinian president mohammad . bombs listing gunmen , said the city of pro-poles , me sove help demonstrator thar days of his country , and the third year 's dabf strike . rrond minister has releated the national chirds of pores to vowes the decade--axser and training by the debate of kouster in ma yest acrist economic issues . officials say a 3*-year-old colinic pope where under two weeEpoch 19/25\n",
            "970794/970794 [==============================] - 113s 116us/step - loss: 1.0261 - acc: 0.6873\n",
            "\n",
            "----- Generating text after Epoch: 18\n",
            "----- Generating with seed: \" in beijing have announced that chinese \"\n",
            " in beijing have announced that chinese details stopped the fation says it spoke , as they tests since daya . the international bomb has killed 23 kilometers said in the northern group near mr. kingid  suspects wednesday . joined unanimous center in the hague . mogadishu was bramel has protested channev . he was tuesday named suspected protests ace \" lefen for talks with moscly . north korea have begun hik young webls approved monday , Epoch 20/25\n",
            "970794/970794 [==============================] - 113s 116us/step - loss: 1.0260 - acc: 0.6874\n",
            "\n",
            "----- Generating text after Epoch: 19\n",
            "----- Generating with seed: \"reate has been vocal about pursuing demo\"\n",
            "reate has been vocal about pursuing demonstrations bondoz a hugon to court for the international boscuting atcestmy . in a opponent on this year . in an anticall was will be in afghanistan halfed a u.s. nezes only 6* violence irer to brohe thisse the bond care , occurred and grant the reasite party . the teenage of e,sist population is now \" farch . turkey is donwed 2**8 . four new told moschitner of peace . he is urging it accestord geEpoch 21/25\n",
            "970794/970794 [==============================] - 113s 116us/step - loss: 1.0268 - acc: 0.6868\n",
            "\n",
            "----- Generating text after Epoch: 20\n",
            "----- Generating with seed: \"peech on national television , accusing \"\n",
            "peech on national television , accusing the weepy , the wild after the family monday that could have vehines from osts thousands of people to insurrents afthrnar elections potrolling ppondents in the marines faccoming an attack , mr. chavez calls for a hn riter , sech and were hoping the dangle . most of the men ary governot , and a national hunger to their deait national offices a little the cases open for two so-called \" british and pEpoch 22/25\n",
            "970794/970794 [==============================] - 113s 116us/step - loss: 1.0270 - acc: 0.6867\n",
            "\n",
            "----- Generating text after Epoch: 21\n",
            "----- Generating with seed: \"te nuclear weapons . diplomats say there\"\n",
            "te nuclear weapons . diplomats say there are one of the largest capital huss in the olympic smogding under foreign minister fores attracting h. concern clegh to export the south korean namas red credent to develop nuclear sects . \" the two south african seided problems . nigerian officials have also carried canying prime minister arihals are os . he fighters who is legtly distincide the persistens that have made the arrest against can pEpoch 23/25\n",
            "970794/970794 [==============================] - 112s 116us/step - loss: 1.0271 - acc: 0.6869\n",
            "\n",
            "----- Generating text after Epoch: 22\n",
            "----- Generating with seed: \"ity forces on thursday . a commercial ai\"\n",
            "ity forces on thursday . a commercial aids to cost $ 1,**,*** kurdish aid , which armed men adred to also and making retirent eldchedforcul wounding attacks by the existence of 5 % punclase sure is into al . witnesses say abact have offered overclooull for construction , rithing thos har operations to launch it has become a minebiple for fearing from 2**9 . an aubbe on what they had vone july you saturday in the turkish perporal createdEpoch 24/25\n",
            "970794/970794 [==============================] - 113s 116us/step - loss: 1.0287 - acc: 0.6859\n",
            "\n",
            "----- Generating text after Epoch: 23\n",
            "----- Generating with seed: \" of the 331 deaths , most of them childr\"\n",
            " of the 331 deaths , most of them children and the taph . a search in the lebation . north war shithing all to report spokesman and a major ipportant lamin constracts the holssuing bombings of the country 's financial septomber . manyary revenues , and wathington in mexico world quarretto allowar wirned . a jailed hostages and wilding a chief government and the attack . vow has issued bopy is one in reconstruction . the mobanese vehendeEpoch 25/25\n",
            "970794/970794 [==============================] - 112s 116us/step - loss: 1.0287 - acc: 0.6861\n",
            "\n",
            "----- Generating text after Epoch: 24\n",
            "----- Generating with seed: \"ear missile tests , saying he sees a dou\"\n",
            "ear missile tests , saying he sees a doustarg-state-man assumed by palazia . the photes xaying groups and villagerly and the turkish list of 1.98 deaghs of chilerani arans party ( beliaves said goil- met under the u.s. chnistral disiasic jobs thalkman . five people have been gientry from ascyss wednesday that the gunfire 25 haitian towns . the american anti-farms in belgruc because of the u.s. emberllance of the fear , estimates friday "
          ],
          "name": "stdout"
        }
      ]
    },
    {
      "metadata": {
        "id": "wkvelKZqqYna",
        "colab_type": "text"
      },
      "cell_type": "markdown",
      "source": [
        "p) Verifique la calidad de la red entrenada, cargando el modelo si es que lo guardó o directamente, entregando una predicción sobre una semilla inicial que usted entregue. **Observe y comente cualitativamente sobre qué pasa cuando la predicción del siguiente carácter fuese de manera determinista, tomando el máximo valor de entre las predicciones.**"
      ]
    },
    {
      "metadata": {
        "id": "5O2UPTisqYne",
        "colab_type": "code",
        "outputId": "20984fc6-7faf-438f-9141-8911feeb4d1a",
        "colab": {
          "base_uri": "https://localhost:8080/",
          "height": 74
        }
      },
      "cell_type": "code",
      "source": [
        "sentence = \"it is \"\n",
        "print('----- Generating with seed: \"' + sentence + '\"')\n",
        "sys.stdout.write(sentence)\n",
        "for i in range(400):\n",
        "    next_char = predict_next_char(model, sentence)\n",
        "    sentence = sentence[1:] + next_char \n",
        "    sys.stdout.write(next_char)\n",
        "    sys.stdout.flush()"
      ],
      "execution_count": 64,
      "outputs": [
        {
          "output_type": "stream",
          "text": [
            "----- Generating with seed: \"it is \"\n",
            "it is flaction . he planes are flooring ethnic has ruled toop last youl sinces in the easing terms of preside . islamical famous and from acture to europens . pparanys of morral obdectoder chargel gapes , with greation , mr. awerdan hards with on are states the commiss to leaders danbers , who wan for as a new facuse that countra moantest will bomb , which trivife intert jassi interated bankile govern t"
          ],
          "name": "stdout"
        }
      ]
    },
    {
      "metadata": {
        "id": "nAVaDFYjbMjX",
        "colab_type": "text"
      },
      "cell_type": "markdown",
      "source": [
        "***Conclusiones***\n",
        "El procesamiento de lenguaje natural suele ser mucho mas complejo que el procesamiento de señales, imagenes o videos, en este caso nosotros tuvimos muchos problemas en el momento de crear el vector de represetnaciones, tanto como con la dimensión de los datos como  en elegir el tipo de padding correcto, ademas es importante saber que hay un universo de posibles representaciones, que hay ademas palabras que tienen mas o menos imapcto.\n",
        "\n",
        "Podemos nombrar otros tipos de desafios que encontramos aca y que nos parecen que peuden seguir siendo objeto de estudio, la elección del tipo de padding correcto, su relacion con el backpropagation, la celda de memoria en las redes recurrentes, y en que aplicaciones debe elegirse alguna de las variante.\n",
        "\n",
        "\n",
        "Un ultimo pero no menos importante item es la metrica con la que se debe evaluar la parte exprimental del desarrollo, nosotros elegimos micro que la aplicamos en todo el desarrollo de la tarea, pero no entendiamos  muy bien el algoritmo y cuando logramos comprender mejor este artilugio matematico se udo comprender que la tener un set de datos bastante dispurso, es necesario contar con la mejor metrica posible para gartantizar un analisis concreto y correcto de la experimentacion hecha"
      ]
    }
  ]
}