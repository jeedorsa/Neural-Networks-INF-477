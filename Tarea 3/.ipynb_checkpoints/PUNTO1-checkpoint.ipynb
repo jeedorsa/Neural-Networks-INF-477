{
 "cells": [
  {
   "cell_type": "markdown",
   "metadata": {
    "colab_type": "text",
    "id": "wbSd_V6isP-L"
   },
   "source": [
    "## 1. RNN sobre texto\n",
    "\n",
    "Hoy en dı́a, una aplicación relevante de las redes neuronales recurrentes es el modelamiento de texto y lenguaje natural. En esta sección abordaremos el problema de procesar sentencias de texto, proporcionadas por GMB (*Groningen Meaning Bank*), para reconocimiento de entidades y tagger. En específico, trabajaremos con el dataset proprocionado a través de __[Kaggle](https://www.kaggle.com/abhinavwalia95/entity-annotated-corpus)__, que está compuesto por más de un millón de palabras, a fin de realizar predicciones sobre distintas tareas del tipo *many to many* y *many to one*.\n",
    "\n",
    "<img src=\"https://i.stack.imgur.com/b4sus.jpg\" width=\"70%\" />\n",
    "\n",
    "\n",
    "Descargue los datos de la página de Kaggle y cárguelos mediante *pandas*."
   ]
  },
  {
   "cell_type": "code",
   "execution_count": 1,
   "metadata": {
    "colab": {},
    "colab_type": "code",
    "id": "8fPwjk8Ytdsx"
   },
   "outputs": [
    {
     "name": "stderr",
     "output_type": "stream",
     "text": [
      "Using TensorFlow backend.\n"
     ]
    }
   ],
   "source": [
    "import pandas as pd\n",
    "import numpy as np\n",
    "import re, os, sys\n",
    "import matplotlib.pyplot as plt\n",
    "import seaborn as sns\n",
    "from keras.preprocessing import sequence\n",
    "from keras.utils import to_categorical\n",
    "from sklearn.model_selection import train_test_split\n",
    "from keras.models import Sequential\n",
    "from keras.layers import LSTM, Embedding, Dense, Dropout\n",
    "from sklearn.metrics import f1_score\n",
    "from keras.layers import Bidirectional\n",
    "import random,sys\n",
    "from keras.callbacks import LambdaCallback\n",
    "from keras.layers import Dropout"
   ]
  },
  {
   "cell_type": "code",
   "execution_count": 2,
   "metadata": {
    "colab": {
     "base_uri": "https://localhost:8080/",
     "height": 35
    },
    "colab_type": "code",
    "id": "X5mvzXFsuhRQ",
    "outputId": "7a4844c5-cdad-4616-f16d-c469647db61d"
   },
   "outputs": [
    {
     "name": "stderr",
     "output_type": "stream",
     "text": [
      "b'Skipping line 281837: expected 25 fields, saw 34\\n'\n"
     ]
    }
   ],
   "source": [
    "df_ner=pd.read_csv('ner.csv', encoding =\"cp1252\", error_bad_lines=False)\n",
    "df_ner.dropna(inplace=True)"
   ]
  },
  {
   "cell_type": "markdown",
   "metadata": {
    "colab_type": "text",
    "id": "8i229vulu5r-"
   },
   "source": [
    "En este caso tenemos un dataset con un peso de 125 MB, hemos subido este archivo a nuestro Drive para poder hacer la conexión con el colaboratory y cargarlo directamente, se tiene que colocar las palabras de configuracion en la lectura del csv ya que encontramos campos vacios o que no serian reconocidos por la función de carga del programa."
   ]
  },
  {
   "cell_type": "markdown",
   "metadata": {
    "colab_type": "text",
    "id": "935uNKKvteHC"
   },
   "source": [
    "a) En esta primera instancia trabajaremos con la tarea de realizar un NER *tag* (**Named Entity Recognition**) sobre cada una de las palabras en las sentencias que se nos presenta en los datos. Esta tarea es del tipo *many to many*, es decir, la entrada es una secuencia y la salida es una secuencia, sin *shift*, por lo que necesitaremos una estructura de red adecuada a ésto. En primer lugar extraiga las columnas que utilizaremos del dataset **¿Por qué es conveniente utilizar *lemma* en vez de la palabra misma *word*?**"
   ]
  },
  {
   "cell_type": "code",
   "execution_count": 8,
   "metadata": {
    "colab": {
     "base_uri": "https://localhost:8080/",
     "height": 206
    },
    "colab_type": "code",
    "id": "C6F-k3HMtfmJ",
    "outputId": "898fdad1-8a5a-42fe-b1e9-98e22c942fbf"
   },
   "outputs": [
    {
     "data": {
      "text/html": [
       "<div>\n",
       "<style scoped>\n",
       "    .dataframe tbody tr th:only-of-type {\n",
       "        vertical-align: middle;\n",
       "    }\n",
       "\n",
       "    .dataframe tbody tr th {\n",
       "        vertical-align: top;\n",
       "    }\n",
       "\n",
       "    .dataframe thead th {\n",
       "        text-align: right;\n",
       "    }\n",
       "</style>\n",
       "<table border=\"1\" class=\"dataframe\">\n",
       "  <thead>\n",
       "    <tr style=\"text-align: right;\">\n",
       "      <th></th>\n",
       "      <th>lemma</th>\n",
       "      <th>word</th>\n",
       "      <th>pos</th>\n",
       "      <th>tag</th>\n",
       "      <th>prev-iob</th>\n",
       "    </tr>\n",
       "  </thead>\n",
       "  <tbody>\n",
       "    <tr>\n",
       "      <th>0</th>\n",
       "      <td>thousand</td>\n",
       "      <td>Thousands</td>\n",
       "      <td>NNS</td>\n",
       "      <td>O</td>\n",
       "      <td>__START1__</td>\n",
       "    </tr>\n",
       "    <tr>\n",
       "      <th>1</th>\n",
       "      <td>of</td>\n",
       "      <td>of</td>\n",
       "      <td>IN</td>\n",
       "      <td>O</td>\n",
       "      <td>O</td>\n",
       "    </tr>\n",
       "    <tr>\n",
       "      <th>2</th>\n",
       "      <td>demonstr</td>\n",
       "      <td>demonstrators</td>\n",
       "      <td>NNS</td>\n",
       "      <td>O</td>\n",
       "      <td>O</td>\n",
       "    </tr>\n",
       "    <tr>\n",
       "      <th>3</th>\n",
       "      <td>have</td>\n",
       "      <td>have</td>\n",
       "      <td>VBP</td>\n",
       "      <td>O</td>\n",
       "      <td>O</td>\n",
       "    </tr>\n",
       "    <tr>\n",
       "      <th>4</th>\n",
       "      <td>march</td>\n",
       "      <td>marched</td>\n",
       "      <td>VBN</td>\n",
       "      <td>O</td>\n",
       "      <td>O</td>\n",
       "    </tr>\n",
       "  </tbody>\n",
       "</table>\n",
       "</div>"
      ],
      "text/plain": [
       "      lemma           word  pos tag    prev-iob\n",
       "0  thousand      Thousands  NNS   O  __START1__\n",
       "1        of             of   IN   O           O\n",
       "2  demonstr  demonstrators  NNS   O           O\n",
       "3      have           have  VBP   O           O\n",
       "4     march        marched  VBN   O           O"
      ]
     },
     "execution_count": 8,
     "metadata": {},
     "output_type": "execute_result"
    }
   ],
   "source": [
    "dataset = df_ner.loc[:,[\"lemma\",\"word\",\"pos\",\"tag\",\"prev-iob\"]]\n",
    "dataset.head()"
   ]
  },
  {
   "cell_type": "markdown",
   "metadata": {
    "colab_type": "text",
    "id": "7hmrYMSrv65W"
   },
   "source": [
    "Lo que sucede es que en NLP es necesario hacer un prepreocesamiento de los textos para poder agruparlos y que trabajen de manera correcta, el lemma es una forma de procesamiento de las palabras que hace el analisis morfologico de las palabras y busca su forma mas general pero que siga conteniendo el significado, entonces utilizamos esa columna y nos ahorramos un paso de procesamiento de texto.\n",
    "\n",
    "---\n",
    "\n"
   ]
  },
  {
   "cell_type": "markdown",
   "metadata": {
    "colab_type": "text",
    "id": "UNFVS2yrwh2c"
   },
   "source": [
    "Luego de esto cree una estructura que contendrá todas las sentencias u oraciones y otra estructura que contendrá los las etiquetas (tags), esto es un arreglo de arreglos de lemmas y un arreglo de arreglos de tags respectivamente. **¿Cuales son las dimensiones de ambas estructuras? ¿Cada dato de ejemplo tiene las mismas dimensiones que el resto?**"
   ]
  },
  {
   "cell_type": "code",
   "execution_count": 16,
   "metadata": {
    "colab": {},
    "colab_type": "code",
    "id": "UYn1zUHawZAL"
   },
   "outputs": [
    {
     "ename": "MemoryError",
     "evalue": "",
     "output_type": "error",
     "traceback": [
      "\u001b[1;31m---------------------------------------------------------------------------\u001b[0m",
      "\u001b[1;31mMemoryError\u001b[0m                               Traceback (most recent call last)",
      "\u001b[1;32m<ipython-input-16-14981ba3159f>\u001b[0m in \u001b[0;36m<module>\u001b[1;34m\u001b[0m\n\u001b[0;32m      5\u001b[0m     \u001b[1;32mif\u001b[0m \u001b[0mfila\u001b[0m\u001b[1;33m[\u001b[0m\u001b[1;33m-\u001b[0m\u001b[1;36m1\u001b[0m\u001b[1;33m]\u001b[0m\u001b[1;33m==\u001b[0m\u001b[1;34m\"__START1__\"\u001b[0m\u001b[1;33m:\u001b[0m\u001b[1;33m\u001b[0m\u001b[0m\n\u001b[0;32m      6\u001b[0m         \u001b[0mdataX\u001b[0m\u001b[1;33m.\u001b[0m\u001b[0mappend\u001b[0m\u001b[1;33m(\u001b[0m\u001b[0mnp\u001b[0m\u001b[1;33m.\u001b[0m\u001b[0masarray\u001b[0m\u001b[1;33m(\u001b[0m\u001b[0msentence\u001b[0m\u001b[1;33m)\u001b[0m\u001b[1;33m)\u001b[0m\u001b[1;33m\u001b[0m\u001b[0m\n\u001b[1;32m----> 7\u001b[1;33m         \u001b[0mdataY\u001b[0m\u001b[1;33m.\u001b[0m\u001b[0mappend\u001b[0m\u001b[1;33m(\u001b[0m\u001b[0mnp\u001b[0m\u001b[1;33m.\u001b[0m\u001b[0masarray\u001b[0m\u001b[1;33m(\u001b[0m\u001b[0mlabels_sentence\u001b[0m\u001b[1;33m)\u001b[0m\u001b[1;33m)\u001b[0m\u001b[1;33m\u001b[0m\u001b[0m\n\u001b[0m\u001b[0;32m      8\u001b[0m         \u001b[0msentence\u001b[0m\u001b[1;33m=\u001b[0m \u001b[1;33m[\u001b[0m\u001b[1;33m]\u001b[0m\u001b[1;33m\u001b[0m\u001b[0m\n\u001b[0;32m      9\u001b[0m         \u001b[0mlabel_sentence\u001b[0m \u001b[1;33m=\u001b[0m \u001b[1;33m[\u001b[0m\u001b[1;33m]\u001b[0m\u001b[1;33m\u001b[0m\u001b[0m\n",
      "\u001b[1;32m~\\AppData\\Local\\conda\\conda\\envs\\keras1\\lib\\site-packages\\numpy\\core\\numeric.py\u001b[0m in \u001b[0;36masarray\u001b[1;34m(a, dtype, order)\u001b[0m\n\u001b[0;32m    499\u001b[0m \u001b[1;33m\u001b[0m\u001b[0m\n\u001b[0;32m    500\u001b[0m     \"\"\"\n\u001b[1;32m--> 501\u001b[1;33m     \u001b[1;32mreturn\u001b[0m \u001b[0marray\u001b[0m\u001b[1;33m(\u001b[0m\u001b[0ma\u001b[0m\u001b[1;33m,\u001b[0m \u001b[0mdtype\u001b[0m\u001b[1;33m,\u001b[0m \u001b[0mcopy\u001b[0m\u001b[1;33m=\u001b[0m\u001b[1;32mFalse\u001b[0m\u001b[1;33m,\u001b[0m \u001b[0morder\u001b[0m\u001b[1;33m=\u001b[0m\u001b[0morder\u001b[0m\u001b[1;33m)\u001b[0m\u001b[1;33m\u001b[0m\u001b[0m\n\u001b[0m\u001b[0;32m    502\u001b[0m \u001b[1;33m\u001b[0m\u001b[0m\n\u001b[0;32m    503\u001b[0m \u001b[1;33m\u001b[0m\u001b[0m\n",
      "\u001b[1;31mMemoryError\u001b[0m: "
     ]
    }
   ],
   "source": [
    "dataX,dataY = [],[]\n",
    "lemmas,labels = set(), set()  #uniques\n",
    "sentence,labels_sentence = [],[]  #uniques\n",
    "for fila in dataset.values[0:200000]:\n",
    "    if fila[-1]==\"__START1__\": \n",
    "        dataX.append(np.asarray(sentence))\n",
    "        dataY.append(np.asarray(labels_sentence))\n",
    "        sentence= []\n",
    "        label_sentence = []\n",
    "    lemmas.add(fila[0])\n",
    "    labels.add(fila[1])\n",
    "    sentence.append(fila[0])#add lemma\n",
    "    labels_sentence.append(fila[1]) #TAG\n",
    "dataX = np.asarray(dataX[1:]) #data to  array\n",
    "dataY = np.asarray(dataY[1:])"
   ]
  },
  {
   "cell_type": "code",
   "execution_count": null,
   "metadata": {},
   "outputs": [],
   "source": [
    "print(\"Cantidad labels: \", len(labels))\n",
    "print(\"Cantidad lemmas: \", len(lemmas))\n",
    "print(\"Tamaño matriz de lemmas: \", dataX.shape)\n",
    "print(\"Tamaño matriz de labels: \", dataY.shape)"
   ]
  },
  {
   "cell_type": "markdown",
   "metadata": {},
   "source": [
    "Hicimos la prueba en un computador con 8GB de memoria RAM el codigo envia MEMORYERROR con un maximo de 250.0000 datos, "
   ]
  },
  {
   "cell_type": "code",
   "execution_count": 9,
   "metadata": {},
   "outputs": [
    {
     "data": {
      "text/plain": [
       "array([['thousand', 'Thousands', 'NNS', 'O', '__START1__'],\n",
       "       ['of', 'of', 'IN', 'O', 'O'],\n",
       "       ['demonstr', 'demonstrators', 'NNS', 'O', 'O'],\n",
       "       ...,\n",
       "       ['for', 'for', 'IN', 'O', 'O'],\n",
       "       ['written', 'written', 'JJ', 'O', 'O'],\n",
       "       ['public', 'publications', 'NNS', 'O', 'O']], dtype=object)"
      ]
     },
     "execution_count": 9,
     "metadata": {},
     "output_type": "execute_result"
    }
   ],
   "source": []
  },
  {
   "cell_type": "code",
   "execution_count": 5,
   "metadata": {},
   "outputs": [
    {
     "data": {
      "text/plain": [
       "array([array(['O', 'O', 'O', 'O', 'O', 'O', 'B-geo', 'O', 'O', 'O', 'O', 'O',\n",
       "       'B-geo', 'O', 'O', 'O', 'O', 'O', 'B-gpe', 'O', 'O', 'O', 'O', 'O'],\n",
       "      dtype='<U5'),\n",
       "       array(['O', 'O', 'O', 'O', 'O', 'O', 'B-geo', 'O', 'O', 'O', 'O', 'O',\n",
       "       'B-geo', 'O', 'O', 'O', 'O', 'O', 'B-gpe', 'O', 'O', 'O', 'O', 'O',\n",
       "       'O', 'O', 'O', 'O', 'O', 'O', 'O', 'O', 'O', 'O', 'O', 'O', 'O',\n",
       "       'O', 'O', 'O', 'O', 'O', 'B-per', 'O', 'O', 'O', 'O', 'O', 'O',\n",
       "       'O', 'O', 'O', 'O', 'O'], dtype='<U5'),\n",
       "       array(['O', 'O', 'O', 'O', 'O', 'O', 'B-geo', 'O', 'O', 'O', 'O', 'O',\n",
       "       'B-geo', 'O', 'O', 'O', 'O', 'O', 'B-gpe', 'O', 'O', 'O', 'O', 'O',\n",
       "       'O', 'O', 'O', 'O', 'O', 'O', 'O', 'O', 'O', 'O', 'O', 'O', 'O',\n",
       "       'O', 'O', 'O', 'O', 'O', 'B-per', 'O', 'O', 'O', 'O', 'O', 'O',\n",
       "       'O', 'O', 'O', 'O', 'O', 'O', 'O', 'O', 'O', 'O', 'O', 'O', 'O',\n",
       "       'O', 'O', 'O', 'B-geo', 'I-geo', 'O'], dtype='<U5'),\n",
       "       ..., array(['O', 'O', 'O', ..., 'O', 'O', 'O'], dtype='<U5'),\n",
       "       array(['O', 'O', 'O', ..., 'O', 'O', 'O'], dtype='<U5'),\n",
       "       array(['O', 'O', 'O', ..., 'O', 'O', 'O'], dtype='<U5')],\n",
       "      dtype=object)"
      ]
     },
     "execution_count": 5,
     "metadata": {},
     "output_type": "execute_result"
    }
   ],
   "source": [
    "dataY"
   ]
  },
  {
   "cell_type": "code",
   "execution_count": 6,
   "metadata": {
    "colab": {
     "base_uri": "https://localhost:8080/",
     "height": 172
    },
    "colab_type": "code",
    "id": "j7wYbsW43dJ2",
    "outputId": "7784825e-75a2-49e3-8052-204ed281b3f4"
   },
   "outputs": [
    {
     "data": {
      "text/plain": [
       "array([array(['thousand', 'of', 'demonstr', 'have', 'march', 'through', 'london',\n",
       "       'to', 'protest', 'the', 'war', 'in', 'iraq', 'and', 'demand',\n",
       "       'the', 'withdraw', 'of', 'british', 'troop', 'from', 'that',\n",
       "       'countri', '.'], dtype='<U8'),\n",
       "       array(['famili', 'of', 'soldier', 'kill', 'in', 'the', 'conflict', 'join',\n",
       "       'the', 'protest', 'who', 'carri', 'banner', 'with', 'such',\n",
       "       'slogan', 'as', '\"', 'bush', 'number', 'one', 'terrorist', '\"',\n",
       "       'and', '\"', 'stop', 'the', 'bomb', '.', '\"'], dtype='<U9'),\n",
       "       array(['they', 'march', 'from', 'the', 'hous', 'of', 'parliament', 'to',\n",
       "       'a', 'ralli', 'in', 'hyde', 'park', '.'], dtype='<U10'),\n",
       "       ...,\n",
       "       array(['no', 'group', 'has', 'claim', 'respons', 'for', 'the', 'kidnap',\n",
       "       '.'], dtype='<U7'),\n",
       "       array(['kidnap', 'are', 'frequent', 'in', 'the', 'gaza', 'strip', ',',\n",
       "       'but', 'hostag', 'are', 'usual', 'releas', 'within', 'hour', '.'],\n",
       "      dtype='<U8'),\n",
       "       array(['chines', 'author', 'have', 'ban', 'the', 'use', 'of', 'foreign',\n",
       "       'word', 'and', 'phrase', '–', 'especi', 'english', '–', 'in',\n",
       "       'chines', 'newspap', ',', 'book', 'and', 'websit', '.'],\n",
       "      dtype='<U7')], dtype=object)"
      ]
     },
     "execution_count": 6,
     "metadata": {},
     "output_type": "execute_result"
    }
   ],
   "source": [
    "dataX"
   ]
  },
  {
   "cell_type": "markdown",
   "metadata": {},
   "source": [
    "b) Estudie la distribución del largo de los textos a procesar. Estudie también la frecuencia con la que aparecen las palabras en todo el dataset. **¿Se observa una ley Zipf?**[[1]](#refs) Realice un gráfico de la cantidad de datos por clase. Comente."
   ]
  },
  {
   "cell_type": "code",
   "execution_count": 5,
   "metadata": {},
   "outputs": [
    {
     "data": {
      "image/png": "[encoded data removed]",
      "text/plain": [
       "<Figure size 1080x504 with 2 Axes>"
      ]
     },
     "metadata": {
      "needs_background": "light"
     },
     "output_type": "display_data"
    }
   ],
   "source": [
    "phrases_len = []\n",
    "for row in dataX:\n",
    "    phrases_len.append(len(row))\n",
    "\n",
    "plt.figure(figsize=(15,7))\n",
    "plt.subplot(121)\n",
    "plt.hist(phrases_len, bins=40)\n",
    "plt.xlabel(\"Largo de textos\")\n",
    "plt.ylabel(\"Numero de filas\")\n",
    "plt.title(\"Distribucion de largo de textos\")\n",
    "plt.subplot(122)\n",
    "sns.boxplot(phrases_len, labels=[\"Matriz frases\"],orient='v')\n",
    "plt.title(\"Boxplot largo frases\")\n",
    "plt.show()"
   ]
  },
  {
   "cell_type": "markdown",
   "metadata": {},
   "source": [
    "c) Es necesario transformar los textos para que puedan ser entregados apropiadamente a la red, por lo que será necesario crear una función que codifique cada posible *lemma* a un número y cada posible *tag* a otro número, utilice esta función sobre las sentencias y *tags* ya generados. **Mida cual es el largo máximo de entre todas las sentencias, la cantidad de *lemmas* y etiquetas**. Además de esto, debido al largo distinto de las sentencias se deberá **realizar *padding* para estandarizar el largo**, considere algun carácter especial para codificar el espacio en blanco que luego se le deberá rellenar, por ejemplo si el largo máximo es de 4 y se tiene la sentencia \"the rocket\" codificada como [32,4] será necesario agregar un *lemma* que codificado significará el fin de la sentencia \"the rocket *ENDPAD ENDPAD*\" que codificado quedará como [32,4,*0, 0*]."
   ]
  },
  {
   "cell_type": "code",
   "execution_count": 141,
   "metadata": {},
   "outputs": [
    {
     "ename": "KeyError",
     "evalue": "5072",
     "output_type": "error",
     "traceback": [
      "\u001b[1;31m---------------------------------------------------------------------------\u001b[0m",
      "\u001b[1;31mKeyError\u001b[0m                                  Traceback (most recent call last)",
      "\u001b[1;32m<ipython-input-141-a8f55ed22467>\u001b[0m in \u001b[0;36m<module>\u001b[1;34m\u001b[0m\n\u001b[0;32m      1\u001b[0m \u001b[0mlemma2idx\u001b[0m \u001b[1;33m=\u001b[0m \u001b[1;33m{\u001b[0m\u001b[0mw\u001b[0m\u001b[1;33m:\u001b[0m \u001b[0mi\u001b[0m \u001b[1;32mfor\u001b[0m \u001b[0mi\u001b[0m\u001b[1;33m,\u001b[0m \u001b[0mw\u001b[0m \u001b[1;32min\u001b[0m \u001b[0menumerate\u001b[0m\u001b[1;33m(\u001b[0m\u001b[0mlemmas\u001b[0m\u001b[1;33m)\u001b[0m\u001b[1;33m}\u001b[0m \u001b[1;31m#Converting text to numbers\u001b[0m\u001b[1;33m\u001b[0m\u001b[0m\n\u001b[0;32m      2\u001b[0m \u001b[0mlab2idx\u001b[0m \u001b[1;33m=\u001b[0m \u001b[1;33m{\u001b[0m\u001b[0mt\u001b[0m\u001b[1;33m:\u001b[0m \u001b[0mi\u001b[0m \u001b[1;32mfor\u001b[0m \u001b[0mi\u001b[0m\u001b[1;33m,\u001b[0m \u001b[0mt\u001b[0m \u001b[1;32min\u001b[0m \u001b[0menumerate\u001b[0m\u001b[1;33m(\u001b[0m\u001b[0mlabels\u001b[0m\u001b[1;33m)\u001b[0m\u001b[1;33m}\u001b[0m\u001b[1;33m\u001b[0m\u001b[0m\n\u001b[1;32m----> 3\u001b[1;33m \u001b[0mdataX\u001b[0m \u001b[1;33m=\u001b[0m \u001b[1;33m[\u001b[0m\u001b[1;33m[\u001b[0m\u001b[0mlemma2idx\u001b[0m\u001b[1;33m[\u001b[0m\u001b[0mlemma\u001b[0m\u001b[1;33m]\u001b[0m \u001b[1;32mfor\u001b[0m \u001b[0mlemma\u001b[0m \u001b[1;32min\u001b[0m \u001b[0msentence\u001b[0m \u001b[1;33m]\u001b[0m \u001b[1;32mfor\u001b[0m \u001b[0msentence\u001b[0m \u001b[1;32min\u001b[0m \u001b[0mdataX\u001b[0m\u001b[1;33m]\u001b[0m\u001b[1;33m\u001b[0m\u001b[0m\n\u001b[0m\u001b[0;32m      4\u001b[0m \u001b[0mdataY\u001b[0m \u001b[1;33m=\u001b[0m \u001b[1;33m[\u001b[0m\u001b[1;33m[\u001b[0m\u001b[0mlab2idx\u001b[0m\u001b[1;33m[\u001b[0m\u001b[0mner\u001b[0m\u001b[1;33m]\u001b[0m \u001b[1;32mfor\u001b[0m \u001b[0mner\u001b[0m \u001b[1;32min\u001b[0m \u001b[0mner_tags\u001b[0m \u001b[1;33m]\u001b[0m \u001b[1;32mfor\u001b[0m \u001b[0mner_tags\u001b[0m \u001b[1;32min\u001b[0m \u001b[0mdataY\u001b[0m\u001b[1;33m]\u001b[0m\u001b[1;33m\u001b[0m\u001b[0m\n\u001b[0;32m      5\u001b[0m \u001b[0mn_lemmas\u001b[0m \u001b[1;33m=\u001b[0m \u001b[0mlen\u001b[0m\u001b[1;33m(\u001b[0m\u001b[0mlemmas\u001b[0m\u001b[1;33m)\u001b[0m\u001b[1;33m\u001b[0m\u001b[0m\n",
      "\u001b[1;32m<ipython-input-141-a8f55ed22467>\u001b[0m in \u001b[0;36m<listcomp>\u001b[1;34m(.0)\u001b[0m\n\u001b[0;32m      1\u001b[0m \u001b[0mlemma2idx\u001b[0m \u001b[1;33m=\u001b[0m \u001b[1;33m{\u001b[0m\u001b[0mw\u001b[0m\u001b[1;33m:\u001b[0m \u001b[0mi\u001b[0m \u001b[1;32mfor\u001b[0m \u001b[0mi\u001b[0m\u001b[1;33m,\u001b[0m \u001b[0mw\u001b[0m \u001b[1;32min\u001b[0m \u001b[0menumerate\u001b[0m\u001b[1;33m(\u001b[0m\u001b[0mlemmas\u001b[0m\u001b[1;33m)\u001b[0m\u001b[1;33m}\u001b[0m \u001b[1;31m#Converting text to numbers\u001b[0m\u001b[1;33m\u001b[0m\u001b[0m\n\u001b[0;32m      2\u001b[0m \u001b[0mlab2idx\u001b[0m \u001b[1;33m=\u001b[0m \u001b[1;33m{\u001b[0m\u001b[0mt\u001b[0m\u001b[1;33m:\u001b[0m \u001b[0mi\u001b[0m \u001b[1;32mfor\u001b[0m \u001b[0mi\u001b[0m\u001b[1;33m,\u001b[0m \u001b[0mt\u001b[0m \u001b[1;32min\u001b[0m \u001b[0menumerate\u001b[0m\u001b[1;33m(\u001b[0m\u001b[0mlabels\u001b[0m\u001b[1;33m)\u001b[0m\u001b[1;33m}\u001b[0m\u001b[1;33m\u001b[0m\u001b[0m\n\u001b[1;32m----> 3\u001b[1;33m \u001b[0mdataX\u001b[0m \u001b[1;33m=\u001b[0m \u001b[1;33m[\u001b[0m\u001b[1;33m[\u001b[0m\u001b[0mlemma2idx\u001b[0m\u001b[1;33m[\u001b[0m\u001b[0mlemma\u001b[0m\u001b[1;33m]\u001b[0m \u001b[1;32mfor\u001b[0m \u001b[0mlemma\u001b[0m \u001b[1;32min\u001b[0m \u001b[0msentence\u001b[0m \u001b[1;33m]\u001b[0m \u001b[1;32mfor\u001b[0m \u001b[0msentence\u001b[0m \u001b[1;32min\u001b[0m \u001b[0mdataX\u001b[0m\u001b[1;33m]\u001b[0m\u001b[1;33m\u001b[0m\u001b[0m\n\u001b[0m\u001b[0;32m      4\u001b[0m \u001b[0mdataY\u001b[0m \u001b[1;33m=\u001b[0m \u001b[1;33m[\u001b[0m\u001b[1;33m[\u001b[0m\u001b[0mlab2idx\u001b[0m\u001b[1;33m[\u001b[0m\u001b[0mner\u001b[0m\u001b[1;33m]\u001b[0m \u001b[1;32mfor\u001b[0m \u001b[0mner\u001b[0m \u001b[1;32min\u001b[0m \u001b[0mner_tags\u001b[0m \u001b[1;33m]\u001b[0m \u001b[1;32mfor\u001b[0m \u001b[0mner_tags\u001b[0m \u001b[1;32min\u001b[0m \u001b[0mdataY\u001b[0m\u001b[1;33m]\u001b[0m\u001b[1;33m\u001b[0m\u001b[0m\n\u001b[0;32m      5\u001b[0m \u001b[0mn_lemmas\u001b[0m \u001b[1;33m=\u001b[0m \u001b[0mlen\u001b[0m\u001b[1;33m(\u001b[0m\u001b[0mlemmas\u001b[0m\u001b[1;33m)\u001b[0m\u001b[1;33m\u001b[0m\u001b[0m\n",
      "\u001b[1;32m<ipython-input-141-a8f55ed22467>\u001b[0m in \u001b[0;36m<listcomp>\u001b[1;34m(.0)\u001b[0m\n\u001b[0;32m      1\u001b[0m \u001b[0mlemma2idx\u001b[0m \u001b[1;33m=\u001b[0m \u001b[1;33m{\u001b[0m\u001b[0mw\u001b[0m\u001b[1;33m:\u001b[0m \u001b[0mi\u001b[0m \u001b[1;32mfor\u001b[0m \u001b[0mi\u001b[0m\u001b[1;33m,\u001b[0m \u001b[0mw\u001b[0m \u001b[1;32min\u001b[0m \u001b[0menumerate\u001b[0m\u001b[1;33m(\u001b[0m\u001b[0mlemmas\u001b[0m\u001b[1;33m)\u001b[0m\u001b[1;33m}\u001b[0m \u001b[1;31m#Converting text to numbers\u001b[0m\u001b[1;33m\u001b[0m\u001b[0m\n\u001b[0;32m      2\u001b[0m \u001b[0mlab2idx\u001b[0m \u001b[1;33m=\u001b[0m \u001b[1;33m{\u001b[0m\u001b[0mt\u001b[0m\u001b[1;33m:\u001b[0m \u001b[0mi\u001b[0m \u001b[1;32mfor\u001b[0m \u001b[0mi\u001b[0m\u001b[1;33m,\u001b[0m \u001b[0mt\u001b[0m \u001b[1;32min\u001b[0m \u001b[0menumerate\u001b[0m\u001b[1;33m(\u001b[0m\u001b[0mlabels\u001b[0m\u001b[1;33m)\u001b[0m\u001b[1;33m}\u001b[0m\u001b[1;33m\u001b[0m\u001b[0m\n\u001b[1;32m----> 3\u001b[1;33m \u001b[0mdataX\u001b[0m \u001b[1;33m=\u001b[0m \u001b[1;33m[\u001b[0m\u001b[1;33m[\u001b[0m\u001b[0mlemma2idx\u001b[0m\u001b[1;33m[\u001b[0m\u001b[0mlemma\u001b[0m\u001b[1;33m]\u001b[0m \u001b[1;32mfor\u001b[0m \u001b[0mlemma\u001b[0m \u001b[1;32min\u001b[0m \u001b[0msentence\u001b[0m \u001b[1;33m]\u001b[0m \u001b[1;32mfor\u001b[0m \u001b[0msentence\u001b[0m \u001b[1;32min\u001b[0m \u001b[0mdataX\u001b[0m\u001b[1;33m]\u001b[0m\u001b[1;33m\u001b[0m\u001b[0m\n\u001b[0m\u001b[0;32m      4\u001b[0m \u001b[0mdataY\u001b[0m \u001b[1;33m=\u001b[0m \u001b[1;33m[\u001b[0m\u001b[1;33m[\u001b[0m\u001b[0mlab2idx\u001b[0m\u001b[1;33m[\u001b[0m\u001b[0mner\u001b[0m\u001b[1;33m]\u001b[0m \u001b[1;32mfor\u001b[0m \u001b[0mner\u001b[0m \u001b[1;32min\u001b[0m \u001b[0mner_tags\u001b[0m \u001b[1;33m]\u001b[0m \u001b[1;32mfor\u001b[0m \u001b[0mner_tags\u001b[0m \u001b[1;32min\u001b[0m \u001b[0mdataY\u001b[0m\u001b[1;33m]\u001b[0m\u001b[1;33m\u001b[0m\u001b[0m\n\u001b[0;32m      5\u001b[0m \u001b[0mn_lemmas\u001b[0m \u001b[1;33m=\u001b[0m \u001b[0mlen\u001b[0m\u001b[1;33m(\u001b[0m\u001b[0mlemmas\u001b[0m\u001b[1;33m)\u001b[0m\u001b[1;33m\u001b[0m\u001b[0m\n",
      "\u001b[1;31mKeyError\u001b[0m: 5072"
     ]
    }
   ],
   "source": [
    "lemma2idx = {w: i for i, w in enumerate(lemmas)} #Converting text to numbers\n",
    "lab2idx = {t: i for i, t in enumerate(labels)}\n",
    "dataX = [[lemma2idx[lemma] for lemma in sentence ] for sentence in dataX]\n",
    "dataY = [[lab2idx[ner] for ner in ner_tags ] for ner_tags in dataY]\n",
    "n_lemmas = len(lemmas)\n",
    "n_labels = len(labels)"
   ]
  },
  {
   "cell_type": "code",
   "execution_count": 18,
   "metadata": {},
   "outputs": [
    {
     "data": {
      "text/plain": [
       "6251"
      ]
     },
     "execution_count": 18,
     "metadata": {},
     "output_type": "execute_result"
    }
   ],
   "source": [
    "lemma2idx[\"0\"]"
   ]
  },
  {
   "cell_type": "code",
   "execution_count": 26,
   "metadata": {},
   "outputs": [
    {
     "data": {
      "text/plain": [
       "{'B-per': 0,\n",
       " 'I-eve': 1,\n",
       " 'B-geo': 2,\n",
       " 'I-org': 3,\n",
       " 'I-art': 4,\n",
       " 'I-per': 5,\n",
       " 'O': 6,\n",
       " 'I-nat': 7,\n",
       " 'B-eve': 8,\n",
       " 'I-tim': 9,\n",
       " 'B-gpe': 10,\n",
       " 'B-org': 11,\n",
       " 'B-nat': 12,\n",
       " 'B-art': 13,\n",
       " 'I-geo': 14,\n",
       " 'I-gpe': 15,\n",
       " 'B-tim': 16}"
      ]
     },
     "execution_count": 26,
     "metadata": {},
     "output_type": "execute_result"
    }
   ],
   "source": [
    "lab2idx"
   ]
  },
  {
   "cell_type": "code",
   "execution_count": 140,
   "metadata": {},
   "outputs": [
    {
     "data": {
      "text/plain": [
       "17"
      ]
     },
     "execution_count": 140,
     "metadata": {},
     "output_type": "execute_result"
    }
   ],
   "source": [
    "len(lab2idx)"
   ]
  },
  {
   "cell_type": "markdown",
   "metadata": {},
   "source": [
    "d) Realice el *padding* anteriormente mencionado, decida sobre qué le parece más conveniente al rellenar con un valor especial respecto al cómo funciona una red recurrente y cómo funciona su memoria **¿Al principio o al final de la sentencia?** Comente"
   ]
  },
  {
   "cell_type": "code",
   "execution_count": 10,
   "metadata": {},
   "outputs": [
    {
     "data": {
      "text/plain": [
       "array([[ 5072,  9016,  8755, ...,  6251,  6251,  6251],\n",
       "       [ 6679,  9016,  3602, ...,  6773,  4897,  2006],\n",
       "       [ 5361,  5929,  9551, ...,  6251,  6251,  6251],\n",
       "       ...,\n",
       "       [ 8206,  7642,  8965, ...,  6251,  6251,  6251],\n",
       "       [ 3091,  8899,  1299, ...,  6251,  6251,  6251],\n",
       "       [10452,  1060, 10468, ...,  6251,  6251,  6251]])"
      ]
     },
     "execution_count": 10,
     "metadata": {},
     "output_type": "execute_result"
    }
   ],
   "source": [
    "X = sequence.pad_sequences(dataX,maxlen=30,padding='post' or 'pre',value=lemma2idx[\"0\"]) \n",
    "X"
   ]
  },
  {
   "cell_type": "code",
   "execution_count": 61,
   "metadata": {},
   "outputs": [
    {
     "data": {
      "text/plain": [
       "array([[ 6,  6,  6, ...,  6,  6,  6],\n",
       "       [ 6,  6,  6, ...,  6,  6,  6],\n",
       "       [ 6,  6,  6, ...,  2, 14,  6],\n",
       "       ...,\n",
       "       [ 6,  6, 10, ...,  6,  6,  6],\n",
       "       [ 6,  6,  2, ...,  6,  6,  6],\n",
       "       [ 6,  6,  6, ...,  6,  6,  6]])"
      ]
     },
     "execution_count": 61,
     "metadata": {},
     "output_type": "execute_result"
    }
   ],
   "source": [
    "y = sequence.pad_sequences(dataY,maxlen=30,padding='post' or 'pre',value=lab2idx[\"O\"])\n",
    "y"
   ]
  },
  {
   "cell_type": "markdown",
   "metadata": {},
   "source": [
    "Debido al analisis que se hizo en el punto anterior vemos que la longitud promedio es de maximo 30 palabras por frases, por eso colocamos en el X el maximo de 30, ademas decidimos que vamos a llenar con 0 que codificado en el lemma es 6251 sobre los datos de entrada.\n",
    "Ahora para hacer el analisis sobre los datos de salida o nuestras etiquetas hacemos una visualizacion de los labels y sus valores, escogemos el \"O\"."
   ]
  },
  {
   "cell_type": "markdown",
   "metadata": {},
   "source": [
    "e) Para el poder entregar una clasificación sobre los distintos *tags* es necesario tranformarlos a *one hot vectors*, debido a que están codificados en números enteros, esto resultará en un arreglo tridimensional con la cantidad de ejemplos, la cantidad máxima de palabras y la cantidad de posibles *tags*. Luego de esto cree los conjuntos de entrenamiento y de prueba con el código a continuación **¿Cuáles son las dimensiones de entrada y salida de cada conjunto?** Comente"
   ]
  },
  {
   "cell_type": "code",
   "execution_count": 62,
   "metadata": {},
   "outputs": [],
   "source": [
    "y = np.asarray([to_categorical(i, num_classes=n_labels) for i in y])\n",
    "X_train, X_test, y_train, y_test = train_test_split(X, y, test_size=0.3,random_state=22)\n"
   ]
  },
  {
   "cell_type": "code",
   "execution_count": 132,
   "metadata": {},
   "outputs": [],
   "source": [
    "y_test_class=np.argmax(np.argmax(y_test,axis=2),axis=1)"
   ]
  },
  {
   "cell_type": "markdown",
   "metadata": {},
   "source": [
    "Comenzando el ejercicio como se comento en la primera parte, debido a las limitaciones del computador limitamos a solo 200.000 muestras para poder hacer el analisis entonces no nos cuesta demasiado tiempo la simulacion en este punto."
   ]
  },
  {
   "cell_type": "code",
   "execution_count": 63,
   "metadata": {},
   "outputs": [
    {
     "data": {
      "text/plain": [
       "(6411, 30)"
      ]
     },
     "execution_count": 63,
     "metadata": {},
     "output_type": "execute_result"
    }
   ],
   "source": [
    "X_train.shape"
   ]
  },
  {
   "cell_type": "code",
   "execution_count": 64,
   "metadata": {},
   "outputs": [
    {
     "data": {
      "text/plain": [
       "(2748, 30)"
      ]
     },
     "execution_count": 64,
     "metadata": {},
     "output_type": "execute_result"
    }
   ],
   "source": [
    "X_test.shape"
   ]
  },
  {
   "cell_type": "code",
   "execution_count": 65,
   "metadata": {},
   "outputs": [
    {
     "data": {
      "text/plain": [
       "(6411, 30, 17)"
      ]
     },
     "execution_count": 65,
     "metadata": {},
     "output_type": "execute_result"
    }
   ],
   "source": [
    "y_train.shape"
   ]
  },
  {
   "cell_type": "code",
   "execution_count": 66,
   "metadata": {},
   "outputs": [
    {
     "data": {
      "text/plain": [
       "(2748, 30, 17)"
      ]
     },
     "execution_count": 66,
     "metadata": {},
     "output_type": "execute_result"
    }
   ],
   "source": [
    "y_test.shape"
   ]
  },
  {
   "cell_type": "markdown",
   "metadata": {},
   "source": [
    "En este caso quedan los datos distribuidos en un 70% para entrenamiento y 30% para hacer el test de los modelos, se hace una eleccion aleatoria para evitar un poco el overfitting, en la entrada queda con una dimension de 30 que fue el maximo tamaño que se le dejo a las frases y en la  y una dimension del tag  y 17 numero de etiquetas"
   ]
  },
  {
   "cell_type": "code",
   "execution_count": 74,
   "metadata": {},
   "outputs": [
    {
     "data": {
      "text/plain": [
       "array([[ 2628,  7049,  9707, ...,  6251,  6251,  6251],\n",
       "       [ 4916,  9088, 10257, ...,  6251,  6251,  6251],\n",
       "       [ 3922, 10468,  2847, ...,  6251,  6251,  6251],\n",
       "       ...,\n",
       "       [ 2557,   526,  2205, ...,  6251,  6251,  6251],\n",
       "       [ 4547,   462,  3179, ...,  6251,  6251,  6251],\n",
       "       [ 1060,  6287,  7030, ...,  9016,   797,  4897]])"
      ]
     },
     "execution_count": 74,
     "metadata": {},
     "output_type": "execute_result"
    }
   ],
   "source": [
    "X_train"
   ]
  },
  {
   "cell_type": "code",
   "execution_count": 75,
   "metadata": {},
   "outputs": [
    {
     "data": {
      "text/plain": [
       "array([[[0., 0., 0., ..., 0., 0., 0.],\n",
       "        [0., 0., 0., ..., 0., 0., 0.],\n",
       "        [0., 0., 0., ..., 0., 0., 0.],\n",
       "        ...,\n",
       "        [0., 0., 0., ..., 0., 0., 0.],\n",
       "        [0., 0., 0., ..., 0., 0., 0.],\n",
       "        [0., 0., 0., ..., 0., 0., 0.]],\n",
       "\n",
       "       [[0., 0., 0., ..., 0., 0., 0.],\n",
       "        [0., 0., 0., ..., 0., 0., 0.],\n",
       "        [0., 0., 0., ..., 0., 0., 0.],\n",
       "        ...,\n",
       "        [0., 0., 0., ..., 0., 0., 0.],\n",
       "        [0., 0., 0., ..., 0., 0., 0.],\n",
       "        [0., 0., 0., ..., 0., 0., 0.]],\n",
       "\n",
       "       [[0., 0., 0., ..., 0., 0., 0.],\n",
       "        [0., 0., 0., ..., 0., 0., 0.],\n",
       "        [0., 0., 0., ..., 0., 0., 0.],\n",
       "        ...,\n",
       "        [0., 0., 0., ..., 0., 0., 0.],\n",
       "        [0., 0., 0., ..., 0., 0., 0.],\n",
       "        [0., 0., 0., ..., 0., 0., 0.]],\n",
       "\n",
       "       ...,\n",
       "\n",
       "       [[0., 0., 0., ..., 0., 0., 0.],\n",
       "        [0., 0., 0., ..., 0., 0., 0.],\n",
       "        [0., 0., 0., ..., 0., 0., 0.],\n",
       "        ...,\n",
       "        [0., 0., 0., ..., 0., 0., 0.],\n",
       "        [0., 0., 1., ..., 0., 0., 0.],\n",
       "        [0., 0., 0., ..., 0., 0., 0.]],\n",
       "\n",
       "       [[0., 0., 0., ..., 0., 0., 0.],\n",
       "        [0., 0., 0., ..., 0., 0., 0.],\n",
       "        [0., 0., 0., ..., 0., 0., 0.],\n",
       "        ...,\n",
       "        [0., 0., 0., ..., 0., 0., 0.],\n",
       "        [0., 0., 0., ..., 0., 0., 0.],\n",
       "        [0., 0., 0., ..., 0., 0., 0.]],\n",
       "\n",
       "       [[0., 0., 0., ..., 0., 0., 0.],\n",
       "        [0., 0., 0., ..., 0., 0., 0.],\n",
       "        [0., 0., 1., ..., 0., 0., 0.],\n",
       "        ...,\n",
       "        [0., 0., 0., ..., 0., 0., 0.],\n",
       "        [0., 0., 1., ..., 0., 0., 0.],\n",
       "        [0., 0., 0., ..., 0., 0., 0.]]], dtype=float32)"
      ]
     },
     "execution_count": 75,
     "metadata": {},
     "output_type": "execute_result"
    }
   ],
   "source": [
    "y_train"
   ]
  },
  {
   "cell_type": "markdown",
   "metadata": {},
   "source": [
    "f) Defina una red neuronal recurrente *many to many* con compuertas LSTM para aprender a *tagear* la entidad en el texto, entrene y evalúe su desempeño sobre ambos conjuntos. Esta red debe procesar la secuencia de *lemmas* rellenados (o sin rellenar) y entregar el *tag* a cada uno de los *lemmas*, por lo que la salida de la red no es un vector como anteriormente se ha trabajado, sino que tiene una dimensión extra la cual es debido a que en cada instante de tiempo se necesita entregar un *output*. Como los *lemmas* corresponden a datos esencialmente categóricos, o al menos discretos, es necesario generar una representación vectorial de ellas. La primera capa de la red a construir debe por lo tanto incluir una transformación entrenable desde el espacio de representación original (discreto) a ${\\rm I\\!R}^{d}$ , con $d$ la dimensionalidad del *embedding*. **Comente sobre los cambios que sufre un dato al ingresar a la red y la cantidad de parámetros de la red**."
   ]
  },
  {
   "cell_type": "code",
   "execution_count": 58,
   "metadata": {},
   "outputs": [
    {
     "data": {
      "text/plain": [
       "17"
      ]
     },
     "execution_count": 58,
     "metadata": {},
     "output_type": "execute_result"
    }
   ],
   "source": [
    "n_labels"
   ]
  },
  {
   "cell_type": "code",
   "execution_count": 136,
   "metadata": {},
   "outputs": [
    {
     "name": "stdout",
     "output_type": "stream",
     "text": [
      "_________________________________________________________________\n",
      "Layer (type)                 Output Shape              Param #   \n",
      "=================================================================\n",
      "embedding_48 (Embedding)     (None, 30, 32)            336288    \n",
      "_________________________________________________________________\n",
      "lstm_48 (LSTM)               (None, 30, 100)           53200     \n",
      "_________________________________________________________________\n",
      "dense_52 (Dense)             (None, 30, 17)            1717      \n",
      "=================================================================\n",
      "Total params: 391,205\n",
      "Trainable params: 391,205\n",
      "Non-trainable params: 0\n",
      "_________________________________________________________________\n",
      "Train on 6411 samples, validate on 2748 samples\n",
      "Epoch 1/20\n",
      "6411/6411 [==============================] - 18s 3ms/step - loss: 1.5580 - val_loss: 0.9237\n",
      "Epoch 2/20\n",
      "6411/6411 [==============================] - 10s 2ms/step - loss: 0.8603 - val_loss: 0.8169\n",
      "Epoch 3/20\n",
      "6411/6411 [==============================] - 10s 1ms/step - loss: 0.7945 - val_loss: 0.7774\n",
      "Epoch 4/20\n",
      "6411/6411 [==============================] - 10s 2ms/step - loss: 0.7642 - val_loss: 0.7576\n",
      "Epoch 5/20\n",
      "6411/6411 [==============================] - 10s 2ms/step - loss: 0.7469 - val_loss: 0.7469\n",
      "Epoch 6/20\n",
      "6411/6411 [==============================] - 10s 2ms/step - loss: 0.7359 - val_loss: 0.7400\n",
      "Epoch 7/20\n",
      "6411/6411 [==============================] - 10s 2ms/step - loss: 0.7260 - val_loss: 0.7342\n",
      "Epoch 8/20\n",
      "6411/6411 [==============================] - 10s 2ms/step - loss: 0.7123 - val_loss: 0.7234\n",
      "Epoch 9/20\n",
      "6411/6411 [==============================] - 10s 2ms/step - loss: 0.7009 - val_loss: 0.7181\n",
      "Epoch 10/20\n",
      "2688/6411 [===========>..................] - ETA: 5s - loss: 0.6919"
     ]
    },
    {
     "ename": "KeyboardInterrupt",
     "evalue": "",
     "output_type": "error",
     "traceback": [
      "\u001b[1;31m---------------------------------------------------------------------------\u001b[0m",
      "\u001b[1;31mKeyboardInterrupt\u001b[0m                         Traceback (most recent call last)",
      "\u001b[1;32m<ipython-input-136-e16f3ff25e9e>\u001b[0m in \u001b[0;36m<module>\u001b[1;34m\u001b[0m\n\u001b[0;32m      6\u001b[0m \u001b[0mmodel\u001b[0m\u001b[1;33m.\u001b[0m\u001b[0msummary\u001b[0m\u001b[1;33m(\u001b[0m\u001b[1;33m)\u001b[0m\u001b[1;33m\u001b[0m\u001b[0m\n\u001b[0;32m      7\u001b[0m \u001b[0mmodel\u001b[0m\u001b[1;33m.\u001b[0m\u001b[0mcompile\u001b[0m\u001b[1;33m(\u001b[0m\u001b[0mloss\u001b[0m\u001b[1;33m=\u001b[0m\u001b[1;34m'categorical_crossentropy'\u001b[0m\u001b[1;33m,\u001b[0m \u001b[0moptimizer\u001b[0m\u001b[1;33m=\u001b[0m\u001b[1;34m'adam'\u001b[0m\u001b[1;33m)\u001b[0m\u001b[1;33m\u001b[0m\u001b[0m\n\u001b[1;32m----> 8\u001b[1;33m \u001b[0mhistory\u001b[0m\u001b[1;33m=\u001b[0m\u001b[0mmodel\u001b[0m\u001b[1;33m.\u001b[0m\u001b[0mfit\u001b[0m\u001b[1;33m(\u001b[0m\u001b[0mX_train\u001b[0m\u001b[1;33m,\u001b[0m \u001b[0my_train\u001b[0m\u001b[1;33m,\u001b[0m \u001b[0mvalidation_data\u001b[0m\u001b[1;33m=\u001b[0m\u001b[1;33m(\u001b[0m\u001b[0mX_test\u001b[0m\u001b[1;33m,\u001b[0m \u001b[0my_test\u001b[0m\u001b[1;33m)\u001b[0m\u001b[1;33m,\u001b[0m \u001b[0mepochs\u001b[0m\u001b[1;33m=\u001b[0m\u001b[1;36m20\u001b[0m\u001b[1;33m,\u001b[0m \u001b[0mbatch_size\u001b[0m\u001b[1;33m=\u001b[0m\u001b[1;36m128\u001b[0m\u001b[1;33m)\u001b[0m\u001b[1;33m\u001b[0m\u001b[0m\n\u001b[0m",
      "\u001b[1;32m~\\AppData\\Local\\conda\\conda\\envs\\keras1\\lib\\site-packages\\keras\\engine\\training.py\u001b[0m in \u001b[0;36mfit\u001b[1;34m(self, x, y, batch_size, epochs, verbose, callbacks, validation_split, validation_data, shuffle, class_weight, sample_weight, initial_epoch, steps_per_epoch, validation_steps, **kwargs)\u001b[0m\n\u001b[0;32m   1037\u001b[0m                                         \u001b[0minitial_epoch\u001b[0m\u001b[1;33m=\u001b[0m\u001b[0minitial_epoch\u001b[0m\u001b[1;33m,\u001b[0m\u001b[1;33m\u001b[0m\u001b[0m\n\u001b[0;32m   1038\u001b[0m                                         \u001b[0msteps_per_epoch\u001b[0m\u001b[1;33m=\u001b[0m\u001b[0msteps_per_epoch\u001b[0m\u001b[1;33m,\u001b[0m\u001b[1;33m\u001b[0m\u001b[0m\n\u001b[1;32m-> 1039\u001b[1;33m                                         validation_steps=validation_steps)\n\u001b[0m\u001b[0;32m   1040\u001b[0m \u001b[1;33m\u001b[0m\u001b[0m\n\u001b[0;32m   1041\u001b[0m     def evaluate(self, x=None, y=None,\n",
      "\u001b[1;32m~\\AppData\\Local\\conda\\conda\\envs\\keras1\\lib\\site-packages\\keras\\engine\\training_arrays.py\u001b[0m in \u001b[0;36mfit_loop\u001b[1;34m(model, f, ins, out_labels, batch_size, epochs, verbose, callbacks, val_f, val_ins, shuffle, callback_metrics, initial_epoch, steps_per_epoch, validation_steps)\u001b[0m\n\u001b[0;32m    197\u001b[0m                     \u001b[0mins_batch\u001b[0m\u001b[1;33m[\u001b[0m\u001b[0mi\u001b[0m\u001b[1;33m]\u001b[0m \u001b[1;33m=\u001b[0m \u001b[0mins_batch\u001b[0m\u001b[1;33m[\u001b[0m\u001b[0mi\u001b[0m\u001b[1;33m]\u001b[0m\u001b[1;33m.\u001b[0m\u001b[0mtoarray\u001b[0m\u001b[1;33m(\u001b[0m\u001b[1;33m)\u001b[0m\u001b[1;33m\u001b[0m\u001b[0m\n\u001b[0;32m    198\u001b[0m \u001b[1;33m\u001b[0m\u001b[0m\n\u001b[1;32m--> 199\u001b[1;33m                 \u001b[0mouts\u001b[0m \u001b[1;33m=\u001b[0m \u001b[0mf\u001b[0m\u001b[1;33m(\u001b[0m\u001b[0mins_batch\u001b[0m\u001b[1;33m)\u001b[0m\u001b[1;33m\u001b[0m\u001b[0m\n\u001b[0m\u001b[0;32m    200\u001b[0m                 \u001b[0mouts\u001b[0m \u001b[1;33m=\u001b[0m \u001b[0mto_list\u001b[0m\u001b[1;33m(\u001b[0m\u001b[0mouts\u001b[0m\u001b[1;33m)\u001b[0m\u001b[1;33m\u001b[0m\u001b[0m\n\u001b[0;32m    201\u001b[0m                 \u001b[1;32mfor\u001b[0m \u001b[0ml\u001b[0m\u001b[1;33m,\u001b[0m \u001b[0mo\u001b[0m \u001b[1;32min\u001b[0m \u001b[0mzip\u001b[0m\u001b[1;33m(\u001b[0m\u001b[0mout_labels\u001b[0m\u001b[1;33m,\u001b[0m \u001b[0mouts\u001b[0m\u001b[1;33m)\u001b[0m\u001b[1;33m:\u001b[0m\u001b[1;33m\u001b[0m\u001b[0m\n",
      "\u001b[1;32m~\\AppData\\Local\\conda\\conda\\envs\\keras1\\lib\\site-packages\\keras\\backend\\tensorflow_backend.py\u001b[0m in \u001b[0;36m__call__\u001b[1;34m(self, inputs)\u001b[0m\n\u001b[0;32m   2713\u001b[0m                 \u001b[1;32mreturn\u001b[0m \u001b[0mself\u001b[0m\u001b[1;33m.\u001b[0m\u001b[0m_legacy_call\u001b[0m\u001b[1;33m(\u001b[0m\u001b[0minputs\u001b[0m\u001b[1;33m)\u001b[0m\u001b[1;33m\u001b[0m\u001b[0m\n\u001b[0;32m   2714\u001b[0m \u001b[1;33m\u001b[0m\u001b[0m\n\u001b[1;32m-> 2715\u001b[1;33m             \u001b[1;32mreturn\u001b[0m \u001b[0mself\u001b[0m\u001b[1;33m.\u001b[0m\u001b[0m_call\u001b[0m\u001b[1;33m(\u001b[0m\u001b[0minputs\u001b[0m\u001b[1;33m)\u001b[0m\u001b[1;33m\u001b[0m\u001b[0m\n\u001b[0m\u001b[0;32m   2716\u001b[0m         \u001b[1;32melse\u001b[0m\u001b[1;33m:\u001b[0m\u001b[1;33m\u001b[0m\u001b[0m\n\u001b[0;32m   2717\u001b[0m             \u001b[1;32mif\u001b[0m \u001b[0mpy_any\u001b[0m\u001b[1;33m(\u001b[0m\u001b[0mis_tensor\u001b[0m\u001b[1;33m(\u001b[0m\u001b[0mx\u001b[0m\u001b[1;33m)\u001b[0m \u001b[1;32mfor\u001b[0m \u001b[0mx\u001b[0m \u001b[1;32min\u001b[0m \u001b[0minputs\u001b[0m\u001b[1;33m)\u001b[0m\u001b[1;33m:\u001b[0m\u001b[1;33m\u001b[0m\u001b[0m\n",
      "\u001b[1;32m~\\AppData\\Local\\conda\\conda\\envs\\keras1\\lib\\site-packages\\keras\\backend\\tensorflow_backend.py\u001b[0m in \u001b[0;36m_call\u001b[1;34m(self, inputs)\u001b[0m\n\u001b[0;32m   2673\u001b[0m             \u001b[0mfetched\u001b[0m \u001b[1;33m=\u001b[0m \u001b[0mself\u001b[0m\u001b[1;33m.\u001b[0m\u001b[0m_callable_fn\u001b[0m\u001b[1;33m(\u001b[0m\u001b[1;33m*\u001b[0m\u001b[0marray_vals\u001b[0m\u001b[1;33m,\u001b[0m \u001b[0mrun_metadata\u001b[0m\u001b[1;33m=\u001b[0m\u001b[0mself\u001b[0m\u001b[1;33m.\u001b[0m\u001b[0mrun_metadata\u001b[0m\u001b[1;33m)\u001b[0m\u001b[1;33m\u001b[0m\u001b[0m\n\u001b[0;32m   2674\u001b[0m         \u001b[1;32melse\u001b[0m\u001b[1;33m:\u001b[0m\u001b[1;33m\u001b[0m\u001b[0m\n\u001b[1;32m-> 2675\u001b[1;33m             \u001b[0mfetched\u001b[0m \u001b[1;33m=\u001b[0m \u001b[0mself\u001b[0m\u001b[1;33m.\u001b[0m\u001b[0m_callable_fn\u001b[0m\u001b[1;33m(\u001b[0m\u001b[1;33m*\u001b[0m\u001b[0marray_vals\u001b[0m\u001b[1;33m)\u001b[0m\u001b[1;33m\u001b[0m\u001b[0m\n\u001b[0m\u001b[0;32m   2676\u001b[0m         \u001b[1;32mreturn\u001b[0m \u001b[0mfetched\u001b[0m\u001b[1;33m[\u001b[0m\u001b[1;33m:\u001b[0m\u001b[0mlen\u001b[0m\u001b[1;33m(\u001b[0m\u001b[0mself\u001b[0m\u001b[1;33m.\u001b[0m\u001b[0moutputs\u001b[0m\u001b[1;33m)\u001b[0m\u001b[1;33m]\u001b[0m\u001b[1;33m\u001b[0m\u001b[0m\n\u001b[0;32m   2677\u001b[0m \u001b[1;33m\u001b[0m\u001b[0m\n",
      "\u001b[1;32m~\\AppData\\Local\\conda\\conda\\envs\\keras1\\lib\\site-packages\\tensorflow\\python\\client\\session.py\u001b[0m in \u001b[0;36m__call__\u001b[1;34m(self, *args, **kwargs)\u001b[0m\n\u001b[0;32m   1380\u001b[0m           ret = tf_session.TF_SessionRunCallable(\n\u001b[0;32m   1381\u001b[0m               \u001b[0mself\u001b[0m\u001b[1;33m.\u001b[0m\u001b[0m_session\u001b[0m\u001b[1;33m.\u001b[0m\u001b[0m_session\u001b[0m\u001b[1;33m,\u001b[0m \u001b[0mself\u001b[0m\u001b[1;33m.\u001b[0m\u001b[0m_handle\u001b[0m\u001b[1;33m,\u001b[0m \u001b[0margs\u001b[0m\u001b[1;33m,\u001b[0m \u001b[0mstatus\u001b[0m\u001b[1;33m,\u001b[0m\u001b[1;33m\u001b[0m\u001b[0m\n\u001b[1;32m-> 1382\u001b[1;33m               run_metadata_ptr)\n\u001b[0m\u001b[0;32m   1383\u001b[0m         \u001b[1;32mif\u001b[0m \u001b[0mrun_metadata\u001b[0m\u001b[1;33m:\u001b[0m\u001b[1;33m\u001b[0m\u001b[0m\n\u001b[0;32m   1384\u001b[0m           \u001b[0mproto_data\u001b[0m \u001b[1;33m=\u001b[0m \u001b[0mtf_session\u001b[0m\u001b[1;33m.\u001b[0m\u001b[0mTF_GetBuffer\u001b[0m\u001b[1;33m(\u001b[0m\u001b[0mrun_metadata_ptr\u001b[0m\u001b[1;33m)\u001b[0m\u001b[1;33m\u001b[0m\u001b[0m\n",
      "\u001b[1;31mKeyboardInterrupt\u001b[0m: "
     ]
    }
   ],
   "source": [
    "embedding_vector = 32\n",
    "model = Sequential()\n",
    "model.add(Embedding(input_dim=n_lemmas+1, output_dim=embedding_vector, input_length=30))\n",
    "model.add(LSTM(units=100,return_sequences=True))\n",
    "model.add(Dense(n_labels, activation='softmax'))\n",
    "model.summary()\n",
    "model.compile(loss='categorical_crossentropy', optimizer='adam')\n",
    "history=model.fit(X_train, y_train, validation_data=(X_test, y_test), epochs=20, batch_size=128)"
   ]
  },
  {
   "cell_type": "code",
   "execution_count": 95,
   "metadata": {},
   "outputs": [
    {
     "data": {
      "text/plain": [
       "Text(0.5, 0, 'Epochs')"
      ]
     },
     "execution_count": 95,
     "metadata": {},
     "output_type": "execute_result"
    },
    {
     "data": {
      "image/png": "[encoded data removed]",
      "text/plain": [
       "<Figure size 864x576 with 1 Axes>"
      ]
     },
     "metadata": {
      "needs_background": "light"
     },
     "output_type": "display_data"
    }
   ],
   "source": [
    "plt.figure(1,figsize=(12,8))\n",
    "plt.plot(history.history['val_loss'])\n",
    "plt.plot(history.history['loss'])\n",
    "plt.legend(('Val_Loss', 'Loss' ))\n",
    "plt.title('LSTM Básica')\n",
    "plt.ylabel('Loss')\n",
    "plt.xlabel('Epochs')"
   ]
  },
  {
   "cell_type": "markdown",
   "metadata": {},
   "source": [
    "Para evaluar su modelo utilice una métrica adecauda para el desbalance presente entre las clases como identificó en el punto b)."
   ]
  },
  {
   "cell_type": "code",
   "execution_count": 137,
   "metadata": {},
   "outputs": [
    {
     "name": "stdout",
     "output_type": "stream",
     "text": [
      "2748/2748 [==============================] - 3s 1ms/step\n"
     ]
    }
   ],
   "source": [
    "y_pred1=model.predict_classes(X_test,verbose=1)"
   ]
  },
  {
   "cell_type": "code",
   "execution_count": 138,
   "metadata": {},
   "outputs": [],
   "source": [
    "y_pred=np.argmax(y_pred1,axis=1)"
   ]
  },
  {
   "cell_type": "code",
   "execution_count": 139,
   "metadata": {},
   "outputs": [
    {
     "data": {
      "text/plain": [
       "0.17976710334788937"
      ]
     },
     "execution_count": 139,
     "metadata": {},
     "output_type": "execute_result"
    }
   ],
   "source": [
    "f1_score(y_test_class, y_pred, average=\"micro\")"
   ]
  },
  {
   "cell_type": "markdown",
   "metadata": {},
   "source": [
    "g) Varı́e la dimensionalidad del embedding inicial y determine si **aumenta o disminuye el error de clasificación**. Comente."
   ]
  },
  {
   "cell_type": "code",
   "execution_count": 96,
   "metadata": {},
   "outputs": [
    {
     "name": "stdout",
     "output_type": "stream",
     "text": [
      "_________________________________________________________________\n",
      "Layer (type)                 Output Shape              Param #   \n",
      "=================================================================\n",
      "embedding_24 (Embedding)     (None, 30, 64)            672512    \n",
      "_________________________________________________________________\n",
      "lstm_24 (LSTM)               (None, 30, 100)           66000     \n",
      "_________________________________________________________________\n",
      "dense_22 (Dense)             (None, 30, 17)            1717      \n",
      "=================================================================\n",
      "Total params: 740,229\n",
      "Trainable params: 740,229\n",
      "Non-trainable params: 0\n",
      "_________________________________________________________________\n",
      "Train on 6411 samples, validate on 2748 samples\n",
      "Epoch 1/20\n",
      "6411/6411 [==============================] - 12s 2ms/step - loss: 1.5833 - val_loss: 0.8950\n",
      "Epoch 2/20\n",
      "6411/6411 [==============================] - 9s 1ms/step - loss: 0.8312 - val_loss: 0.7922\n",
      "Epoch 3/20\n",
      "6411/6411 [==============================] - 8s 1ms/step - loss: 0.7730 - val_loss: 0.7605\n",
      "Epoch 4/20\n",
      "6411/6411 [==============================] - 8s 1ms/step - loss: 0.7486 - val_loss: 0.7464\n",
      "Epoch 5/20\n",
      "6411/6411 [==============================] - 9s 1ms/step - loss: 0.7351 - val_loss: 0.7383\n",
      "Epoch 6/20\n",
      "6411/6411 [==============================] - 9s 1ms/step - loss: 0.7239 - val_loss: 0.7306\n",
      "Epoch 7/20\n",
      "6411/6411 [==============================] - 10s 2ms/step - loss: 0.7098 - val_loss: 0.7239\n",
      "Epoch 8/20\n",
      "6411/6411 [==============================] - 9s 1ms/step - loss: 0.6946 - val_loss: 0.7094\n",
      "Epoch 9/20\n",
      "6411/6411 [==============================] - 9s 1ms/step - loss: 0.6833 - val_loss: 0.7066\n",
      "Epoch 10/20\n",
      "6411/6411 [==============================] - 9s 1ms/step - loss: 0.6749 - val_loss: 0.7023\n",
      "Epoch 11/20\n",
      "6411/6411 [==============================] - 9s 1ms/step - loss: 0.6672 - val_loss: 0.7039\n",
      "Epoch 12/20\n",
      "6411/6411 [==============================] - 9s 1ms/step - loss: 0.6606 - val_loss: 0.7019\n",
      "Epoch 13/20\n",
      "6411/6411 [==============================] - 9s 1ms/step - loss: 0.6519 - val_loss: 0.7051\n",
      "Epoch 14/20\n",
      "6411/6411 [==============================] - 9s 1ms/step - loss: 0.6457 - val_loss: 0.7062\n",
      "Epoch 15/20\n",
      "6411/6411 [==============================] - 9s 1ms/step - loss: 0.6385 - val_loss: 0.7097\n",
      "Epoch 16/20\n",
      "6411/6411 [==============================] - 9s 1ms/step - loss: 0.6336 - val_loss: 0.7043\n",
      "Epoch 17/20\n",
      "6411/6411 [==============================] - 9s 1ms/step - loss: 0.6248 - val_loss: 0.7040\n",
      "Epoch 18/20\n",
      "6411/6411 [==============================] - 9s 1ms/step - loss: 0.6167 - val_loss: 0.7104\n",
      "Epoch 19/20\n",
      "6411/6411 [==============================] - 9s 1ms/step - loss: 0.6094 - val_loss: 0.7037\n",
      "Epoch 20/20\n",
      "6411/6411 [==============================] - 9s 1ms/step - loss: 0.6000 - val_loss: 0.7149\n"
     ]
    }
   ],
   "source": [
    "embedding_vector = 64\n",
    "model = Sequential()\n",
    "model.add(Embedding(input_dim=n_lemmas, output_dim=embedding_vector, input_length=30))\n",
    "model.add(LSTM(units=100,return_sequences=True))\n",
    "model.add(Dense(n_labels, activation='softmax'))\n",
    "model.summary()\n",
    "model.compile(loss='categorical_crossentropy', optimizer='adam')\n",
    "history1=model.fit(X_train, y_train, validation_data=(X_test, y_test), epochs=20, batch_size=128)"
   ]
  },
  {
   "cell_type": "code",
   "execution_count": 97,
   "metadata": {},
   "outputs": [
    {
     "data": {
      "text/plain": [
       "Text(0.5, 0, 'Epochs')"
      ]
     },
     "execution_count": 97,
     "metadata": {},
     "output_type": "execute_result"
    },
    {
     "data": {
      "image/png": "[encoded data removed]",
      "text/plain": [
       "<Figure size 864x576 with 1 Axes>"
      ]
     },
     "metadata": {
      "needs_background": "light"
     },
     "output_type": "display_data"
    }
   ],
   "source": [
    "plt.figure(1,figsize=(12,8))\n",
    "plt.plot(history1.history['val_loss'])\n",
    "plt.plot(history1.history['loss'])\n",
    "plt.legend(('Val_Loss', 'Loss' ))\n",
    "plt.title('LSTM con vector de 64')\n",
    "plt.ylabel('Loss')\n",
    "plt.xlabel('Epochs')"
   ]
  },
  {
   "cell_type": "code",
   "execution_count": 98,
   "metadata": {},
   "outputs": [
    {
     "name": "stdout",
     "output_type": "stream",
     "text": [
      "_________________________________________________________________\n",
      "Layer (type)                 Output Shape              Param #   \n",
      "=================================================================\n",
      "embedding_25 (Embedding)     (None, 30, 128)           1345024   \n",
      "_________________________________________________________________\n",
      "lstm_25 (LSTM)               (None, 30, 100)           91600     \n",
      "_________________________________________________________________\n",
      "dense_23 (Dense)             (None, 30, 17)            1717      \n",
      "=================================================================\n",
      "Total params: 1,438,341\n",
      "Trainable params: 1,438,341\n",
      "Non-trainable params: 0\n",
      "_________________________________________________________________\n",
      "Train on 6411 samples, validate on 2748 samples\n",
      "Epoch 1/20\n",
      "6411/6411 [==============================] - 14s 2ms/step - loss: 1.4726 - val_loss: 0.8482\n",
      "Epoch 2/20\n",
      "6411/6411 [==============================] - 10s 2ms/step - loss: 0.8042 - val_loss: 0.7737\n",
      "Epoch 3/20\n",
      "6411/6411 [==============================] - 10s 2ms/step - loss: 0.7577 - val_loss: 0.7496\n",
      "Epoch 4/20\n",
      "6411/6411 [==============================] - 11s 2ms/step - loss: 0.7387 - val_loss: 0.7402\n",
      "Epoch 5/20\n",
      "6411/6411 [==============================] - 10s 2ms/step - loss: 0.7276 - val_loss: 0.7340\n",
      "Epoch 6/20\n",
      "6411/6411 [==============================] - 10s 2ms/step - loss: 0.7176 - val_loss: 0.7279\n",
      "Epoch 7/20\n",
      "6411/6411 [==============================] - 10s 2ms/step - loss: 0.7020 - val_loss: 0.7138\n",
      "Epoch 8/20\n",
      "6411/6411 [==============================] - 10s 2ms/step - loss: 0.6861 - val_loss: 0.7100\n",
      "Epoch 9/20\n",
      "6411/6411 [==============================] - 10s 2ms/step - loss: 0.6731 - val_loss: 0.7013\n",
      "Epoch 10/20\n",
      "6411/6411 [==============================] - 10s 2ms/step - loss: 0.6624 - val_loss: 0.6980\n",
      "Epoch 11/20\n",
      "6411/6411 [==============================] - 10s 2ms/step - loss: 0.6521 - val_loss: 0.6979\n",
      "Epoch 12/20\n",
      "6411/6411 [==============================] - 10s 2ms/step - loss: 0.6399 - val_loss: 0.7007\n",
      "Epoch 13/20\n",
      "6411/6411 [==============================] - 10s 2ms/step - loss: 0.6276 - val_loss: 0.6922\n",
      "Epoch 14/20\n",
      "6411/6411 [==============================] - 10s 2ms/step - loss: 0.6147 - val_loss: 0.6949\n",
      "Epoch 15/20\n",
      "6411/6411 [==============================] - 10s 2ms/step - loss: 0.6046 - val_loss: 0.6939\n",
      "Epoch 16/20\n",
      "6411/6411 [==============================] - 10s 2ms/step - loss: 0.5917 - val_loss: 0.6976\n",
      "Epoch 17/20\n",
      "6411/6411 [==============================] - 10s 2ms/step - loss: 0.5811 - val_loss: 0.7057\n",
      "Epoch 18/20\n",
      "6411/6411 [==============================] - 11s 2ms/step - loss: 0.5705 - val_loss: 0.7075\n",
      "Epoch 19/20\n",
      "6411/6411 [==============================] - 11s 2ms/step - loss: 0.5622 - val_loss: 0.7134\n",
      "Epoch 20/20\n",
      "6411/6411 [==============================] - 11s 2ms/step - loss: 0.5532 - val_loss: 0.7276\n"
     ]
    }
   ],
   "source": [
    "embedding_vector = 128\n",
    "model = Sequential()\n",
    "model.add(Embedding(input_dim=n_lemmas, output_dim=embedding_vector, input_length=30))\n",
    "model.add(LSTM(units=100,return_sequences=True))\n",
    "model.add(Dense(n_labels, activation='softmax'))\n",
    "model.summary()\n",
    "model.compile(loss='categorical_crossentropy', optimizer='adam')\n",
    "history2=model.fit(X_train, y_train, validation_data=(X_test, y_test), epochs=20, batch_size=128)"
   ]
  },
  {
   "cell_type": "code",
   "execution_count": 99,
   "metadata": {},
   "outputs": [
    {
     "data": {
      "text/plain": [
       "Text(0.5, 0, 'Epochs')"
      ]
     },
     "execution_count": 99,
     "metadata": {},
     "output_type": "execute_result"
    },
    {
     "data": {
      "image/png": "[encoded data removed]",
      "text/plain": [
       "<Figure size 864x576 with 1 Axes>"
      ]
     },
     "metadata": {
      "needs_background": "light"
     },
     "output_type": "display_data"
    }
   ],
   "source": [
    "plt.figure(1,figsize=(12,8))\n",
    "plt.plot(history2.history['val_loss'])\n",
    "plt.plot(history2.history['loss'])\n",
    "plt.legend(('Val_Loss', 'Loss' ))\n",
    "plt.title('LSTM con vector 128')\n",
    "plt.ylabel('Loss')\n",
    "plt.xlabel('Epochs')"
   ]
  },
  {
   "cell_type": "code",
   "execution_count": 103,
   "metadata": {},
   "outputs": [
    {
     "name": "stdout",
     "output_type": "stream",
     "text": [
      "_________________________________________________________________\n",
      "Layer (type)                 Output Shape              Param #   \n",
      "=================================================================\n",
      "embedding_27 (Embedding)     (None, 30, 16)            168128    \n",
      "_________________________________________________________________\n",
      "lstm_27 (LSTM)               (None, 30, 100)           46800     \n",
      "_________________________________________________________________\n",
      "dense_25 (Dense)             (None, 30, 17)            1717      \n",
      "=================================================================\n",
      "Total params: 216,645\n",
      "Trainable params: 216,645\n",
      "Non-trainable params: 0\n",
      "_________________________________________________________________\n",
      "Train on 6411 samples, validate on 2748 samples\n",
      "Epoch 1/20\n",
      "6411/6411 [==============================] - 13s 2ms/step - loss: 1.6301 - val_loss: 0.9517\n",
      "Epoch 2/20\n",
      "6411/6411 [==============================] - 7s 1ms/step - loss: 0.8849 - val_loss: 0.8390\n",
      "Epoch 3/20\n",
      "6411/6411 [==============================] - 7s 1ms/step - loss: 0.8137 - val_loss: 0.7934\n",
      "Epoch 4/20\n",
      "6411/6411 [==============================] - 7s 1ms/step - loss: 0.7784 - val_loss: 0.7693\n",
      "Epoch 5/20\n",
      "6411/6411 [==============================] - 7s 1ms/step - loss: 0.7577 - val_loss: 0.7547\n",
      "Epoch 6/20\n",
      "6411/6411 [==============================] - 7s 1ms/step - loss: 0.7443 - val_loss: 0.7468\n",
      "Epoch 7/20\n",
      "6411/6411 [==============================] - 7s 1ms/step - loss: 0.7354 - val_loss: 0.7407\n",
      "Epoch 8/20\n",
      "6411/6411 [==============================] - 7s 1ms/step - loss: 0.7268 - val_loss: 0.7310\n",
      "Epoch 9/20\n",
      "6411/6411 [==============================] - 7s 1ms/step - loss: 0.7143 - val_loss: 0.7223\n",
      "Epoch 10/20\n",
      "6411/6411 [==============================] - 7s 1ms/step - loss: 0.7048 - val_loss: 0.7168\n",
      "Epoch 11/20\n",
      "6411/6411 [==============================] - 6s 1ms/step - loss: 0.6957 - val_loss: 0.7137\n",
      "Epoch 12/20\n",
      "6411/6411 [==============================] - 7s 1ms/step - loss: 0.6892 - val_loss: 0.7151\n",
      "Epoch 13/20\n",
      "6411/6411 [==============================] - 7s 1ms/step - loss: 0.6850 - val_loss: 0.7085\n",
      "Epoch 14/20\n",
      "6411/6411 [==============================] - 7s 1ms/step - loss: 0.6801 - val_loss: 0.7098\n",
      "Epoch 15/20\n",
      "6411/6411 [==============================] - 7s 1ms/step - loss: 0.6760 - val_loss: 0.7063\n",
      "Epoch 16/20\n",
      "6411/6411 [==============================] - 7s 1ms/step - loss: 0.6723 - val_loss: 0.7069\n",
      "Epoch 17/20\n",
      "6411/6411 [==============================] - 7s 1ms/step - loss: 0.6681 - val_loss: 0.7073\n",
      "Epoch 18/20\n",
      "6411/6411 [==============================] - 8s 1ms/step - loss: 0.6646 - val_loss: 0.7062\n",
      "Epoch 19/20\n",
      "6411/6411 [==============================] - 7s 1ms/step - loss: 0.6616 - val_loss: 0.7064\n",
      "Epoch 20/20\n",
      "6411/6411 [==============================] - 7s 1ms/step - loss: 0.6578 - val_loss: 0.7085\n"
     ]
    }
   ],
   "source": [
    "embedding_vector = 16\n",
    "model = Sequential()\n",
    "model.add(Embedding(input_dim=n_lemmas, output_dim=embedding_vector, input_length=30))\n",
    "model.add(LSTM(units=100,return_sequences=True))\n",
    "model.add(Dense(n_labels, activation='softmax'))\n",
    "model.summary()\n",
    "model.compile(loss='categorical_crossentropy', optimizer='adam')\n",
    "history3=model.fit(X_train, y_train, validation_data=(X_test, y_test), epochs=20, batch_size=128)"
   ]
  },
  {
   "cell_type": "code",
   "execution_count": 102,
   "metadata": {},
   "outputs": [
    {
     "data": {
      "text/plain": [
       "Text(0.5, 0, 'Epochs')"
      ]
     },
     "execution_count": 102,
     "metadata": {},
     "output_type": "execute_result"
    },
    {
     "data": {
      "image/png": "[encoded data removed]",
      "text/plain": [
       "<Figure size 864x576 with 1 Axes>"
      ]
     },
     "metadata": {
      "needs_background": "light"
     },
     "output_type": "display_data"
    }
   ],
   "source": [
    "plt.figure(1,figsize=(12,8))\n",
    "plt.plot(history3.history['val_loss'])\n",
    "plt.plot(history3.history['loss'])\n",
    "plt.legend(('Val_Loss', 'Loss' ))\n",
    "plt.title('LSTM vector de 16')\n",
    "plt.ylabel('Loss')\n",
    "plt.xlabel('Epochs')"
   ]
  },
  {
   "cell_type": "markdown",
   "metadata": {},
   "source": [
    "h) Use *Dropout* para entrenar la LSTM. **¿El *Dropout* mejora el desempeño de la red?** Señale cuáles podrı́an ser las causas del comportamiento observado."
   ]
  },
  {
   "cell_type": "code",
   "execution_count": 100,
   "metadata": {},
   "outputs": [
    {
     "name": "stdout",
     "output_type": "stream",
     "text": [
      "Train on 6411 samples, validate on 2748 samples\n",
      "Epoch 1/20\n",
      "6411/6411 [==============================] - 15s 2ms/step - loss: 1.4969 - val_loss: 0.8462\n",
      "Epoch 2/20\n",
      "6411/6411 [==============================] - 11s 2ms/step - loss: 0.8118 - val_loss: 0.7722\n",
      "Epoch 3/20\n",
      "6411/6411 [==============================] - 11s 2ms/step - loss: 0.7658 - val_loss: 0.7493\n",
      "Epoch 4/20\n",
      "6411/6411 [==============================] - 11s 2ms/step - loss: 0.7467 - val_loss: 0.7399\n",
      "Epoch 5/20\n",
      "6411/6411 [==============================] - 11s 2ms/step - loss: 0.7351 - val_loss: 0.7336\n",
      "Epoch 6/20\n",
      "6411/6411 [==============================] - 11s 2ms/step - loss: 0.7239 - val_loss: 0.7236\n",
      "Epoch 7/20\n",
      "6411/6411 [==============================] - 11s 2ms/step - loss: 0.7062 - val_loss: 0.7118\n",
      "Epoch 8/20\n",
      "6411/6411 [==============================] - 11s 2ms/step - loss: 0.6901 - val_loss: 0.7046\n",
      "Epoch 9/20\n",
      "6411/6411 [==============================] - 11s 2ms/step - loss: 0.6785 - val_loss: 0.7006\n",
      "Epoch 10/20\n",
      "6411/6411 [==============================] - 11s 2ms/step - loss: 0.6695 - val_loss: 0.6980\n",
      "Epoch 11/20\n",
      "6411/6411 [==============================] - 11s 2ms/step - loss: 0.6583 - val_loss: 0.6986\n",
      "Epoch 12/20\n",
      "6411/6411 [==============================] - 11s 2ms/step - loss: 0.6503 - val_loss: 0.6997\n",
      "Epoch 13/20\n",
      "6411/6411 [==============================] - 11s 2ms/step - loss: 0.6389 - val_loss: 0.6996\n",
      "Epoch 14/20\n",
      "6411/6411 [==============================] - 11s 2ms/step - loss: 0.6286 - val_loss: 0.6954\n",
      "Epoch 15/20\n",
      "6411/6411 [==============================] - 11s 2ms/step - loss: 0.6168 - val_loss: 0.7033\n",
      "Epoch 16/20\n",
      "6411/6411 [==============================] - 11s 2ms/step - loss: 0.6092 - val_loss: 0.6970\n",
      "Epoch 17/20\n",
      "6411/6411 [==============================] - 11s 2ms/step - loss: 0.5973 - val_loss: 0.6950\n",
      "Epoch 18/20\n",
      "6411/6411 [==============================] - 11s 2ms/step - loss: 0.5869 - val_loss: 0.7018\n",
      "Epoch 19/20\n",
      "6411/6411 [==============================] - 11s 2ms/step - loss: 0.5759 - val_loss: 0.7028A: 6s - l - \n",
      "Epoch 20/20\n",
      "6411/6411 [==============================] - 11s 2ms/step - loss: 0.5658 - val_loss: 0.7026\n"
     ]
    }
   ],
   "source": [
    "model = Sequential()\n",
    "model.add(Embedding(input_dim=n_lemmas, output_dim=embedding_vector, input_length=30))\n",
    "model.add(LSTM(units=100,return_sequences=True)) #or recurrent_dropout=0.2\n",
    "model.add(Dropout(0.2))\n",
    "model.add(Dense(n_labels, activation='softmax'))\n",
    "model.compile(loss='categorical_crossentropy', optimizer='adam')\n",
    "model.compile(loss='categorical_crossentropy', optimizer='adam')\n",
    "history4=model.fit(X_train, y_train, validation_data=(X_test, y_test), epochs=20, batch_size=128)"
   ]
  },
  {
   "cell_type": "code",
   "execution_count": 101,
   "metadata": {},
   "outputs": [
    {
     "data": {
      "text/plain": [
       "Text(0.5, 0, 'Epochs')"
      ]
     },
     "execution_count": 101,
     "metadata": {},
     "output_type": "execute_result"
    },
    {
     "data": {
      "image/png": "[encoded data removed]",
      "text/plain": [
       "<Figure size 864x576 with 1 Axes>"
      ]
     },
     "metadata": {
      "needs_background": "light"
     },
     "output_type": "display_data"
    }
   ],
   "source": [
    "plt.figure(1,figsize=(12,8))\n",
    "plt.plot(history4.history['val_loss'])\n",
    "plt.plot(history4.history['loss'])\n",
    "plt.legend(('Val_Loss', 'Loss' ))\n",
    "plt.title('LSTM con Dropout')\n",
    "plt.ylabel('Loss')\n",
    "plt.xlabel('Epochs')"
   ]
  },
  {
   "cell_type": "markdown",
   "metadata": {},
   "source": [
    "i) Algunos autores señalan la importante dependencia que existe en texto, no solo con las palabras anteriores, sino que con las que siguen.**Mejore la red definida en f) utilizando una red neuronal recurrente Bidireccional**, es decir, con recurrencia en ambas direcciones sobre la secuencia de *lemmas* de entrada. Comente **cuál debiera ser la forma correcta de usar el parámetro *merge_mode*** (concatenar, multiplicar, sumar o promediar) para este caso. Además comente las transformaciones que sufre el patrón de entrada al pasar por las capas. **¿Mejora o empeora el desempeño?** Analice."
   ]
  },
  {
   "cell_type": "code",
   "execution_count": 104,
   "metadata": {},
   "outputs": [
    {
     "name": "stdout",
     "output_type": "stream",
     "text": [
      "_________________________________________________________________\n",
      "Layer (type)                 Output Shape              Param #   \n",
      "=================================================================\n",
      "embedding_28 (Embedding)     (None, 30, 16)            168128    \n",
      "_________________________________________________________________\n",
      "bidirectional_5 (Bidirection (None, 30, 200)           93600     \n",
      "_________________________________________________________________\n",
      "dense_26 (Dense)             (None, 30, 17)            3417      \n",
      "=================================================================\n",
      "Total params: 265,145\n",
      "Trainable params: 265,145\n",
      "Non-trainable params: 0\n",
      "_________________________________________________________________\n",
      "Train on 6411 samples, validate on 2748 samples\n",
      "Epoch 1/20\n",
      "6411/6411 [==============================] - 16s 3ms/step - loss: 1.3800 - val_loss: 0.7590\n",
      "Epoch 2/20\n",
      "6411/6411 [==============================] - 12s 2ms/step - loss: 0.7387 - val_loss: 0.7224\n",
      "Epoch 3/20\n",
      "6411/6411 [==============================] - 12s 2ms/step - loss: 0.7200 - val_loss: 0.7163\n",
      "Epoch 4/20\n",
      "6411/6411 [==============================] - 12s 2ms/step - loss: 0.7121 - val_loss: 0.7123\n",
      "Epoch 5/20\n",
      "6411/6411 [==============================] - 12s 2ms/step - loss: 0.7052 - val_loss: 0.7096\n",
      "Epoch 6/20\n",
      "6411/6411 [==============================] - 12s 2ms/step - loss: 0.6991 - val_loss: 0.7069\n",
      "Epoch 7/20\n",
      "6411/6411 [==============================] - 12s 2ms/step - loss: 0.6933 - val_loss: 0.7031\n",
      "Epoch 8/20\n",
      "6411/6411 [==============================] - 12s 2ms/step - loss: 0.6876 - val_loss: 0.6992\n",
      "Epoch 9/20\n",
      "6411/6411 [==============================] - 12s 2ms/step - loss: 0.6823 - val_loss: 0.6990\n",
      "Epoch 10/20\n",
      "6411/6411 [==============================] - 12s 2ms/step - loss: 0.6766 - val_loss: 0.6976\n",
      "Epoch 11/20\n",
      "6411/6411 [==============================] - 12s 2ms/step - loss: 0.6734 - val_loss: 0.7033\n",
      "Epoch 12/20\n",
      "6411/6411 [==============================] - 12s 2ms/step - loss: 0.6684 - val_loss: 0.6980\n",
      "Epoch 13/20\n",
      "6411/6411 [==============================] - 12s 2ms/step - loss: 0.6641 - val_loss: 0.7018\n",
      "Epoch 14/20\n",
      "6411/6411 [==============================] - 12s 2ms/step - loss: 0.6604 - val_loss: 0.7006\n",
      "Epoch 15/20\n",
      "6411/6411 [==============================] - 12s 2ms/step - loss: 0.6566 - val_loss: 0.7198\n",
      "Epoch 16/20\n",
      "6411/6411 [==============================] - 12s 2ms/step - loss: 0.6538 - val_loss: 0.7091\n",
      "Epoch 17/20\n",
      "6411/6411 [==============================] - 12s 2ms/step - loss: 0.6485 - val_loss: 0.7080\n",
      "Epoch 18/20\n",
      "6411/6411 [==============================] - 12s 2ms/step - loss: 0.6428 - val_loss: 0.7131\n",
      "Epoch 19/20\n",
      "6411/6411 [==============================] - 12s 2ms/step - loss: 0.6362 - val_loss: 0.7286\n",
      "Epoch 20/20\n",
      "6411/6411 [==============================] - 12s 2ms/step - loss: 0.6323 - val_loss: 0.7093\n",
      "_________________________________________________________________\n",
      "Layer (type)                 Output Shape              Param #   \n",
      "=================================================================\n",
      "embedding_29 (Embedding)     (None, 30, 16)            168128    \n",
      "_________________________________________________________________\n",
      "bidirectional_6 (Bidirection (None, 30, 100)           93600     \n",
      "_________________________________________________________________\n",
      "dense_27 (Dense)             (None, 30, 17)            1717      \n",
      "=================================================================\n",
      "Total params: 263,445\n",
      "Trainable params: 263,445\n",
      "Non-trainable params: 0\n",
      "_________________________________________________________________\n",
      "Train on 6411 samples, validate on 2748 samples\n",
      "Epoch 1/20\n",
      "6411/6411 [==============================] - 17s 3ms/step - loss: 1.3231 - val_loss: 0.7525\n",
      "Epoch 2/20\n",
      "6411/6411 [==============================] - 12s 2ms/step - loss: 0.7339 - val_loss: 0.7225\n",
      "Epoch 3/20\n",
      "6411/6411 [==============================] - 12s 2ms/step - loss: 0.7177 - val_loss: 0.7155\n",
      "Epoch 4/20\n",
      "6411/6411 [==============================] - 12s 2ms/step - loss: 0.7094 - val_loss: 0.7111\n",
      "Epoch 5/20\n",
      "6411/6411 [==============================] - 12s 2ms/step - loss: 0.7028 - val_loss: 0.7094\n",
      "Epoch 6/20\n",
      "6411/6411 [==============================] - 12s 2ms/step - loss: 0.6966 - val_loss: 0.7042\n",
      "Epoch 7/20\n",
      "6411/6411 [==============================] - 12s 2ms/step - loss: 0.6902 - val_loss: 0.7019\n",
      "Epoch 8/20\n",
      "6411/6411 [==============================] - 12s 2ms/step - loss: 0.6850 - val_loss: 0.6979\n",
      "Epoch 9/20\n",
      "6411/6411 [==============================] - 12s 2ms/step - loss: 0.6804 - val_loss: 0.6959\n",
      "Epoch 10/20\n",
      "6411/6411 [==============================] - 12s 2ms/step - loss: 0.6757 - val_loss: 0.6978\n",
      "Epoch 11/20\n",
      "6411/6411 [==============================] - 12s 2ms/step - loss: 0.6722 - val_loss: 0.7025\n",
      "Epoch 12/20\n",
      "6411/6411 [==============================] - 12s 2ms/step - loss: 0.6688 - val_loss: 0.7019\n",
      "Epoch 13/20\n",
      "6411/6411 [==============================] - 12s 2ms/step - loss: 0.6658 - val_loss: 0.6997\n",
      "Epoch 14/20\n",
      "6411/6411 [==============================] - 12s 2ms/step - loss: 0.6604 - val_loss: 0.7045\n",
      "Epoch 15/20\n",
      "6411/6411 [==============================] - 12s 2ms/step - loss: 0.6563 - val_loss: 0.7349\n",
      "Epoch 16/20\n",
      "6411/6411 [==============================] - 12s 2ms/step - loss: 0.6534 - val_loss: 0.7027\n",
      "Epoch 17/20\n",
      "6411/6411 [==============================] - 12s 2ms/step - loss: 0.6445 - val_loss: 0.7047\n",
      "Epoch 18/20\n",
      "6411/6411 [==============================] - 12s 2ms/step - loss: 0.6368 - val_loss: 0.7057\n",
      "Epoch 19/20\n",
      "6411/6411 [==============================] - 12s 2ms/step - loss: 0.6271 - val_loss: 0.7273\n",
      "Epoch 20/20\n",
      "6411/6411 [==============================] - 12s 2ms/step - loss: 0.6187 - val_loss: 0.7044\n",
      "_________________________________________________________________\n",
      "Layer (type)                 Output Shape              Param #   \n",
      "=================================================================\n",
      "embedding_30 (Embedding)     (None, 30, 16)            168128    \n",
      "_________________________________________________________________\n",
      "bidirectional_7 (Bidirection (None, 30, 100)           93600     \n",
      "_________________________________________________________________\n",
      "dense_28 (Dense)             (None, 30, 17)            1717      \n",
      "=================================================================\n",
      "Total params: 263,445\n",
      "Trainable params: 263,445\n",
      "Non-trainable params: 0\n",
      "_________________________________________________________________\n",
      "Train on 6411 samples, validate on 2748 samples\n",
      "Epoch 1/20\n",
      "6411/6411 [==============================] - 20s 3ms/step - loss: 2.0597 - val_loss: 1.1285\n",
      "Epoch 2/20\n",
      "6411/6411 [==============================] - 12s 2ms/step - loss: 1.0064 - val_loss: 0.9294\n",
      "Epoch 3/20\n",
      "6411/6411 [==============================] - 12s 2ms/step - loss: 0.8902 - val_loss: 0.8575\n",
      "Epoch 4/20\n",
      "6411/6411 [==============================] - 12s 2ms/step - loss: 0.8330 - val_loss: 0.8137\n",
      "Epoch 5/20\n",
      "6411/6411 [==============================] - 12s 2ms/step - loss: 0.7949 - val_loss: 0.7858\n",
      "Epoch 6/20\n",
      "6411/6411 [==============================] - 12s 2ms/step - loss: 0.7700 - val_loss: 0.7671\n",
      "Epoch 7/20\n",
      "6411/6411 [==============================] - 12s 2ms/step - loss: 0.7513 - val_loss: 0.7533\n",
      "Epoch 8/20\n",
      "6411/6411 [==============================] - 12s 2ms/step - loss: 0.7363 - val_loss: 0.7432\n",
      "Epoch 9/20\n",
      "6411/6411 [==============================] - 12s 2ms/step - loss: 0.7256 - val_loss: 0.7367\n",
      "Epoch 10/20\n",
      "6411/6411 [==============================] - 12s 2ms/step - loss: 0.7180 - val_loss: 0.7296\n",
      "Epoch 11/20\n",
      "6411/6411 [==============================] - 12s 2ms/step - loss: 0.7101 - val_loss: 0.7270\n",
      "Epoch 12/20\n",
      "6411/6411 [==============================] - 12s 2ms/step - loss: 0.7040 - val_loss: 0.7198\n",
      "Epoch 13/20\n",
      "6411/6411 [==============================] - 12s 2ms/step - loss: 0.6965 - val_loss: 0.7149\n",
      "Epoch 14/20\n",
      "6411/6411 [==============================] - 12s 2ms/step - loss: 0.6891 - val_loss: 0.7104\n",
      "Epoch 15/20\n",
      "6411/6411 [==============================] - 12s 2ms/step - loss: 0.6817 - val_loss: 0.7081\n",
      "Epoch 16/20\n",
      "6411/6411 [==============================] - 13s 2ms/step - loss: 0.6766 - val_loss: 0.7051\n",
      "Epoch 17/20\n",
      "6411/6411 [==============================] - 12s 2ms/step - loss: 0.6712 - val_loss: 0.7010\n",
      "Epoch 18/20\n",
      "6411/6411 [==============================] - 12s 2ms/step - loss: 0.6669 - val_loss: 0.6989\n",
      "Epoch 19/20\n",
      "6411/6411 [==============================] - 12s 2ms/step - loss: 0.6638 - val_loss: 0.6987\n",
      "Epoch 20/20\n",
      "6411/6411 [==============================] - 12s 2ms/step - loss: 0.6607 - val_loss: 0.6976\n",
      "_________________________________________________________________\n",
      "Layer (type)                 Output Shape              Param #   \n",
      "=================================================================\n",
      "embedding_31 (Embedding)     (None, 30, 16)            168128    \n",
      "_________________________________________________________________\n",
      "bidirectional_8 (Bidirection (None, 30, 100)           93600     \n",
      "_________________________________________________________________\n",
      "dense_29 (Dense)             (None, 30, 17)            1717      \n",
      "=================================================================\n",
      "Total params: 263,445\n",
      "Trainable params: 263,445\n",
      "Non-trainable params: 0\n",
      "_________________________________________________________________\n",
      "Train on 6411 samples, validate on 2748 samples\n",
      "Epoch 1/20\n",
      "6411/6411 [==============================] - 18s 3ms/step - loss: 1.4542 - val_loss: 0.8204\n",
      "Epoch 2/20\n",
      "6411/6411 [==============================] - 13s 2ms/step - loss: 0.7857 - val_loss: 0.7593\n",
      "Epoch 3/20\n",
      "6411/6411 [==============================] - 13s 2ms/step - loss: 0.7362 - val_loss: 0.7205\n",
      "Epoch 4/20\n",
      "6411/6411 [==============================] - 12s 2ms/step - loss: 0.7164 - val_loss: 0.7143\n",
      "Epoch 5/20\n",
      "6411/6411 [==============================] - 12s 2ms/step - loss: 0.7073 - val_loss: 0.7078\n",
      "Epoch 6/20\n",
      "6411/6411 [==============================] - 13s 2ms/step - loss: 0.6991 - val_loss: 0.7045\n",
      "Epoch 7/20\n",
      "6411/6411 [==============================] - 12s 2ms/step - loss: 0.6918 - val_loss: 0.7064\n",
      "Epoch 8/20\n",
      "6411/6411 [==============================] - 12s 2ms/step - loss: 0.6888 - val_loss: 0.6983\n",
      "Epoch 9/20\n",
      "6411/6411 [==============================] - 12s 2ms/step - loss: 0.6826 - val_loss: 0.6960\n",
      "Epoch 10/20\n",
      "6411/6411 [==============================] - 12s 2ms/step - loss: 0.6781 - val_loss: 0.7046\n",
      "Epoch 11/20\n",
      "6411/6411 [==============================] - 12s 2ms/step - loss: 0.6774 - val_loss: 0.6972\n",
      "Epoch 12/20\n",
      "6411/6411 [==============================] - 12s 2ms/step - loss: 0.6713 - val_loss: 0.6974\n",
      "Epoch 13/20\n",
      "6411/6411 [==============================] - 13s 2ms/step - loss: 0.6672 - val_loss: 0.7043\n",
      "Epoch 14/20\n",
      "6411/6411 [==============================] - 12s 2ms/step - loss: 0.6639 - val_loss: 0.6941\n",
      "Epoch 15/20\n",
      "6411/6411 [==============================] - 12s 2ms/step - loss: 0.6593 - val_loss: 0.6952\n",
      "Epoch 16/20\n",
      "6411/6411 [==============================] - 12s 2ms/step - loss: 0.6537 - val_loss: 0.7102\n",
      "Epoch 17/20\n",
      "6411/6411 [==============================] - 12s 2ms/step - loss: 0.6520 - val_loss: 0.6995\n",
      "Epoch 18/20\n",
      "6411/6411 [==============================] - 12s 2ms/step - loss: 0.6445 - val_loss: 0.7010\n",
      "Epoch 19/20\n",
      "6411/6411 [==============================] - 12s 2ms/step - loss: 0.6381 - val_loss: 0.7119\n",
      "Epoch 20/20\n",
      "6411/6411 [==============================] - 12s 2ms/step - loss: 0.6322 - val_loss: 0.7006\n"
     ]
    }
   ],
   "source": [
    "model = Sequential()\n",
    "model.add(Embedding(input_dim=n_lemmas, output_dim=embedding_vector, input_length=30))\n",
    "layer_lstm = LSTM(units=100,return_sequences=True)\n",
    "model.add(Bidirectional(layer_lstm,merge_mode='concat'))\n",
    "model.add(Dense(n_labels, activation='softmax'))\n",
    "model.summary()\n",
    "model.compile(loss='categorical_crossentropy', optimizer='adam')\n",
    "model.compile(loss='categorical_crossentropy', optimizer='adam')\n",
    "history5=model.fit(X_train, y_train, validation_data=(X_test, y_test), epochs=20, batch_size=128)\n",
    "model = Sequential()\n",
    "model.add(Embedding(input_dim=n_lemmas, output_dim=embedding_vector, input_length=30))\n",
    "layer_lstm = LSTM(units=100,return_sequences=True)\n",
    "model.add(Bidirectional(layer_lstm,merge_mode='sum'))\n",
    "model.add(Dense(n_labels, activation='softmax'))\n",
    "model.summary()\n",
    "model.compile(loss='categorical_crossentropy', optimizer='adam')\n",
    "model.compile(loss='categorical_crossentropy', optimizer='adam')\n",
    "history6=model.fit(X_train, y_train, validation_data=(X_test, y_test), epochs=20, batch_size=128)\n",
    "model = Sequential()\n",
    "model.add(Embedding(input_dim=n_lemmas, output_dim=embedding_vector, input_length=30))\n",
    "layer_lstm = LSTM(units=100,return_sequences=True)\n",
    "model.add(Bidirectional(layer_lstm,merge_mode='mul'))\n",
    "model.add(Dense(n_labels, activation='softmax'))\n",
    "model.summary()\n",
    "model.compile(loss='categorical_crossentropy', optimizer='adam')\n",
    "model.compile(loss='categorical_crossentropy', optimizer='adam')\n",
    "history7=model.fit(X_train, y_train, validation_data=(X_test, y_test), epochs=20, batch_size=128)\n",
    "model = Sequential()\n",
    "model.add(Embedding(input_dim=n_lemmas, output_dim=embedding_vector, input_length=30))\n",
    "layer_lstm = LSTM(units=100,return_sequences=True)\n",
    "model.add(Bidirectional(layer_lstm,merge_mode='ave'))\n",
    "model.add(Dense(n_labels, activation='softmax'))\n",
    "model.summary()\n",
    "model.compile(loss='categorical_crossentropy', optimizer='adam')\n",
    "model.compile(loss='categorical_crossentropy', optimizer='adam')\n",
    "history8=model.fit(X_train, y_train, validation_data=(X_test, y_test), epochs=20, batch_size=128)"
   ]
  },
  {
   "cell_type": "code",
   "execution_count": 118,
   "metadata": {},
   "outputs": [
    {
     "data": {
      "text/plain": [
       "Text(0.5, 0, 'Epochs')"
      ]
     },
     "execution_count": 118,
     "metadata": {},
     "output_type": "execute_result"
    },
    {
     "data": {
      "image/png": "[encoded data removed]",
      "text/plain": [
       "<Figure size 864x576 with 1 Axes>"
      ]
     },
     "metadata": {
      "needs_background": "light"
     },
     "output_type": "display_data"
    }
   ],
   "source": [
    "plt.figure(1,figsize=(12,8))\n",
    "plt.plot(history5.history['val_loss'])\n",
    "plt.plot(history5.history['loss'])\n",
    "plt.plot(history6.history['val_loss'])\n",
    "plt.plot(history6.history['loss'])\n",
    "plt.plot(history7.history['val_loss'])\n",
    "plt.plot(history7.history['loss'])\n",
    "plt.plot(history8.history['val_loss'])\n",
    "plt.plot(history8.history['loss'])\n",
    "plt.legend(('Val_Loss-Concat', 'Loss-Concat','Val_Loss-Sum', 'Loss-Sum','Val_Loss-Mul', 'Loss-Mul','Val_Loss-Average', 'Loss-Average' ))\n",
    "plt.title('Comparación de Merge')\n",
    "plt.ylabel('Loss')\n",
    "plt.xlabel('Epochs')"
   ]
  },
  {
   "cell_type": "markdown",
   "metadata": {},
   "source": [
    "j) Recientemente se ha implementado la capa de *Masking* en las redes recurrentes en *keras*, lo cual podría traer gran ayuda gracias al *padding* que se realiza con el símbolo especial definido. **Entrene la red definida en f) y compare al utilizar esta funcionalidad de enmascarar el valor 0 en este caso para el *default* de la capa *embedding***, comente sobre las curvas de entrenamiento y los tiempos de entrenamiento."
   ]
  },
  {
   "cell_type": "code",
   "execution_count": 107,
   "metadata": {},
   "outputs": [
    {
     "name": "stdout",
     "output_type": "stream",
     "text": [
      "_________________________________________________________________\n",
      "Layer (type)                 Output Shape              Param #   \n",
      "=================================================================\n",
      "embedding_33 (Embedding)     (None, 30, 32)            336256    \n",
      "_________________________________________________________________\n",
      "lstm_33 (LSTM)               (None, 30, 100)           53200     \n",
      "_________________________________________________________________\n",
      "dense_31 (Dense)             (None, 30, 17)            1717      \n",
      "=================================================================\n",
      "Total params: 391,173\n",
      "Trainable params: 391,173\n",
      "Non-trainable params: 0\n",
      "_________________________________________________________________\n",
      "Train on 6411 samples, validate on 2748 samples\n",
      "Epoch 1/20\n",
      "6411/6411 [==============================] - 14s 2ms/step - loss: 1.5573 - val_loss: 0.9176\n",
      "Epoch 2/20\n",
      "6411/6411 [==============================] - 9s 1ms/step - loss: 0.8574 - val_loss: 0.8152\n",
      "Epoch 3/20\n",
      "6411/6411 [==============================] - 9s 1ms/step - loss: 0.7928 - val_loss: 0.7761\n",
      "Epoch 4/20\n",
      "6411/6411 [==============================] - 10s 2ms/step - loss: 0.7631 - val_loss: 0.7570\n",
      "Epoch 5/20\n",
      "6411/6411 [==============================] - 9s 1ms/step - loss: 0.7464 - val_loss: 0.7468\n",
      "Epoch 6/20\n",
      "6411/6411 [==============================] - 9s 1ms/step - loss: 0.7359 - val_loss: 0.7405\n",
      "Epoch 7/20\n",
      "6411/6411 [==============================] - 9s 1ms/step - loss: 0.7279 - val_loss: 0.7383\n",
      "Epoch 8/20\n",
      "6411/6411 [==============================] - 10s 2ms/step - loss: 0.7192 - val_loss: 0.7374\n",
      "Epoch 9/20\n",
      "6411/6411 [==============================] - 9s 1ms/step - loss: 0.7067 - val_loss: 0.7215\n",
      "Epoch 10/20\n",
      "6411/6411 [==============================] - 9s 1ms/step - loss: 0.6951 - val_loss: 0.7126\n",
      "Epoch 11/20\n",
      "6411/6411 [==============================] - 9s 1ms/step - loss: 0.6884 - val_loss: 0.7126\n",
      "Epoch 12/20\n",
      "6411/6411 [==============================] - 9s 1ms/step - loss: 0.6825 - val_loss: 0.7084\n",
      "Epoch 13/20\n",
      "6411/6411 [==============================] - 9s 1ms/step - loss: 0.6782 - val_loss: 0.7071\n",
      "Epoch 14/20\n",
      "6411/6411 [==============================] - 9s 1ms/step - loss: 0.6723 - val_loss: 0.7073\n",
      "Epoch 15/20\n",
      "6411/6411 [==============================] - 9s 1ms/step - loss: 0.6675 - val_loss: 0.7066\n",
      "Epoch 16/20\n",
      "6411/6411 [==============================] - 9s 1ms/step - loss: 0.6628 - val_loss: 0.7117\n",
      "Epoch 17/20\n",
      "6411/6411 [==============================] - 9s 1ms/step - loss: 0.6588 - val_loss: 0.7065\n",
      "Epoch 18/20\n",
      "6411/6411 [==============================] - 9s 1ms/step - loss: 0.6544 - val_loss: 0.7142\n",
      "Epoch 19/20\n",
      "6411/6411 [==============================] - 9s 1ms/step - loss: 0.6491 - val_loss: 0.7088\n",
      "Epoch 20/20\n",
      "6411/6411 [==============================] - 9s 1ms/step - loss: 0.6439 - val_loss: 0.7112\n"
     ]
    }
   ],
   "source": [
    "lemma2idx[\"yourspecialcharacter\"] = 0 #should be zero.. if not correct it\n",
    "embedding_vector = 32\n",
    "model = Sequential()\n",
    "model.add(Embedding(input_dim=n_lemmas, output_dim=embedding_vector, input_length=30,mask_zero=True))\n",
    "model.add(LSTM(units=100,return_sequences=True))\n",
    "model.add(Dense(n_labels, activation='softmax'))\n",
    "model.summary()\n",
    "model.compile(loss='categorical_crossentropy', optimizer='adam')\n",
    "history9=model.fit(X_train, y_train, validation_data=(X_test, y_test), epochs=20, batch_size=128)\n"
   ]
  },
  {
   "cell_type": "code",
   "execution_count": 108,
   "metadata": {},
   "outputs": [
    {
     "data": {
      "text/plain": [
       "Text(0.5, 0, 'Epochs')"
      ]
     },
     "execution_count": 108,
     "metadata": {},
     "output_type": "execute_result"
    },
    {
     "data": {
      "image/png": "[encoded data removed]",
      "text/plain": [
       "<Figure size 864x576 with 1 Axes>"
      ]
     },
     "metadata": {
      "needs_background": "light"
     },
     "output_type": "display_data"
    }
   ],
   "source": [
    "plt.figure(1,figsize=(12,8))\n",
    "plt.plot(history9.history['val_loss'])\n",
    "plt.plot(history9.history['loss'])\n",
    "plt.legend(('Val_Loss', 'Loss' ))\n",
    "plt.title('LSTM Padding Embedding')\n",
    "plt.ylabel('Loss')\n",
    "plt.xlabel('Epochs')"
   ]
  },
  {
   "cell_type": "markdown",
   "metadata": {},
   "source": [
    "k) En base a lo experimentado, **intente mejorar el desempeño de las redes encontradas**, ya sea utilizando y combinando las distintas variaciones que se hicieron en los distintos ítemes, como bien alguna mejora en el pre-proceso de los datos (largo de secuencia, el tipo de *padding* o alguna otra), agregar mayor profundidad, variar el número de unidades/neuronas, utilizando otra *gate* de recurrencia (GRU o Vanilla/Simple), en https://keras.io/layers/recurrent/,  entre otras."
   ]
  },
  {
   "cell_type": "markdown",
   "metadata": {},
   "source": [
    "Lo primero que vamos a hacer es determinar con que modelos queremos mejorar el rendimiento, para irlo comparando con lo obtenido anteriormente, vamos a partir evaluando los scores y la convergencia de la función de costo, con esos vamos a tomar los mejores 3 modelos y vamos a hacerles variaciones diferentes a cada uno, para al final poder determinar que variaciones tuvieron mas impacto y cual es nuestro modelo con mejor rendimiento encontrado, ademas como ya modificamos anteriormente vamos a dejar en 20 las epochs para cada prueba."
   ]
  },
  {
   "cell_type": "code",
   "execution_count": 110,
   "metadata": {},
   "outputs": [
    {
     "name": "stdout",
     "output_type": "stream",
     "text": [
      "_________________________________________________________________\n",
      "Layer (type)                 Output Shape              Param #   \n",
      "=================================================================\n",
      "embedding_35 (Embedding)     (None, 30, 128)           1345024   \n",
      "_________________________________________________________________\n",
      "lstm_35 (LSTM)               (None, 30, 300)           514800    \n",
      "_________________________________________________________________\n",
      "dense_33 (Dense)             (None, 30, 17)            5117      \n",
      "=================================================================\n",
      "Total params: 1,864,941\n",
      "Trainable params: 1,864,941\n",
      "Non-trainable params: 0\n",
      "_________________________________________________________________\n",
      "Train on 6411 samples, validate on 2748 samples\n",
      "Epoch 1/20\n",
      "6411/6411 [==============================] - 50s 8ms/step - loss: 1.2459 - val_loss: 0.8059\n",
      "Epoch 2/20\n",
      "6411/6411 [==============================] - 48s 8ms/step - loss: 0.7766 - val_loss: 0.7566\n",
      "Epoch 3/20\n",
      "6411/6411 [==============================] - 48s 8ms/step - loss: 0.7429 - val_loss: 0.7450\n",
      "Epoch 4/20\n",
      "6411/6411 [==============================] - 50s 8ms/step - loss: 0.7289 - val_loss: 0.7414\n",
      "Epoch 5/20\n",
      "6411/6411 [==============================] - 53s 8ms/step - loss: 0.7120 - val_loss: 0.7305\n",
      "Epoch 6/20\n",
      "6411/6411 [==============================] - 49s 8ms/step - loss: 0.6932 - val_loss: 0.7297\n",
      "Epoch 7/20\n",
      "6411/6411 [==============================] - 48s 7ms/step - loss: 0.6819 - val_loss: 0.7240\n",
      "Epoch 8/20\n",
      "6411/6411 [==============================] - 47s 7ms/step - loss: 0.6732 - val_loss: 0.7142\n",
      "Epoch 9/20\n",
      "6411/6411 [==============================] - 49s 8ms/step - loss: 0.6615 - val_loss: 0.7181\n",
      "Epoch 10/20\n",
      "6411/6411 [==============================] - 49s 8ms/step - loss: 0.6512 - val_loss: 0.7085\n",
      "Epoch 11/20\n",
      "6411/6411 [==============================] - 50s 8ms/step - loss: 0.6385 - val_loss: 0.7029\n",
      "Epoch 12/20\n",
      "6411/6411 [==============================] - 49s 8ms/step - loss: 0.6253 - val_loss: 0.6986\n",
      "Epoch 13/20\n",
      "6411/6411 [==============================] - 48s 7ms/step - loss: 0.6098 - val_loss: 0.7084\n",
      "Epoch 14/20\n",
      "6411/6411 [==============================] - 51s 8ms/step - loss: 0.5939 - val_loss: 0.7064\n",
      "Epoch 15/20\n",
      "6411/6411 [==============================] - 55s 9ms/step - loss: 0.5781 - val_loss: 0.7088\n",
      "Epoch 16/20\n",
      "6411/6411 [==============================] - 55s 9ms/step - loss: 0.5635 - val_loss: 0.7083\n",
      "Epoch 17/20\n",
      "6411/6411 [==============================] - 52s 8ms/step - loss: 0.5510 - val_loss: 0.7042\n",
      "Epoch 18/20\n",
      "6411/6411 [==============================] - 49s 8ms/step - loss: 0.5377 - val_loss: 0.7034\n",
      "Epoch 19/20\n",
      "6411/6411 [==============================] - 52s 8ms/step - loss: 0.5230 - val_loss: 0.7112\n",
      "Epoch 20/20\n",
      "6411/6411 [==============================] - 52s 8ms/step - loss: 0.5140 - val_loss: 0.7145\n",
      "_________________________________________________________________\n",
      "Layer (type)                 Output Shape              Param #   \n",
      "=================================================================\n",
      "embedding_36 (Embedding)     (None, 30, 128)           1345024   \n",
      "_________________________________________________________________\n",
      "lstm_36 (LSTM)               (None, 30, 500)           1258000   \n",
      "_________________________________________________________________\n",
      "dense_34 (Dense)             (None, 30, 17)            8517      \n",
      "=================================================================\n",
      "Total params: 2,611,541\n",
      "Trainable params: 2,611,541\n",
      "Non-trainable params: 0\n",
      "_________________________________________________________________\n",
      "Train on 6411 samples, validate on 2748 samples\n",
      "Epoch 1/20\n",
      "6411/6411 [==============================] - 95s 15ms/step - loss: 1.1632 - val_loss: 0.7950\n",
      "Epoch 2/20\n",
      "6411/6411 [==============================] - 83s 13ms/step - loss: 0.7701 - val_loss: 0.7523\n",
      "Epoch 3/20\n",
      "6411/6411 [==============================] - 84s 13ms/step - loss: 0.7420 - val_loss: 0.7478\n",
      "Epoch 4/20\n",
      "6411/6411 [==============================] - 84s 13ms/step - loss: 0.7252 - val_loss: 0.7546\n",
      "Epoch 5/20\n",
      "6411/6411 [==============================] - 82s 13ms/step - loss: 0.7033 - val_loss: 0.7350\n",
      "Epoch 6/20\n",
      "6411/6411 [==============================] - 84s 13ms/step - loss: 0.6849 - val_loss: 0.7379\n",
      "Epoch 7/20\n",
      "6411/6411 [==============================] - 76s 12ms/step - loss: 0.6729 - val_loss: 0.7255\n",
      "Epoch 8/20\n",
      "6411/6411 [==============================] - 84s 13ms/step - loss: 0.6608 - val_loss: 0.7484\n",
      "Epoch 9/20\n",
      "6411/6411 [==============================] - 88s 14ms/step - loss: 0.6523 - val_loss: 0.7288\n",
      "Epoch 10/20\n",
      "6411/6411 [==============================] - 79s 12ms/step - loss: 0.6408 - val_loss: 0.7217\n",
      "Epoch 11/20\n",
      "6411/6411 [==============================] - 84s 13ms/step - loss: 0.6273 - val_loss: 0.7388\n",
      "Epoch 12/20\n",
      "6411/6411 [==============================] - 79s 12ms/step - loss: 0.6147 - val_loss: 0.7581\n",
      "Epoch 13/20\n",
      "6411/6411 [==============================] - 79s 12ms/step - loss: 0.5998 - val_loss: 0.7382\n",
      "Epoch 14/20\n",
      "6411/6411 [==============================] - 83s 13ms/step - loss: 0.5812 - val_loss: 0.7645\n",
      "Epoch 15/20\n",
      "6411/6411 [==============================] - 77s 12ms/step - loss: 0.5702 - val_loss: 0.7506\n",
      "Epoch 16/20\n",
      "6411/6411 [==============================] - 77s 12ms/step - loss: 0.5501 - val_loss: 0.7468\n",
      "Epoch 17/20\n",
      "6411/6411 [==============================] - 79s 12ms/step - loss: 0.5378 - val_loss: 0.7496\n",
      "Epoch 18/20\n",
      "6411/6411 [==============================] - 75s 12ms/step - loss: 0.5274 - val_loss: 0.7639\n",
      "Epoch 19/20\n",
      "6411/6411 [==============================] - 76s 12ms/step - loss: 0.5179 - val_loss: 0.7771\n",
      "Epoch 20/20\n",
      "6411/6411 [==============================] - 75s 12ms/step - loss: 0.5062 - val_loss: 0.7765\n",
      "_________________________________________________________________\n",
      "Layer (type)                 Output Shape              Param #   \n",
      "=================================================================\n",
      "embedding_37 (Embedding)     (None, 30, 128)           1345024   \n",
      "_________________________________________________________________\n",
      "lstm_37 (LSTM)               (None, 30, 50)            35800     \n",
      "_________________________________________________________________\n",
      "dense_35 (Dense)             (None, 30, 17)            867       \n",
      "=================================================================\n",
      "Total params: 1,381,691\n",
      "Trainable params: 1,381,691\n",
      "Non-trainable params: 0\n",
      "_________________________________________________________________\n",
      "Train on 6411 samples, validate on 2748 samples\n",
      "Epoch 1/20\n",
      "6411/6411 [==============================] - 14s 2ms/step - loss: 1.6420 - val_loss: 0.8761\n",
      "Epoch 2/20\n",
      "6411/6411 [==============================] - 10s 2ms/step - loss: 0.8202 - val_loss: 0.7837\n",
      "Epoch 3/20\n",
      "6411/6411 [==============================] - 10s 1ms/step - loss: 0.7651 - val_loss: 0.7549\n",
      "Epoch 4/20\n",
      "6411/6411 [==============================] - 9s 1ms/step - loss: 0.7429 - val_loss: 0.7423\n",
      "Epoch 5/20\n",
      "6411/6411 [==============================] - 9s 1ms/step - loss: 0.7301 - val_loss: 0.7349\n",
      "Epoch 6/20\n",
      "6411/6411 [==============================] - 9s 1ms/step - loss: 0.7165 - val_loss: 0.7211\n",
      "Epoch 7/20\n",
      "6411/6411 [==============================] - 9s 1ms/step - loss: 0.6982 - val_loss: 0.7104\n",
      "Epoch 8/20\n",
      "6411/6411 [==============================] - 9s 1ms/step - loss: 0.6840 - val_loss: 0.7044\n",
      "Epoch 9/20\n",
      "6411/6411 [==============================] - 9s 1ms/step - loss: 0.6734 - val_loss: 0.7028\n",
      "Epoch 10/20\n",
      "6411/6411 [==============================] - 9s 1ms/step - loss: 0.6647 - val_loss: 0.7014\n",
      "Epoch 11/20\n",
      "6411/6411 [==============================] - 9s 1ms/step - loss: 0.6578 - val_loss: 0.7051\n",
      "Epoch 12/20\n",
      "6411/6411 [==============================] - 9s 1ms/step - loss: 0.6499 - val_loss: 0.7033\n",
      "Epoch 13/20\n",
      "6411/6411 [==============================] - 9s 1ms/step - loss: 0.6434 - val_loss: 0.7037\n",
      "Epoch 14/20\n",
      "6411/6411 [==============================] - 9s 1ms/step - loss: 0.6338 - val_loss: 0.6998\n",
      "Epoch 15/20\n",
      "6411/6411 [==============================] - 9s 1ms/step - loss: 0.6236 - val_loss: 0.7012\n",
      "Epoch 16/20\n",
      "6411/6411 [==============================] - 9s 1ms/step - loss: 0.6145 - val_loss: 0.7034\n",
      "Epoch 17/20\n",
      "6411/6411 [==============================] - 9s 1ms/step - loss: 0.6040 - val_loss: 0.7032\n",
      "Epoch 18/20\n",
      "6411/6411 [==============================] - 9s 1ms/step - loss: 0.5946 - val_loss: 0.7050\n",
      "Epoch 19/20\n",
      "6411/6411 [==============================] - 9s 1ms/step - loss: 0.5858 - val_loss: 0.7099\n",
      "Epoch 20/20\n",
      "6411/6411 [==============================] - 9s 1ms/step - loss: 0.5771 - val_loss: 0.7139\n"
     ]
    }
   ],
   "source": [
    "##Modelo 1 para optimizar con Embedding de 128\n",
    "##Aumentando neuronas \n",
    "embedding_vector = 128\n",
    "model = Sequential()\n",
    "model.add(Embedding(input_dim=n_lemmas, output_dim=embedding_vector, input_length=30))\n",
    "model.add(LSTM(units=300,return_sequences=True))\n",
    "model.add(Dense(n_labels, activation='softmax'))\n",
    "model.summary()\n",
    "model.compile(loss='categorical_crossentropy', optimizer='adam')\n",
    "history101=model.fit(X_train, y_train, validation_data=(X_test, y_test), epochs=20, batch_size=128)\n",
    "##Aumentando neuronas\n",
    "embedding_vector = 128\n",
    "model = Sequential()\n",
    "model.add(Embedding(input_dim=n_lemmas, output_dim=embedding_vector, input_length=30))\n",
    "model.add(LSTM(units=500,return_sequences=True))\n",
    "model.add(Dense(n_labels, activation='softmax'))\n",
    "model.summary()\n",
    "model.compile(loss='categorical_crossentropy', optimizer='adam')\n",
    "history102=model.fit(X_train, y_train, validation_data=(X_test, y_test), epochs=20, batch_size=128)\n",
    "##Disminuimos neuronas\n",
    "embedding_vector = 128\n",
    "model = Sequential()\n",
    "model.add(Embedding(input_dim=n_lemmas, output_dim=embedding_vector, input_length=30))\n",
    "model.add(LSTM(units=50,return_sequences=True))\n",
    "model.add(Dense(n_labels, activation='softmax'))\n",
    "model.summary()\n",
    "model.compile(loss='categorical_crossentropy', optimizer='adam')\n",
    "history103=model.fit(X_train, y_train, validation_data=(X_test, y_test), epochs=20, batch_size=128)"
   ]
  },
  {
   "cell_type": "markdown",
   "metadata": {},
   "source": [
    "En el modelo 1 vamos modificar el numero de neuronas en ambas direcciones ya que nosotros para obtenerlo utilizamos mayor numero de embedding. Para los tres modelos vamos a hacer 3 variaciones."
   ]
  },
  {
   "cell_type": "code",
   "execution_count": 111,
   "metadata": {},
   "outputs": [
    {
     "data": {
      "text/plain": [
       "Text(0.5, 0, 'Epochs')"
      ]
     },
     "execution_count": 111,
     "metadata": {},
     "output_type": "execute_result"
    },
    {
     "data": {
      "image/png": "[encoded data removed]",
      "text/plain": [
       "<Figure size 864x576 with 1 Axes>"
      ]
     },
     "metadata": {
      "needs_background": "light"
     },
     "output_type": "display_data"
    }
   ],
   "source": [
    "plt.figure(1,figsize=(12,8))\n",
    "plt.plot(history101.history['val_loss'])\n",
    "plt.plot(history101.history['loss'])\n",
    "plt.plot(history102.history['val_loss'])\n",
    "plt.plot(history102.history['loss'])\n",
    "plt.plot(history103.history['val_loss'])\n",
    "plt.plot(history103.history['loss'])\n",
    "plt.legend(('Val_Loss-1', 'Loss-1','Val_Loss-2', 'Loss-2','Val_Loss-3', 'Loss-3' ))\n",
    "plt.title('Modelo 1')\n",
    "plt.ylabel('Loss')\n",
    "plt.xlabel('Epochs')"
   ]
  },
  {
   "cell_type": "markdown",
   "metadata": {},
   "source": [
    "Este modelo esta muy facil de analizar, aunque es pequeña pero vemos que al aumentar el numero de neuronas vamos mejorando en el resultado y la diferencia se nota mas con el modelo en el que disminuimos el numero de unidades, esto se debe que al tener mayor numero de unidades libres para entrenar podemos tener mejor representaciones de la información,"
   ]
  },
  {
   "cell_type": "markdown",
   "metadata": {},
   "source": [
    "Para este modelo vamos a hacer dos variaciones en conjunta, la primera es que vamos a aumentar el numero de embeding en la entrada, y vamos a hacer una variacion en el dropout aumentandolo hasta 50 que es el limite teorico, esto para poder comprobar si efectivamente el 20% es el valor adecuado para nuestro caso."
   ]
  },
  {
   "cell_type": "code",
   "execution_count": 112,
   "metadata": {},
   "outputs": [
    {
     "name": "stdout",
     "output_type": "stream",
     "text": [
      "Train on 6411 samples, validate on 2748 samples\n",
      "Epoch 1/20\n",
      "6411/6411 [==============================] - 22s 3ms/step - loss: 1.4966 - val_loss: 0.8514\n",
      "Epoch 2/20\n",
      "6411/6411 [==============================] - 17s 3ms/step - loss: 0.8183 - val_loss: 0.7729\n",
      "Epoch 3/20\n",
      "6411/6411 [==============================] - 17s 3ms/step - loss: 0.7693 - val_loss: 0.7494\n",
      "Epoch 4/20\n",
      "6411/6411 [==============================] - 17s 3ms/step - loss: 0.7486 - val_loss: 0.7389\n",
      "Epoch 5/20\n",
      "6411/6411 [==============================] - 17s 3ms/step - loss: 0.7342 - val_loss: 0.7286\n",
      "Epoch 6/20\n",
      "6411/6411 [==============================] - 17s 3ms/step - loss: 0.7161 - val_loss: 0.7159\n",
      "Epoch 7/20\n",
      "6411/6411 [==============================] - 17s 3ms/step - loss: 0.6998 - val_loss: 0.7074\n",
      "Epoch 8/20\n",
      "6411/6411 [==============================] - 17s 3ms/step - loss: 0.6870 - val_loss: 0.7044\n",
      "Epoch 9/20\n",
      "6411/6411 [==============================] - 17s 3ms/step - loss: 0.6763 - val_loss: 0.7058\n",
      "Epoch 10/20\n",
      "6411/6411 [==============================] - 17s 3ms/step - loss: 0.6678 - val_loss: 0.7025\n",
      "Epoch 11/20\n",
      "6411/6411 [==============================] - 17s 3ms/step - loss: 0.6595 - val_loss: 0.7025\n",
      "Epoch 12/20\n",
      "6411/6411 [==============================] - 17s 3ms/step - loss: 0.6501 - val_loss: 0.7135\n",
      "Epoch 13/20\n",
      "6411/6411 [==============================] - 17s 3ms/step - loss: 0.6424 - val_loss: 0.7068\n",
      "Epoch 14/20\n",
      "6411/6411 [==============================] - 18s 3ms/step - loss: 0.6310 - val_loss: 0.7006\n",
      "Epoch 15/20\n",
      "6411/6411 [==============================] - 18s 3ms/step - loss: 0.6208 - val_loss: 0.7017\n",
      "Epoch 16/20\n",
      "6411/6411 [==============================] - 17s 3ms/step - loss: 0.6099 - val_loss: 0.7097\n",
      "Epoch 17/20\n",
      "6411/6411 [==============================] - 17s 3ms/step - loss: 0.6007 - val_loss: 0.7106\n",
      "Epoch 18/20\n",
      "6411/6411 [==============================] - 18s 3ms/step - loss: 0.5917 - val_loss: 0.7157\n",
      "Epoch 19/20\n",
      "6411/6411 [==============================] - 17s 3ms/step - loss: 0.5838 - val_loss: 0.7202\n",
      "Epoch 20/20\n",
      "6411/6411 [==============================] - 18s 3ms/step - loss: 0.5733 - val_loss: 0.7182\n",
      "Train on 6411 samples, validate on 2748 samples\n",
      "Epoch 1/20\n",
      "6411/6411 [==============================] - 23s 4ms/step - loss: 1.4668 - val_loss: 0.8482\n",
      "Epoch 2/20\n",
      "6411/6411 [==============================] - 17s 3ms/step - loss: 0.8271 - val_loss: 0.7744\n",
      "Epoch 3/20\n",
      "6411/6411 [==============================] - 18s 3ms/step - loss: 0.7788 - val_loss: 0.7503\n",
      "Epoch 4/20\n",
      "6411/6411 [==============================] - 18s 3ms/step - loss: 0.7549 - val_loss: 0.7404\n",
      "Epoch 5/20\n",
      "6411/6411 [==============================] - 18s 3ms/step - loss: 0.7415 - val_loss: 0.7343\n",
      "Epoch 6/20\n",
      "6411/6411 [==============================] - 18s 3ms/step - loss: 0.7251 - val_loss: 0.7178\n",
      "Epoch 7/20\n",
      "6411/6411 [==============================] - 17s 3ms/step - loss: 0.7072 - val_loss: 0.7092\n",
      "Epoch 8/20\n",
      "6411/6411 [==============================] - 16s 3ms/step - loss: 0.6943 - val_loss: 0.7053\n",
      "Epoch 9/20\n",
      "6411/6411 [==============================] - 16s 3ms/step - loss: 0.6830 - val_loss: 0.7057\n",
      "Epoch 10/20\n",
      "6411/6411 [==============================] - 16s 3ms/step - loss: 0.6734 - val_loss: 0.7062\n",
      "Epoch 11/20\n",
      "6411/6411 [==============================] - 16s 3ms/step - loss: 0.6660 - val_loss: 0.7028\n",
      "Epoch 12/20\n",
      "6411/6411 [==============================] - 17s 3ms/step - loss: 0.6560 - val_loss: 0.7121\n",
      "Epoch 13/20\n",
      "6411/6411 [==============================] - 19s 3ms/step - loss: 0.6485 - val_loss: 0.7092\n",
      "Epoch 14/20\n",
      "6411/6411 [==============================] - 18s 3ms/step - loss: 0.6403 - val_loss: 0.7107\n",
      "Epoch 15/20\n",
      "6411/6411 [==============================] - 18s 3ms/step - loss: 0.6305 - val_loss: 0.7100\n",
      "Epoch 16/20\n",
      "6411/6411 [==============================] - 18s 3ms/step - loss: 0.6225 - val_loss: 0.7139\n",
      "Epoch 17/20\n",
      "6411/6411 [==============================] - 18s 3ms/step - loss: 0.6127 - val_loss: 0.7142\n",
      "Epoch 18/20\n",
      "6411/6411 [==============================] - 19s 3ms/step - loss: 0.6034 - val_loss: 0.7221\n",
      "Epoch 19/20\n",
      "6411/6411 [==============================] - 20s 3ms/step - loss: 0.5949 - val_loss: 0.7335\n",
      "Epoch 20/20\n",
      "6411/6411 [==============================] - 20s 3ms/step - loss: 0.5882 - val_loss: 0.7279\n",
      "Train on 6411 samples, validate on 2748 samples\n",
      "Epoch 1/20\n",
      "6411/6411 [==============================] - 28s 4ms/step - loss: 1.5169 - val_loss: 0.8515\n",
      "Epoch 2/20\n",
      "6411/6411 [==============================] - 20s 3ms/step - loss: 0.8342 - val_loss: 0.7746\n",
      "Epoch 3/20\n",
      "6411/6411 [==============================] - 18s 3ms/step - loss: 0.7830 - val_loss: 0.7505\n",
      "Epoch 4/20\n",
      "6411/6411 [==============================] - 19s 3ms/step - loss: 0.7597 - val_loss: 0.7399\n",
      "Epoch 5/20\n",
      "6411/6411 [==============================] - 19s 3ms/step - loss: 0.7461 - val_loss: 0.7338\n",
      "Epoch 6/20\n",
      "6411/6411 [==============================] - 17s 3ms/step - loss: 0.7359 - val_loss: 0.7291\n",
      "Epoch 7/20\n",
      "6411/6411 [==============================] - 17s 3ms/step - loss: 0.7248 - val_loss: 0.7208\n",
      "Epoch 8/20\n",
      "6411/6411 [==============================] - 18s 3ms/step - loss: 0.7112 - val_loss: 0.7123\n",
      "Epoch 9/20\n",
      "6411/6411 [==============================] - 19s 3ms/step - loss: 0.6975 - val_loss: 0.7065\n",
      "Epoch 10/20\n",
      "6411/6411 [==============================] - 19s 3ms/step - loss: 0.6880 - val_loss: 0.7026\n",
      "Epoch 11/20\n",
      "6411/6411 [==============================] - 20s 3ms/step - loss: 0.6793 - val_loss: 0.7022\n",
      "Epoch 12/20\n",
      "6411/6411 [==============================] - 19s 3ms/step - loss: 0.6707 - val_loss: 0.7066\n",
      "Epoch 13/20\n",
      "6411/6411 [==============================] - 20s 3ms/step - loss: 0.6639 - val_loss: 0.7016\n",
      "Epoch 14/20\n",
      "6411/6411 [==============================] - 20s 3ms/step - loss: 0.6524 - val_loss: 0.7002\n",
      "Epoch 15/20\n",
      "6411/6411 [==============================] - 18s 3ms/step - loss: 0.6438 - val_loss: 0.7015\n",
      "Epoch 16/20\n",
      "6411/6411 [==============================] - 18s 3ms/step - loss: 0.6337 - val_loss: 0.7040\n",
      "Epoch 17/20\n",
      "6411/6411 [==============================] - 18s 3ms/step - loss: 0.6259 - val_loss: 0.7020\n",
      "Epoch 18/20\n",
      "6411/6411 [==============================] - 18s 3ms/step - loss: 0.6169 - val_loss: 0.7130\n",
      "Epoch 19/20\n",
      "6411/6411 [==============================] - 19s 3ms/step - loss: 0.6073 - val_loss: 0.7117\n",
      "Epoch 20/20\n",
      "6411/6411 [==============================] - 18s 3ms/step - loss: 0.5980 - val_loss: 0.7229\n"
     ]
    }
   ],
   "source": [
    "##Modelo 2 para optimizar utilizando Dropout \n",
    "##Aumentamos Dropout a 30\n",
    "embedding_vector = 128\n",
    "model = Sequential()\n",
    "model.add(Embedding(input_dim=n_lemmas, output_dim=embedding_vector, input_length=30))\n",
    "model.add(LSTM(units=100,return_sequences=True)) #or recurrent_dropout=0.2\n",
    "model.add(Dropout(0.3))\n",
    "model.add(Dense(n_labels, activation='softmax'))\n",
    "model.compile(loss='categorical_crossentropy', optimizer='adam')\n",
    "model.compile(loss='categorical_crossentropy', optimizer='adam')\n",
    "history111=model.fit(X_train, y_train, validation_data=(X_test, y_test), epochs=20, batch_size=128)\n",
    "##Aumentamos Dropout a 40\n",
    "embedding_vector = 128\n",
    "model = Sequential()\n",
    "model.add(Embedding(input_dim=n_lemmas, output_dim=embedding_vector, input_length=30))\n",
    "model.add(LSTM(units=100,return_sequences=True)) #or recurrent_dropout=0.2\n",
    "model.add(Dropout(0.4))\n",
    "model.add(Dense(n_labels, activation='softmax'))\n",
    "model.compile(loss='categorical_crossentropy', optimizer='adam')\n",
    "model.compile(loss='categorical_crossentropy', optimizer='adam')\n",
    "history112=model.fit(X_train, y_train, validation_data=(X_test, y_test), epochs=20, batch_size=128)\n",
    "##Aumentamos Dropout a 50\n",
    "embedding_vector = 128\n",
    "model = Sequential()\n",
    "model.add(Embedding(input_dim=n_lemmas, output_dim=embedding_vector, input_length=30))\n",
    "model.add(LSTM(units=100,return_sequences=True)) #or recurrent_dropout=0.2\n",
    "model.add(Dropout(0.5))\n",
    "model.add(Dense(n_labels, activation='softmax'))\n",
    "model.compile(loss='categorical_crossentropy', optimizer='adam')\n",
    "model.compile(loss='categorical_crossentropy', optimizer='adam')\n",
    "history113=model.fit(X_train, y_train, validation_data=(X_test, y_test), epochs=20, batch_size=128)\n",
    "model.summary()"
   ]
  },
  {
   "cell_type": "code",
   "execution_count": 116,
   "metadata": {},
   "outputs": [
    {
     "data": {
      "text/plain": [
       "Text(0.5, 0, 'Epochs')"
      ]
     },
     "execution_count": 116,
     "metadata": {},
     "output_type": "execute_result"
    },
    {
     "data": {
      "image/png": "[encoded data removed]",
      "text/plain": [
       "<Figure size 864x576 with 1 Axes>"
      ]
     },
     "metadata": {
      "needs_background": "light"
     },
     "output_type": "display_data"
    }
   ],
   "source": [
    "plt.figure(1,figsize=(12,8))\n",
    "plt.plot(history111.history['val_loss'])\n",
    "plt.plot(history111.history['loss'])\n",
    "plt.plot(history112.history['val_loss'])\n",
    "plt.plot(history112.history['loss'])\n",
    "plt.plot(history113.history['val_loss'])\n",
    "plt.plot(history113.history['loss'])\n",
    "plt.legend(('Val_Loss-1', 'Loss-1','Val_Loss-2', 'Loss-2','Val_Loss-3', 'Loss-3' ))\n",
    "plt.title('Modelo 2')\n",
    "plt.ylabel('Loss')\n",
    "plt.xlabel('Epochs')"
   ]
  },
  {
   "cell_type": "markdown",
   "metadata": {},
   "source": [
    "Comparando el comportamiento del Dropout desde 20% hasta 50% vemos que no hay una diferencia notable, pero si como se indicaba en el ejercicio el mejor resultado es con el parametro de 0.2 Sin embargo comparandolo con el primer modelo no logra superarlo."
   ]
  },
  {
   "cell_type": "code",
   "execution_count": 114,
   "metadata": {},
   "outputs": [
    {
     "name": "stdout",
     "output_type": "stream",
     "text": [
      "_________________________________________________________________\n",
      "Layer (type)                 Output Shape              Param #   \n",
      "=================================================================\n",
      "embedding_41 (Embedding)     (None, 30, 128)           1345024   \n",
      "_________________________________________________________________\n",
      "bidirectional_9 (Bidirection (None, 30, 100)           183200    \n",
      "_________________________________________________________________\n",
      "dropout_7 (Dropout)          (None, 30, 100)           0         \n",
      "_________________________________________________________________\n",
      "dense_39 (Dense)             (None, 30, 17)            1717      \n",
      "_________________________________________________________________\n",
      "dense_40 (Dense)             (None, 30, 17)            306       \n",
      "=================================================================\n",
      "Total params: 1,530,247\n",
      "Trainable params: 1,530,247\n",
      "Non-trainable params: 0\n",
      "_________________________________________________________________\n",
      "Train on 6411 samples, validate on 2748 samples\n",
      "Epoch 1/20\n",
      "6411/6411 [==============================] - 38s 6ms/step - loss: 2.4623 - val_loss: 2.2920\n",
      "Epoch 2/20\n",
      "6411/6411 [==============================] - 26s 4ms/step - loss: 2.2118 - val_loss: 2.1235\n",
      "Epoch 3/20\n",
      "6411/6411 [==============================] - 25s 4ms/step - loss: 2.0470 - val_loss: 1.9661\n",
      "Epoch 4/20\n",
      "6411/6411 [==============================] - 29s 4ms/step - loss: 1.8978 - val_loss: 1.8248\n",
      "Epoch 5/20\n",
      "6411/6411 [==============================] - 26s 4ms/step - loss: 1.7629 - val_loss: 1.6964\n",
      "Epoch 6/20\n",
      "6411/6411 [==============================] - 25s 4ms/step - loss: 1.6404 - val_loss: 1.5800\n",
      "Epoch 7/20\n",
      "6411/6411 [==============================] - 25s 4ms/step - loss: 1.5296 - val_loss: 1.4749\n",
      "Epoch 8/20\n",
      "6411/6411 [==============================] - 25s 4ms/step - loss: 1.4300 - val_loss: 1.3810\n",
      "Epoch 9/20\n",
      "6411/6411 [==============================] - 25s 4ms/step - loss: 1.3413 - val_loss: 1.2977\n",
      "Epoch 10/20\n",
      "6411/6411 [==============================] - 25s 4ms/step - loss: 1.2629 - val_loss: 1.2243\n",
      "Epoch 11/20\n",
      "6411/6411 [==============================] - 25s 4ms/step - loss: 1.1941 - val_loss: 1.1602\n",
      "Epoch 12/20\n",
      "6411/6411 [==============================] - 27s 4ms/step - loss: 1.1343 - val_loss: 1.1047\n",
      "Epoch 13/20\n",
      "6411/6411 [==============================] - 25s 4ms/step - loss: 1.0825 - val_loss: 1.0567\n",
      "Epoch 14/20\n",
      "6411/6411 [==============================] - 25s 4ms/step - loss: 1.0378 - val_loss: 1.0153\n",
      "Epoch 15/20\n",
      "6411/6411 [==============================] - 25s 4ms/step - loss: 0.9994 - val_loss: 0.9798\n",
      "Epoch 16/20\n",
      "6411/6411 [==============================] - 26s 4ms/step - loss: 0.9665 - val_loss: 0.9495\n",
      "Epoch 17/20\n",
      "6411/6411 [==============================] - 26s 4ms/step - loss: 0.9383 - val_loss: 0.9234\n",
      "Epoch 18/20\n",
      "6411/6411 [==============================] - 25s 4ms/step - loss: 0.9141 - val_loss: 0.9012\n",
      "Epoch 19/20\n",
      "6411/6411 [==============================] - 26s 4ms/step - loss: 0.8934 - val_loss: 0.8820\n",
      "Epoch 20/20\n",
      "6411/6411 [==============================] - 26s 4ms/step - loss: 0.8756 - val_loss: 0.8655\n",
      "_________________________________________________________________\n",
      "Layer (type)                 Output Shape              Param #   \n",
      "=================================================================\n",
      "embedding_42 (Embedding)     (None, 30, 128)           1345024   \n",
      "_________________________________________________________________\n",
      "bidirectional_10 (Bidirectio (None, 30, 100)           183200    \n",
      "_________________________________________________________________\n",
      "dropout_8 (Dropout)          (None, 30, 100)           0         \n",
      "_________________________________________________________________\n",
      "dense_41 (Dense)             (None, 30, 17)            1717      \n",
      "_________________________________________________________________\n",
      "dense_42 (Dense)             (None, 30, 17)            306       \n",
      "_________________________________________________________________\n",
      "dense_43 (Dense)             (None, 30, 17)            306       \n",
      "=================================================================\n",
      "Total params: 1,530,553\n",
      "Trainable params: 1,530,553\n",
      "Non-trainable params: 0\n",
      "_________________________________________________________________\n",
      "Train on 6411 samples, validate on 2748 samples\n",
      "Epoch 1/20\n",
      "6411/6411 [==============================] - 38s 6ms/step - loss: 2.7843 - val_loss: 2.6875\n",
      "Epoch 2/20\n",
      "6411/6411 [==============================] - 30s 5ms/step - loss: 2.6029 - val_loss: 2.5112\n",
      "Epoch 3/20\n",
      "6411/6411 [==============================] - 27s 4ms/step - loss: 2.4264 - val_loss: 2.3358\n",
      "Epoch 4/20\n",
      "6411/6411 [==============================] - 24s 4ms/step - loss: 2.2546 - val_loss: 2.1674\n",
      "Epoch 5/20\n",
      "6411/6411 [==============================] - 24s 4ms/step - loss: 2.0892 - val_loss: 2.0053\n",
      "Epoch 6/20\n",
      "6411/6411 [==============================] - 24s 4ms/step - loss: 1.9311 - val_loss: 1.8514\n",
      "Epoch 7/20\n",
      "6411/6411 [==============================] - 23s 4ms/step - loss: 1.7817 - val_loss: 1.7075\n",
      "Epoch 8/20\n",
      "6411/6411 [==============================] - 23s 4ms/step - loss: 1.6436 - val_loss: 1.5755\n",
      "Epoch 9/20\n",
      "6411/6411 [==============================] - 22s 3ms/step - loss: 1.5183 - val_loss: 1.4573\n",
      "Epoch 10/20\n",
      "6411/6411 [==============================] - 23s 4ms/step - loss: 1.4067 - val_loss: 1.3528\n",
      "Epoch 11/20\n",
      "6411/6411 [==============================] - 24s 4ms/step - loss: 1.3089 - val_loss: 1.2620\n",
      "Epoch 12/20\n",
      "6411/6411 [==============================] - 23s 4ms/step - loss: 1.2245 - val_loss: 1.1843\n",
      "Epoch 13/20\n",
      "6411/6411 [==============================] - 24s 4ms/step - loss: 1.1525 - val_loss: 1.1180\n",
      "Epoch 14/20\n",
      "6411/6411 [==============================] - 24s 4ms/step - loss: 1.0914 - val_loss: 1.0621\n",
      "Epoch 15/20\n",
      "6411/6411 [==============================] - 24s 4ms/step - loss: 1.0399 - val_loss: 1.0150\n",
      "Epoch 16/20\n",
      "6411/6411 [==============================] - 25s 4ms/step - loss: 0.9967 - val_loss: 0.9756\n",
      "Epoch 17/20\n",
      "6411/6411 [==============================] - 25s 4ms/step - loss: 0.9604 - val_loss: 0.9424\n",
      "Epoch 18/20\n",
      "6411/6411 [==============================] - 22s 3ms/step - loss: 0.9300 - val_loss: 0.9146\n",
      "Epoch 19/20\n",
      "6411/6411 [==============================] - 22s 3ms/step - loss: 0.9045 - val_loss: 0.8913\n",
      "Epoch 20/20\n",
      "6411/6411 [==============================] - 22s 3ms/step - loss: 0.8830 - val_loss: 0.8716\n",
      "_________________________________________________________________\n",
      "Layer (type)                 Output Shape              Param #   \n",
      "=================================================================\n",
      "embedding_43 (Embedding)     (None, 30, 128)           1345024   \n",
      "_________________________________________________________________\n",
      "bidirectional_11 (Bidirectio (None, 30, 100)           183200    \n",
      "_________________________________________________________________\n",
      "dropout_9 (Dropout)          (None, 30, 100)           0         \n",
      "_________________________________________________________________\n",
      "dense_44 (Dense)             (None, 30, 17)            1717      \n",
      "_________________________________________________________________\n",
      "dense_45 (Dense)             (None, 30, 17)            306       \n",
      "_________________________________________________________________\n",
      "dense_46 (Dense)             (None, 30, 17)            306       \n",
      "_________________________________________________________________\n",
      "dense_47 (Dense)             (None, 30, 17)            306       \n",
      "=================================================================\n",
      "Total params: 1,530,859\n",
      "Trainable params: 1,530,859\n",
      "Non-trainable params: 0\n",
      "_________________________________________________________________\n",
      "Train on 6411 samples, validate on 2748 samples\n",
      "Epoch 1/20\n",
      "6411/6411 [==============================] - 34s 5ms/step - loss: 2.7455 - val_loss: 2.6546\n",
      "Epoch 2/20\n",
      "6411/6411 [==============================] - 23s 4ms/step - loss: 2.5726 - val_loss: 2.4846\n",
      "Epoch 3/20\n",
      "6411/6411 [==============================] - 23s 4ms/step - loss: 2.4047 - val_loss: 2.3188\n",
      "Epoch 4/20\n",
      "6411/6411 [==============================] - 23s 4ms/step - loss: 2.2411 - val_loss: 2.1575\n",
      "Epoch 5/20\n",
      "6411/6411 [==============================] - 23s 4ms/step - loss: 2.0823 - val_loss: 2.0016\n"
     ]
    },
    {
     "name": "stdout",
     "output_type": "stream",
     "text": [
      "Epoch 6/20\n",
      "6411/6411 [==============================] - 23s 4ms/step - loss: 1.9299 - val_loss: 1.8530\n",
      "Epoch 7/20\n",
      "6411/6411 [==============================] - 23s 4ms/step - loss: 1.7855 - val_loss: 1.7131\n",
      "Epoch 8/20\n",
      "6411/6411 [==============================] - 23s 4ms/step - loss: 1.6503 - val_loss: 1.5832\n",
      "Epoch 9/20\n",
      "6411/6411 [==============================] - 23s 4ms/step - loss: 1.5261 - val_loss: 1.4651\n",
      "Epoch 10/20\n",
      "6411/6411 [==============================] - 23s 4ms/step - loss: 1.4143 - val_loss: 1.3598\n",
      "Epoch 11/20\n",
      "6411/6411 [==============================] - 23s 4ms/step - loss: 1.3154 - val_loss: 1.2676\n",
      "Epoch 12/20\n",
      "6411/6411 [==============================] - 23s 4ms/step - loss: 1.2293 - val_loss: 1.1877\n",
      "Epoch 13/20\n",
      "6411/6411 [==============================] - 23s 4ms/step - loss: 1.1550 - val_loss: 1.1190\n",
      "Epoch 14/20\n",
      "6411/6411 [==============================] - 23s 4ms/step - loss: 1.0911 - val_loss: 1.0602\n",
      "Epoch 15/20\n",
      "6411/6411 [==============================] - 23s 4ms/step - loss: 1.0367 - val_loss: 1.0100\n",
      "Epoch 16/20\n",
      "6411/6411 [==============================] - 23s 4ms/step - loss: 0.9902 - val_loss: 0.9672\n",
      "Epoch 17/20\n",
      "6411/6411 [==============================] - 23s 4ms/step - loss: 0.9507 - val_loss: 0.9310\n",
      "Epoch 18/20\n",
      "6411/6411 [==============================] - 23s 4ms/step - loss: 0.9171 - val_loss: 0.9002\n",
      "Epoch 19/20\n",
      "6411/6411 [==============================] - 23s 4ms/step - loss: 0.8888 - val_loss: 0.8743\n",
      "Epoch 20/20\n",
      "6411/6411 [==============================] - 23s 4ms/step - loss: 0.8651 - val_loss: 0.8527\n"
     ]
    }
   ],
   "source": [
    "## Modelo 3 Red Recurrente Bidireccional utilizando Sum\n",
    "## Añadimos una capa\n",
    "embedding_vector = 128\n",
    "model = Sequential()\n",
    "model.add(Embedding(input_dim=n_lemmas, output_dim=embedding_vector, input_length=30))\n",
    "layer_lstm = LSTM(units=100,return_sequences=True)\n",
    "model.add(Bidirectional(layer_lstm,merge_mode='sum'))\n",
    "model.add(Dropout(0.2))\n",
    "model.add(Dense(n_labels, activation='softmax'))\n",
    "model.add(Dense(n_labels, activation='softmax'))\n",
    "model.summary()\n",
    "model.compile(loss='categorical_crossentropy', optimizer='adam')\n",
    "model.compile(loss='categorical_crossentropy', optimizer='adam')\n",
    "history121=model.fit(X_train, y_train, validation_data=(X_test, y_test), epochs=20, batch_size=128)\n",
    "## Añadimos dos capas\n",
    "embedding_vector = 128\n",
    "model = Sequential()\n",
    "model.add(Embedding(input_dim=n_lemmas, output_dim=embedding_vector, input_length=30))\n",
    "layer_lstm = LSTM(units=100,return_sequences=True)\n",
    "model.add(Bidirectional(layer_lstm,merge_mode='sum'))\n",
    "model.add(Dropout(0.2))\n",
    "model.add(Dense(n_labels, activation='softmax'))\n",
    "model.add(Dense(n_labels, activation='softmax'))\n",
    "model.add(Dense(n_labels, activation='softmax'))\n",
    "model.summary()\n",
    "model.compile(loss='categorical_crossentropy', optimizer='adam')\n",
    "model.compile(loss='categorical_crossentropy', optimizer='adam')\n",
    "history122=model.fit(X_train, y_train, validation_data=(X_test, y_test), epochs=20, batch_size=128)\n",
    "## Añadimos tres capas\n",
    "embedding_vector = 128\n",
    "model = Sequential()\n",
    "model.add(Embedding(input_dim=n_lemmas, output_dim=embedding_vector, input_length=30))\n",
    "layer_lstm = LSTM(units=100,return_sequences=True)\n",
    "model.add(Bidirectional(layer_lstm,merge_mode='sum'))\n",
    "model.add(Dropout(0.2))\n",
    "model.add(Dense(n_labels, activation='softmax'))\n",
    "model.add(Dense(n_labels, activation='softmax'))\n",
    "model.add(Dense(n_labels, activation='softmax'))\n",
    "model.add(Dense(n_labels, activation='softmax'))\n",
    "model.summary()\n",
    "model.compile(loss='categorical_crossentropy', optimizer='adam')\n",
    "model.compile(loss='categorical_crossentropy', optimizer='adam')\n",
    "history123=model.fit(X_train, y_train, validation_data=(X_test, y_test), epochs=20, batch_size=128)"
   ]
  },
  {
   "cell_type": "markdown",
   "metadata": {},
   "source": [
    "En este modelo vamos a añadir mas profundidad a la red, ademas de añadir un Dropout de 20 en la primera capa y con un embedding de 128, casi que seria un resumen de los mejores modelos pero modificando la profundidad para poder observar si efectivamente al tener mas capas podemos representar mejor las caracteristicas del modelo\n"
   ]
  },
  {
   "cell_type": "code",
   "execution_count": 117,
   "metadata": {},
   "outputs": [
    {
     "data": {
      "text/plain": [
       "Text(0.5, 0, 'Epochs')"
      ]
     },
     "execution_count": 117,
     "metadata": {},
     "output_type": "execute_result"
    },
    {
     "data": {
      "image/png": "[encoded data removed]",
      "text/plain": [
       "<Figure size 864x576 with 1 Axes>"
      ]
     },
     "metadata": {
      "needs_background": "light"
     },
     "output_type": "display_data"
    }
   ],
   "source": [
    "plt.figure(1,figsize=(12,8))\n",
    "plt.plot(history121.history['val_loss'])\n",
    "plt.plot(history121.history['loss'])\n",
    "plt.plot(history122.history['val_loss'])\n",
    "plt.plot(history122.history['loss'])\n",
    "plt.plot(history123.history['val_loss'])\n",
    "plt.plot(history123.history['loss'])\n",
    "plt.legend(('Val_Loss-1', 'Loss-1','Val_Loss-2', 'Loss-2','Val_Loss-3', 'Loss-3' ))\n",
    "plt.title('Modelo 3')\n",
    "plt.ylabel('Loss')\n",
    "plt.xlabel('Epochs')"
   ]
  },
  {
   "cell_type": "markdown",
   "metadata": {},
   "source": [
    "Analizando las graficas tienen un comportamiento muy interesante, obviamente tiene el peor rendimiento visto no solo en los modelos a optimizar, si no en todos los demas, esto nos indica que en este tipo de aplicación es necesario un modelo Shallow que un Deep, por que teoricamente con el conjunto de modificaciónes que se utilizaron deberiamos si fuera optimo un módelo Deep, ptero comprobamos todo lo contrario."
   ]
  },
  {
   "cell_type": "markdown",
   "metadata": {},
   "source": [
    "<b>El mejor modelo encontrado es aumentando el numero de neuronas, con 128 Embeddings, es el modelo que vamos a evaluar en los siguientes items</b>"
   ]
  },
  {
   "cell_type": "markdown",
   "metadata": {},
   "source": [
    "l) Utilice la red entranda anteriormente, **se espera que sea la mejor de esta sección**, y **muestre las predicciones**, el *NER tager*, sobre algún ejemplo de pruebas, comente. "
   ]
  },
  {
   "cell_type": "code",
   "execution_count": 120,
   "metadata": {},
   "outputs": [
    {
     "name": "stdout",
     "output_type": "stream",
     "text": [
      "_________________________________________________________________\n",
      "Layer (type)                 Output Shape              Param #   \n",
      "=================================================================\n",
      "embedding_45 (Embedding)     (None, 30, 128)           1345024   \n",
      "_________________________________________________________________\n",
      "lstm_45 (LSTM)               (None, 30, 500)           1258000   \n",
      "_________________________________________________________________\n",
      "dense_49 (Dense)             (None, 30, 17)            8517      \n",
      "=================================================================\n",
      "Total params: 2,611,541\n",
      "Trainable params: 2,611,541\n",
      "Non-trainable params: 0\n",
      "_________________________________________________________________\n",
      "Train on 6411 samples, validate on 2748 samples\n",
      "Epoch 1/20\n",
      "6411/6411 [==============================] - 96s 15ms/step - loss: 1.1510 - val_loss: 0.7951\n",
      "Epoch 2/20\n",
      "6411/6411 [==============================] - 87s 14ms/step - loss: 0.7699 - val_loss: 0.7672\n",
      "Epoch 3/20\n",
      "6411/6411 [==============================] - 88s 14ms/step - loss: 0.7441 - val_loss: 0.7588\n",
      "Epoch 4/20\n",
      "6411/6411 [==============================] - 88s 14ms/step - loss: 0.7254 - val_loss: 0.7702\n",
      "Epoch 5/20\n",
      "6411/6411 [==============================] - 87s 14ms/step - loss: 0.7118 - val_loss: 0.7747\n",
      "Epoch 6/20\n",
      "6411/6411 [==============================] - 87s 14ms/step - loss: 0.6909 - val_loss: 0.7521\n",
      "Epoch 7/20\n",
      "6411/6411 [==============================] - 87s 14ms/step - loss: 0.6757 - val_loss: 0.7487\n",
      "Epoch 8/20\n",
      "6411/6411 [==============================] - 87s 14ms/step - loss: 0.6682 - val_loss: 0.7347\n",
      "Epoch 9/20\n",
      "6411/6411 [==============================] - 87s 14ms/step - loss: 0.6577 - val_loss: 0.7288\n",
      "Epoch 10/20\n",
      "6411/6411 [==============================] - 86s 13ms/step - loss: 0.6473 - val_loss: 0.7080\n",
      "Epoch 11/20\n",
      "6411/6411 [==============================] - 86s 13ms/step - loss: 0.6348 - val_loss: 0.7106\n",
      "Epoch 12/20\n",
      "6411/6411 [==============================] - 86s 13ms/step - loss: 0.6209 - val_loss: 0.7256\n",
      "Epoch 13/20\n",
      "6411/6411 [==============================] - 86s 13ms/step - loss: 0.6068 - val_loss: 0.7132\n",
      "Epoch 14/20\n",
      "6411/6411 [==============================] - 86s 13ms/step - loss: 0.5890 - val_loss: 0.6959\n",
      "Epoch 15/20\n",
      "6411/6411 [==============================] - 86s 13ms/step - loss: 0.5697 - val_loss: 0.7263\n",
      "Epoch 16/20\n",
      "6411/6411 [==============================] - 86s 13ms/step - loss: 0.5585 - val_loss: 0.7008\n",
      "Epoch 17/20\n",
      "6411/6411 [==============================] - 86s 13ms/step - loss: 0.5394 - val_loss: 0.7092\n",
      "Epoch 18/20\n",
      "6411/6411 [==============================] - 86s 13ms/step - loss: 0.5273 - val_loss: 0.7131\n",
      "Epoch 19/20\n",
      "6411/6411 [==============================] - 82s 13ms/step - loss: 0.5184 - val_loss: 0.7076\n",
      "Epoch 20/20\n",
      "6411/6411 [==============================] - 79s 12ms/step - loss: 0.5060 - val_loss: 0.7438\n"
     ]
    }
   ],
   "source": [
    "##Aumentando neuronas\n",
    "embedding_vector = 128\n",
    "model = Sequential()\n",
    "model.add(Embedding(input_dim=n_lemmas, output_dim=embedding_vector, input_length=30))\n",
    "model.add(LSTM(units=500,return_sequences=True))\n",
    "model.add(Dense(n_labels, activation='softmax'))\n",
    "model.summary()\n",
    "model.compile(loss='categorical_crossentropy', optimizer='adam')\n",
    "historyeva=model.fit(X_train, y_train, validation_data=(X_test, y_test), epochs=20, batch_size=128)\n",
    "    "
   ]
  },
  {
   "cell_type": "code",
   "execution_count": 126,
   "metadata": {},
   "outputs": [
    {
     "name": "stdout",
     "output_type": "stream",
     "text": [
      "Lemma          : Pred\n"
     ]
    }
   ],
   "source": [
    "p = model.predict(np.array([X_test[1]]))\n",
    "p = np.argmax(p, axis=-1)\n",
    "print(\"{:15}: {}\".format(\"Lemma\", \"Pred\"))\n"
   ]
  },
  {
   "cell_type": "code",
   "execution_count": 127,
   "metadata": {},
   "outputs": [
    {
     "ename": "TypeError",
     "evalue": "'set' object does not support indexing",
     "output_type": "error",
     "traceback": [
      "\u001b[1;31m---------------------------------------------------------------------------\u001b[0m",
      "\u001b[1;31mTypeError\u001b[0m                                 Traceback (most recent call last)",
      "\u001b[1;32m<ipython-input-127-eec89d88c0e4>\u001b[0m in \u001b[0;36m<module>\u001b[1;34m\u001b[0m\n\u001b[0;32m      1\u001b[0m \u001b[1;32mfor\u001b[0m \u001b[0mw\u001b[0m\u001b[1;33m,\u001b[0m\u001b[0mpred\u001b[0m \u001b[1;32min\u001b[0m \u001b[0mzip\u001b[0m\u001b[1;33m(\u001b[0m\u001b[0mX_test\u001b[0m\u001b[1;33m[\u001b[0m\u001b[1;36m1\u001b[0m\u001b[1;33m]\u001b[0m\u001b[1;33m,\u001b[0m\u001b[0mp\u001b[0m\u001b[1;33m[\u001b[0m\u001b[1;36m0\u001b[0m\u001b[1;33m]\u001b[0m\u001b[1;33m)\u001b[0m\u001b[1;33m:\u001b[0m\u001b[1;33m\u001b[0m\u001b[0m\n\u001b[1;32m----> 2\u001b[1;33m     \u001b[0mprint\u001b[0m\u001b[1;33m(\u001b[0m\u001b[1;34m\"{:15}: {}\"\u001b[0m\u001b[1;33m.\u001b[0m\u001b[0mformat\u001b[0m\u001b[1;33m(\u001b[0m\u001b[0mlemmas\u001b[0m\u001b[1;33m[\u001b[0m\u001b[0mw\u001b[0m\u001b[1;33m]\u001b[0m\u001b[1;33m,\u001b[0m\u001b[0mlabels\u001b[0m\u001b[1;33m[\u001b[0m\u001b[0mpred\u001b[0m\u001b[1;33m]\u001b[0m\u001b[1;33m)\u001b[0m\u001b[1;33m)\u001b[0m\u001b[1;33m\u001b[0m\u001b[0m\n\u001b[0m",
      "\u001b[1;31mTypeError\u001b[0m: 'set' object does not support indexing"
     ]
    }
   ],
   "source": [
    "for w,pred in zip(X_test[1],p[0]):\n",
    "    print(\"{:15}: {}\".format(lemmas[w],labels[pred]))"
   ]
  },
  {
   "cell_type": "markdown",
   "metadata": {},
   "source": [
    "m) **Carge las palabras del dataset** ¿Por qué no los *lemmas*? y cree el corpus con el cual se trabajará, además de crear la codificación de caracteres a números. Esto se presenta en el código a continuación además de crear la estrucutura de los datos con los que se va a trabajar (sub sentencias del corpus original). **Utilice el tamaño del *corpus* que le acomode a la memoria de su computador**."
   ]
  },
  {
   "cell_type": "code",
   "execution_count": null,
   "metadata": {},
   "outputs": [],
   "source": [
    "dataset = df_ner.loc[:,[\"word\",\"lemma\"]]\n",
    "text = ' '.join(dataset[\"word\"]).lower() #corpus\n",
    "null_character = \"*\"\n",
    "chars = [null_character]+sorted(list(set(text)))\n",
    "print('total chars:', len(chars))\n",
    "char_indices = {c: i for i, c in enumerate(chars)}\n",
    "indices_char = {i: c for i, c in enumerate(chars)}\n",
    "maxlen = 40 # cut the text in semi-redundant sequences of maxlen characters\n",
    "step = 5 \n",
    "sentences = []\n",
    "next_chars = []\n",
    "size = int(len(text)*0.2) #solo un 20% del corpus\n",
    "for i in range(0, size - maxlen, step):\n",
    "    sentences.append(null_character+text[i: i + maxlen])\n",
    "    next_chars.append(text[i + maxlen])\n",
    "print('nb sequences:', len(sentences))"
   ]
  },
  {
   "cell_type": "markdown",
   "metadata": {},
   "source": [
    "n) **Procese las sentencias para así tenerlas codificadas en números que van a representar los carácteres**, tal cual se realizó en c) con los *lemmas*, **lo mismo para las etiquetas**. Además de esto deberá realizar el *padding* correspondiente al comienzo de la sentencia, esto es para que la red aprenda cuando venga una frase mas corta de lo entrenado, este símbolo siignificará que no hay información. **Transforme las etiquetas a *one hot vector*** como se realizó en c) y **defina la red** similar a la presentada en f), con un *embedding* seguido de una capa recurrente GRU y la capa de clasificación. Aprovechese de la implementación más rápida de GRU respaldada por __[CuDNN](https://developer.nvidia.com/cudnn)__, una librería de CUDA (NVIDIA)[[2]](#refs) para *Deep Neural Network*. "
   ]
  },
  {
   "cell_type": "code",
   "execution_count": null,
   "metadata": {},
   "outputs": [],
   "source": [
    "dataX = [[char_indices[char] for char in sentence ] for sentence in sentences]\n",
    "dataY = [char_indices[char] for char in next_chars]\n",
    "...#dataX pad sequence padding='pre'\n",
    "...#dataY to categorical with num_classes=len(chars)\n",
    "from keras.layers import CuDNNGRU,GRU\n",
    "embedding_vector = 16\n",
    "model = Sequential()\n",
    "model.add(Embedding(input_dim=len(chars), output_dim=embedding_vector, input_length=maxlen+1))#\n",
    "model.add(CuDNNGRU(units=512,return_sequences=False)) #or GRU\n",
    "model.add(Dropout(0.2))\n",
    "model.add(Dense(len(chars), activation='softmax'))\n",
    "model.compile(loss='categorical_crossentropy', optimizer='adam', metrics=['accuracy'])"
   ]
  },
  {
   "cell_type": "markdown",
   "metadata": {},
   "source": [
    "o) Entrene la red con las funciones que se presentan a continuación que mostrarán el cómo va la tarea de autocompletar texto en cada *epoch*, generando una sentencia completa de 400 carácteres *aleatoriamente* a partir de una semilla *random*. Entrene solo durante 25 *epochs*, a los 15 ya debería comenzar a generar palabras y sonar mas coherente **¿Cuál es la técnica para predecir el siguiente carácter?**"
   ]
  },
  {
   "cell_type": "code",
   "execution_count": null,
   "metadata": {},
   "outputs": [],
   "source": [
    "def predict_next_char(model, sentence):\n",
    "    \"\"\"Predict the next character from the current one\"\"\"    \n",
    "    x_pred = [char_indices[null_character]]+[char_indices[char] for char in sentence]\n",
    "    x_pred = sequence.pad_sequences([x_pred], maxlen=maxlen+1,padding='pre',value=char_indices[null_character])\n",
    "    preds = model.predict(x_pred, verbose=0)[0]\n",
    "    next_index = np.random.choice(len(chars), p=preds) #take a sample\n",
    "    return indices_char[next_index]\n",
    "\n",
    "def on_epoch_end(epoch, logs):\n",
    "    \"\"\"Function invoked at end of each epoch. Prints generated text.\"\"\"\n",
    "    print('\\n----- Generating text after Epoch: %d' % epoch)\n",
    "    start_index = random.randint(0, size - maxlen - 1)\n",
    "    sentence = text[start_index: start_index + maxlen]\n",
    "    print('----- Generating with seed: \"' + sentence + '\"')\n",
    "    sys.stdout.write(sentence)\n",
    "    for i in range(400):\n",
    "        next_char = predict_next_char(model, sentence0)\n",
    "        sentence = sentence[1:] + next_char #for next character\n",
    "        sys.stdout.write(next_char)\n",
    "        sys.stdout.flush()\n",
    "    return\n",
    "\n",
    "print_callback = LambdaCallback(on_epoch_end=on_epoch_end)\n",
    "model.fit(X, y,batch_size=256,epochs=25, callbacks=[print_callback])"
   ]
  },
  {
   "cell_type": "markdown",
   "metadata": {},
   "source": [
    "p) Verifique la calidad de la red entrenada, cargando el modelo si es que lo guardó o directamente, entregando una predicción sobre una semilla inicial que usted entregue. **Observe y comente cualitativamente sobre qué pasa cuando la predicción del siguiente carácter fuese de manera determinista, tomando el máximo valor de entre las predicciones.**"
   ]
  },
  {
   "cell_type": "code",
   "execution_count": null,
   "metadata": {},
   "outputs": [],
   "source": [
    "sentence = \"it is \"\n",
    "print('----- Generating with seed: \"' + sentence + '\"')\n",
    "sys.stdout.write(sentence)\n",
    "for i in range(400):\n",
    "    next_char = predict_next_char(model, sentence)\n",
    "    sentence = sentence[1:] + next_char \n",
    "    sys.stdout.write(next_char)\n",
    "    sys.stdout.flush()"
   ]
  }
 ],
 "metadata": {
  "accelerator": "GPU",
  "colab": {
   "name": "PUNTO1.ipynb",
   "provenance": [],
   "version": "0.3.2"
  },
  "kernelspec": {
   "display_name": "Python 3",
   "language": "python",
   "name": "python3"
  },
  "language_info": {
   "codemirror_mode": {
    "name": "ipython",
    "version": 3
   },
   "file_extension": ".py",
   "mimetype": "text/x-python",
   "name": "python",
   "nbconvert_exporter": "python",
   "pygments_lexer": "ipython3",
   "version": "3.6.6"
  }
 },
 "nbformat": 4,
 "nbformat_minor": 1
}
